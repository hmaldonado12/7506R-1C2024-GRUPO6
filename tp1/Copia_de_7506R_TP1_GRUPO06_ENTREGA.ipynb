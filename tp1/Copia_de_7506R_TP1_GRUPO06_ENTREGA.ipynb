{
 "nbformat": 4,
 "nbformat_minor": 0,
 "metadata": {
  "colab": {
   "provenance": [],
   "authorship_tag": "ABX9TyP0rgSQXbJm1s9zJwwH5LXP",
   "include_colab_link": true
  },
  "kernelspec": {
   "name": "python3",
   "language": "python",
   "display_name": "Python 3 (ipykernel)"
  },
  "language_info": {
   "name": "python"
  }
 },
 "cells": [
  {
   "cell_type": "markdown",
   "metadata": {
    "id": "view-in-github",
    "colab_type": "text"
   },
   "source": [
    "<a href=\"https://colab.research.google.com/github/hmaldonado12/7506R-1C2024-GRUPO6/blob/main/Copia_de_7506R_TP1_GRUPO06_ENTREGA.ipynb\" target=\"_parent\"><img src=\"https://colab.research.google.com/assets/colab-badge.svg\" alt=\"Open In Colab\"/></a>"
   ]
  },
  {
   "cell_type": "markdown",
   "source": [
    "## **1. Análisis Exploratorio y Preprocesamiento de Datos**\n",
    "El primer paso consiste en la selección de los datos que se van a utilizar, se deben filtrar\n",
    "únicamente los anuncios de propiedades de tipo vivienda ( Casa, PH y Departamento ) ubicados\n",
    "en Capital Federal cuyo tipo de operación sea venta y su precio se encuentre en dólares (USD).\n",
    "Se debe separar un conjunto de entrenamiento (80%) y un conjunto de test (20%)."
   ],
   "metadata": {
    "id": "N9rAuLh9Fj7f"
   }
  },
  {
   "cell_type": "markdown",
   "source": [
    "#### **PREPRACION DE LOS DATOS**\n",
    "Crear un nuevo dataset que contemplen los siguientes atributos :\n",
    "- Tipos de vivienda : Casa, Ph Y Departamentos\n",
    "- Moneda de transacción : Dolares (USD)\n",
    "- Ubicacion : Capital Federal"
   ],
   "metadata": {
    "id": "fh2BSG-1Fkwc"
   }
  },
  {
   "cell_type": "markdown",
   "source": [
    "##### **1.1 Mostrar informacion del dataset con los filtros requeridos del enunciado**"
   ],
   "metadata": {
    "id": "fdwIqHMPFli9"
   }
  },
  {
   "cell_type": "code",
   "source": [
    "import pandas as pd\n",
    "properties_argentina = pd.read_csv('../tp1/properati_argentina_2021.csv')\n",
    "\n",
    "attributes_list = [\"property_type\", \"operation\", \"property_currency\", \"place_l2\"]\n",
    "conditions_list = [[\"Casa\", \"PH\",\"Departamento\"],[\"Venta\"],[\"USD\"],[\"Capital Federal\"]]\n",
    "\n",
    "def get_dataframe_by(data, attributes: list, conditions: list):\n",
    "    is_casa = data[attributes[0]] == conditions[0][0]\n",
    "    is_ph = data[attributes[0]] == conditions[0][1]\n",
    "    is_departamento = data[attributes[0]] == conditions[0][2]\n",
    "    is_operation_venta = data[attributes[1]] == conditions[1][0]\n",
    "    is_property_currency_usd = data[attributes[2]] == conditions[2][0]\n",
    "    is_place_l2_capital_federal = data[attributes[3]] == conditions[3][0]\n",
    "    return data[(is_casa | is_ph | is_departamento) & is_operation_venta & is_property_currency_usd & is_place_l2_capital_federal]\n",
    "\n",
    "properties_argentina_filtered = get_dataframe_by(properties_argentina, attributes_list, conditions_list)\n",
    "properties_argentina_filtered.info()"
   ],
   "metadata": {
    "colab": {
     "base_uri": "https://localhost:8080/"
    },
    "id": "QJY9068JGTHE",
    "outputId": "2b9b1b0c-fe5b-4b52-cbbc-f91837aa5946",
    "ExecuteTime": {
     "end_time": "2024-04-06T21:57:11.829189Z",
     "start_time": "2024-04-06T21:57:10.460534Z"
    }
   },
   "execution_count": 2,
   "outputs": [
    {
     "name": "stdout",
     "output_type": "stream",
     "text": [
      "<class 'pandas.core.frame.DataFrame'>\n",
      "Index: 94249 entries, 25 to 460090\n",
      "Data columns (total 20 columns):\n",
      " #   Column                    Non-Null Count  Dtype  \n",
      "---  ------                    --------------  -----  \n",
      " 0   id                        94249 non-null  object \n",
      " 1   start_date                94249 non-null  object \n",
      " 2   end_date                  94249 non-null  object \n",
      " 3   created_on                94249 non-null  object \n",
      " 4   latitud                   90519 non-null  float64\n",
      " 5   longitud                  90519 non-null  float64\n",
      " 6   place_l2                  94249 non-null  object \n",
      " 7   place_l3                  93832 non-null  object \n",
      " 8   place_l4                  3643 non-null   object \n",
      " 9   place_l5                  0 non-null      object \n",
      " 10  place_l6                  0 non-null      float64\n",
      " 11  operation                 94249 non-null  object \n",
      " 12  property_type             94249 non-null  object \n",
      " 13  property_rooms            93205 non-null  float64\n",
      " 14  property_bedrooms         83262 non-null  float64\n",
      " 15  property_surface_total    89405 non-null  float64\n",
      " 16  property_surface_covered  90895 non-null  float64\n",
      " 17  property_price            94249 non-null  float64\n",
      " 18  property_currency         94249 non-null  object \n",
      " 19  property_title            94249 non-null  object \n",
      "dtypes: float64(8), object(12)\n",
      "memory usage: 15.1+ MB\n"
     ]
    }
   ]
  },
  {
   "cell_type": "markdown",
   "source": [
    "## **ENTENDER EL PROBLEMA**\n",
    "El objetivo del tp es poder entrenar un modelo que pueda predecir el valor de venta de un inmueble en cualquier barrio de capital federal.\n",
    "\n",
    "Antes de empezar a crear y entrenar nuestro modelo, es importante realizar las siguientes preguntas :\n",
    "-  ¿ Que tipo de supervision necesitara nuestro modelo ?\n",
    "    \n",
    "    Tarea de aprendizaje de supervision, ya que los datos cuentan con ejemplos etiquetados( Cada instancia viene con una salida esperada, el precio del inmueble)\n",
    "- ¿Que tipo de aprendizaje ?\n",
    "    \n",
    "    En este caso el tipo de aprendizaje es por lotes, ya que no contamos con datos que evolucionen de forma constante\n",
    "- ¿ Que modelo podemos utilizar ?\n",
    "    \n",
    "    Puede ser un modelo de regresion ya que se pide predecir un valor."
   ],
   "metadata": {
    "id": "b_XZlbxbHjph"
   }
  },
  {
   "cell_type": "markdown",
   "source": [
    "### COMPROBACIONES PLANTEADAS EN EL TP\n",
    "Las comprobaciones nos daran un entendimiento mas profundo sobre los datos. Con lo conocimientos de los datos vamos a tener mas criterio para poder limpiar los mismo y poder entrenar el modelo.\n",
    "#### a) Exploración Inicial : analizar cada variable, considerando los siguientes aspectos\n",
    "- Variables Cuantitativas: calcular medidas de resumen: media, mediana,moda,etc"
   ],
   "metadata": {
    "id": "huBeHfymIyTL"
   }
  },
  {
   "cell_type": "code",
   "source": [
    "properties_argentina_filtered.describe()"
   ],
   "metadata": {
    "colab": {
     "base_uri": "https://localhost:8080/",
     "height": 300
    },
    "id": "fQTjJbjkJMWz",
    "outputId": "6491ae82-eb6b-47b3-e6eb-1cc6732115aa",
    "ExecuteTime": {
     "end_time": "2024-04-06T21:57:11.880549Z",
     "start_time": "2024-04-06T21:57:11.830196Z"
    }
   },
   "execution_count": 3,
   "outputs": [
    {
     "data": {
      "text/plain": "            latitud      longitud  place_l6  property_rooms  \\\ncount  90519.000000  90519.000000       0.0    93205.000000   \nmean     -34.591481    -58.449795       NaN        2.822799   \nstd        0.181719      0.292630       NaN        1.426148   \nmin      -53.788624    -71.471192       NaN        1.000000   \n25%      -34.615975    -58.466522       NaN        2.000000   \n50%      -34.595790    -58.439000       NaN        3.000000   \n75%      -34.577413    -58.408862       NaN        4.000000   \nmax      -24.219827    -54.133330       NaN       40.000000   \n\n       property_bedrooms  property_surface_total  property_surface_covered  \\\ncount       83262.000000            89405.000000              90895.000000   \nmean            2.014629              109.092970                 87.931932   \nstd             1.129767              980.401976                990.927129   \nmin            -1.000000               10.000000                  1.000000   \n25%             1.000000               45.000000                 40.000000   \n50%             2.000000               65.000000                 58.000000   \n75%             3.000000              105.000000                 88.000000   \nmax            70.000000           137000.000000             217000.000000   \n\n       property_price  \ncount    9.424900e+04  \nmean     2.262382e+05  \nstd      3.186035e+05  \nmin      5.000000e+03  \n25%      9.500000e+04  \n50%      1.439000e+05  \n75%      2.370000e+05  \nmax      2.140000e+07  ",
      "text/html": "<div>\n<style scoped>\n    .dataframe tbody tr th:only-of-type {\n        vertical-align: middle;\n    }\n\n    .dataframe tbody tr th {\n        vertical-align: top;\n    }\n\n    .dataframe thead th {\n        text-align: right;\n    }\n</style>\n<table border=\"1\" class=\"dataframe\">\n  <thead>\n    <tr style=\"text-align: right;\">\n      <th></th>\n      <th>latitud</th>\n      <th>longitud</th>\n      <th>place_l6</th>\n      <th>property_rooms</th>\n      <th>property_bedrooms</th>\n      <th>property_surface_total</th>\n      <th>property_surface_covered</th>\n      <th>property_price</th>\n    </tr>\n  </thead>\n  <tbody>\n    <tr>\n      <th>count</th>\n      <td>90519.000000</td>\n      <td>90519.000000</td>\n      <td>0.0</td>\n      <td>93205.000000</td>\n      <td>83262.000000</td>\n      <td>89405.000000</td>\n      <td>90895.000000</td>\n      <td>9.424900e+04</td>\n    </tr>\n    <tr>\n      <th>mean</th>\n      <td>-34.591481</td>\n      <td>-58.449795</td>\n      <td>NaN</td>\n      <td>2.822799</td>\n      <td>2.014629</td>\n      <td>109.092970</td>\n      <td>87.931932</td>\n      <td>2.262382e+05</td>\n    </tr>\n    <tr>\n      <th>std</th>\n      <td>0.181719</td>\n      <td>0.292630</td>\n      <td>NaN</td>\n      <td>1.426148</td>\n      <td>1.129767</td>\n      <td>980.401976</td>\n      <td>990.927129</td>\n      <td>3.186035e+05</td>\n    </tr>\n    <tr>\n      <th>min</th>\n      <td>-53.788624</td>\n      <td>-71.471192</td>\n      <td>NaN</td>\n      <td>1.000000</td>\n      <td>-1.000000</td>\n      <td>10.000000</td>\n      <td>1.000000</td>\n      <td>5.000000e+03</td>\n    </tr>\n    <tr>\n      <th>25%</th>\n      <td>-34.615975</td>\n      <td>-58.466522</td>\n      <td>NaN</td>\n      <td>2.000000</td>\n      <td>1.000000</td>\n      <td>45.000000</td>\n      <td>40.000000</td>\n      <td>9.500000e+04</td>\n    </tr>\n    <tr>\n      <th>50%</th>\n      <td>-34.595790</td>\n      <td>-58.439000</td>\n      <td>NaN</td>\n      <td>3.000000</td>\n      <td>2.000000</td>\n      <td>65.000000</td>\n      <td>58.000000</td>\n      <td>1.439000e+05</td>\n    </tr>\n    <tr>\n      <th>75%</th>\n      <td>-34.577413</td>\n      <td>-58.408862</td>\n      <td>NaN</td>\n      <td>4.000000</td>\n      <td>3.000000</td>\n      <td>105.000000</td>\n      <td>88.000000</td>\n      <td>2.370000e+05</td>\n    </tr>\n    <tr>\n      <th>max</th>\n      <td>-24.219827</td>\n      <td>-54.133330</td>\n      <td>NaN</td>\n      <td>40.000000</td>\n      <td>70.000000</td>\n      <td>137000.000000</td>\n      <td>217000.000000</td>\n      <td>2.140000e+07</td>\n    </tr>\n  </tbody>\n</table>\n</div>"
     },
     "execution_count": 3,
     "metadata": {},
     "output_type": "execute_result"
    }
   ]
  },
  {
   "cell_type": "markdown",
   "source": [
    "#### b) Variables Cualitativas: mostrar cantidad de valores posibles, y frecuencias de cada uno."
   ],
   "metadata": {
    "id": "nR2vpwBjKB4z"
   }
  },
  {
   "cell_type": "code",
   "source": [
    "properties_argentina_filtered.info()"
   ],
   "metadata": {
    "colab": {
     "base_uri": "https://localhost:8080/"
    },
    "id": "4iOFPyH9KI4l",
    "outputId": "ebd2b6d5-3b08-40df-b690-6b5dcac999a6",
    "ExecuteTime": {
     "end_time": "2024-04-06T21:57:11.917633Z",
     "start_time": "2024-04-06T21:57:11.881557Z"
    }
   },
   "execution_count": 4,
   "outputs": [
    {
     "name": "stdout",
     "output_type": "stream",
     "text": [
      "<class 'pandas.core.frame.DataFrame'>\n",
      "Index: 94249 entries, 25 to 460090\n",
      "Data columns (total 20 columns):\n",
      " #   Column                    Non-Null Count  Dtype  \n",
      "---  ------                    --------------  -----  \n",
      " 0   id                        94249 non-null  object \n",
      " 1   start_date                94249 non-null  object \n",
      " 2   end_date                  94249 non-null  object \n",
      " 3   created_on                94249 non-null  object \n",
      " 4   latitud                   90519 non-null  float64\n",
      " 5   longitud                  90519 non-null  float64\n",
      " 6   place_l2                  94249 non-null  object \n",
      " 7   place_l3                  93832 non-null  object \n",
      " 8   place_l4                  3643 non-null   object \n",
      " 9   place_l5                  0 non-null      object \n",
      " 10  place_l6                  0 non-null      float64\n",
      " 11  operation                 94249 non-null  object \n",
      " 12  property_type             94249 non-null  object \n",
      " 13  property_rooms            93205 non-null  float64\n",
      " 14  property_bedrooms         83262 non-null  float64\n",
      " 15  property_surface_total    89405 non-null  float64\n",
      " 16  property_surface_covered  90895 non-null  float64\n",
      " 17  property_price            94249 non-null  float64\n",
      " 18  property_currency         94249 non-null  object \n",
      " 19  property_title            94249 non-null  object \n",
      "dtypes: float64(8), object(12)\n",
      "memory usage: 15.1+ MB\n"
     ]
    }
   ]
  },
  {
   "cell_type": "markdown",
   "source": [
    "#### c) Determinar variables irrelevantes en el análisis\n",
    "Con la informacion del punto anterior podemos determinar algunas variables que no son relevantes para nuestro modelo, es decir no nos van aportar informacion de calidad que sirva para el entranamiento del modelo.\n",
    "\n",
    "##### **Analisis :**\n",
    "c.1) Los atributos start_date, end_date y create_on  hacen referencia a las fechas en las cuales se crearon los datos, por lo tanto esto no es relevante para nuestro modelo de prediccion\n",
    "\n",
    "c.2) Los atributos place_l3 y place_l4, no conocemos a fondo que tipo de informacion nos pueden aportar para determinar el precio de  una propiedad. Vamos a mostrar en detalle que tio de informacion tienen ambos atributos en forma de tabla.\n",
    "\n",
    "Loas atributos place_l2 , place_l5 y place_l6 los dejamos afurea del analisis. El atributo place_l2 lo utilizamos para filtrar la informacion por capital federal y los atributos place_l6,place_5 directamente no tiene datos.\n"
   ],
   "metadata": {
    "id": "K8UECIOgKzWb"
   }
  },
  {
   "cell_type": "markdown",
   "source": [
    "#### **PLACE_L3**"
   ],
   "metadata": {
    "id": "Vycg7FQ_MPWs"
   }
  },
  {
   "cell_type": "code",
   "source": [
    "counts_place_l3 = properties_argentina_filtered[\"place_l3\"]\n",
    "print(counts_place_l3.value_counts())"
   ],
   "metadata": {
    "colab": {
     "base_uri": "https://localhost:8080/"
    },
    "id": "OUUqx5xgMTGk",
    "outputId": "1c1b5755-64f3-4956-f69a-754a8bbb5aba",
    "ExecuteTime": {
     "end_time": "2024-04-06T21:57:11.926033Z",
     "start_time": "2024-04-06T21:57:11.918640Z"
    }
   },
   "execution_count": 5,
   "outputs": [
    {
     "name": "stdout",
     "output_type": "stream",
     "text": [
      "place_l3\n",
      "Palermo                 14308\n",
      "Belgrano                 8898\n",
      "Caballito                7168\n",
      "Recoleta                 6282\n",
      "Villa Urquiza            4673\n",
      "Almagro                  4081\n",
      "Nuñez                    3546\n",
      "Villa Crespo             3189\n",
      "Flores                   3110\n",
      "Barrio Norte             2975\n",
      "Balvanera                2553\n",
      "Colegiales               1951\n",
      "Villa Devoto             1921\n",
      "Villa del Parque         1829\n",
      "Saavedra                 1829\n",
      "Puerto Madero            1493\n",
      "San Telmo                1380\n",
      "San Cristobal            1300\n",
      "San Nicolás              1295\n",
      "Retiro                   1250\n",
      "Barracas                 1246\n",
      "Boedo                    1237\n",
      "Floresta                 1195\n",
      "Monserrat                1115\n",
      "Parque Chacabuco         1073\n",
      "Villa Pueyrredón         1011\n",
      "Coghlan                   984\n",
      "Villa Luro                727\n",
      "Mataderos                 719\n",
      "Chacarita                 697\n",
      "Liniers                   668\n",
      "Villa Ortuzar             662\n",
      "Parque Patricios          639\n",
      "Villa Lugano              612\n",
      "Paternal                  566\n",
      "Congreso                  535\n",
      "Monte Castro              499\n",
      "Constitución              453\n",
      "Villa Santa Rita          438\n",
      "Villa General Mitre       435\n",
      "Once                      407\n",
      "Parque Avellaneda         380\n",
      "Parque Chas               373\n",
      "Boca                      365\n",
      "Versalles                 315\n",
      "Velez Sarsfield           242\n",
      "Agronomía                 235\n",
      "Abasto                    231\n",
      "Pompeya                   216\n",
      "Villa Real                142\n",
      "Tribunales                116\n",
      "Parque Centenario          93\n",
      "Centro / Microcentro       76\n",
      "Villa Soldati              45\n",
      "Villa Riachuelo            35\n",
      "Las Cañitas                12\n",
      "Catalinas                   7\n",
      "Name: count, dtype: int64\n"
     ]
    }
   ]
  },
  {
   "cell_type": "markdown",
   "source": [
    "#### **PLACE_L4**"
   ],
   "metadata": {
    "id": "8BA3_h9mMY5W"
   }
  },
  {
   "cell_type": "code",
   "source": [
    "counts_place_l4 = properties_argentina_filtered[\"place_l4\"]\n",
    "print(counts_place_l4.value_counts())"
   ],
   "metadata": {
    "colab": {
     "base_uri": "https://localhost:8080/"
    },
    "id": "vMJ1blNoMfog",
    "outputId": "b6680085-dfac-4576-bbdf-c25ce756847a",
    "ExecuteTime": {
     "end_time": "2024-04-06T21:57:11.932155Z",
     "start_time": "2024-04-06T21:57:11.927040Z"
    }
   },
   "execution_count": 6,
   "outputs": [
    {
     "name": "stdout",
     "output_type": "stream",
     "text": [
      "place_l4\n",
      "Palermo Hollywood    1576\n",
      "Palermo Chico        1092\n",
      "Palermo Soho          804\n",
      "Palermo Viejo         171\n",
      "Name: count, dtype: int64\n"
     ]
    }
   ]
  },
  {
   "cell_type": "markdown",
   "source": [
    "Podemos concluir que son atributos relevantes ya que el barrio puede influir en el precion de un inmueble.\n",
    "Los valore irrelevantes para nuestro analisis son :\n",
    "- start_date\n",
    "- end_date\n",
    "- create_on\n",
    "- place_l5\n",
    "- place_l6\n",
    "\n",
    "Por lo tanto estas variables se pueden eliminar del data frame"
   ],
   "metadata": {
    "id": "n0gPAd2iMomB"
   }
  },
  {
   "cell_type": "code",
   "source": [
    "properties_argentina_filtered.drop(columns=[\"start_date\", \"end_date\", \"created_on\", \"place_l5\", \"place_l6\"]).head()"
   ],
   "metadata": {
    "colab": {
     "base_uri": "https://localhost:8080/",
     "height": 417
    },
    "id": "6aRUEqb6NGAp",
    "outputId": "654e7876-92d8-446b-8938-20a35381bb10",
    "ExecuteTime": {
     "end_time": "2024-04-06T21:57:11.951911Z",
     "start_time": "2024-04-06T21:57:11.932155Z"
    }
   },
   "execution_count": 7,
   "outputs": [
    {
     "data": {
      "text/plain": "                          id    latitud   longitud         place_l2 place_l3  \\\n25  CyZu6IaZgmQYGk8jmPajCg==        NaN        NaN  Capital Federal      NaN   \n42  d3Z0MblSb2IMBoOBMGJEEQ== -34.637319 -58.361124  Capital Federal     Boca   \n43  rL7qPkQnomsMGu2ViS3sBw== -34.628647 -58.361871  Capital Federal     Boca   \n49  vuX/ccLAMVml4qWRFcOJUA== -34.610027 -58.401934  Capital Federal     Once   \n51  ZTtSCeqZ3HUgf5jjwEzRcw== -34.631621 -58.416825  Capital Federal    Boedo   \n\n   place_l4 operation property_type  property_rooms  property_bedrooms  \\\n25      NaN     Venta          Casa             4.0                3.0   \n42      NaN     Venta  Departamento             3.0                2.0   \n43      NaN     Venta  Departamento             4.0                3.0   \n49      NaN     Venta  Departamento             4.0                2.0   \n51      NaN     Venta            PH             4.0                2.0   \n\n    property_surface_total  property_surface_covered  property_price  \\\n25                   171.0                     133.0        210000.0   \n42                    58.0                      55.0         82900.0   \n43                    70.0                      70.0         99000.0   \n49                     NaN                     104.0        146000.0   \n51                     NaN                      73.0        250000.0   \n\n   property_currency                               property_title  \n25               USD  VENTA CASA LLAVE EN MANO - COSTA ESMERALDA   \n42               USD       VENTA TRES AMBIENTES LA BOCA PISO ALTO  \n43               USD   Departamento - 4 Ambientes - Catalinas Sur  \n49               USD          Venta departamento 4 ambientes Once  \n51               USD                                   PH - Boedo  ",
      "text/html": "<div>\n<style scoped>\n    .dataframe tbody tr th:only-of-type {\n        vertical-align: middle;\n    }\n\n    .dataframe tbody tr th {\n        vertical-align: top;\n    }\n\n    .dataframe thead th {\n        text-align: right;\n    }\n</style>\n<table border=\"1\" class=\"dataframe\">\n  <thead>\n    <tr style=\"text-align: right;\">\n      <th></th>\n      <th>id</th>\n      <th>latitud</th>\n      <th>longitud</th>\n      <th>place_l2</th>\n      <th>place_l3</th>\n      <th>place_l4</th>\n      <th>operation</th>\n      <th>property_type</th>\n      <th>property_rooms</th>\n      <th>property_bedrooms</th>\n      <th>property_surface_total</th>\n      <th>property_surface_covered</th>\n      <th>property_price</th>\n      <th>property_currency</th>\n      <th>property_title</th>\n    </tr>\n  </thead>\n  <tbody>\n    <tr>\n      <th>25</th>\n      <td>CyZu6IaZgmQYGk8jmPajCg==</td>\n      <td>NaN</td>\n      <td>NaN</td>\n      <td>Capital Federal</td>\n      <td>NaN</td>\n      <td>NaN</td>\n      <td>Venta</td>\n      <td>Casa</td>\n      <td>4.0</td>\n      <td>3.0</td>\n      <td>171.0</td>\n      <td>133.0</td>\n      <td>210000.0</td>\n      <td>USD</td>\n      <td>VENTA CASA LLAVE EN MANO - COSTA ESMERALDA</td>\n    </tr>\n    <tr>\n      <th>42</th>\n      <td>d3Z0MblSb2IMBoOBMGJEEQ==</td>\n      <td>-34.637319</td>\n      <td>-58.361124</td>\n      <td>Capital Federal</td>\n      <td>Boca</td>\n      <td>NaN</td>\n      <td>Venta</td>\n      <td>Departamento</td>\n      <td>3.0</td>\n      <td>2.0</td>\n      <td>58.0</td>\n      <td>55.0</td>\n      <td>82900.0</td>\n      <td>USD</td>\n      <td>VENTA TRES AMBIENTES LA BOCA PISO ALTO</td>\n    </tr>\n    <tr>\n      <th>43</th>\n      <td>rL7qPkQnomsMGu2ViS3sBw==</td>\n      <td>-34.628647</td>\n      <td>-58.361871</td>\n      <td>Capital Federal</td>\n      <td>Boca</td>\n      <td>NaN</td>\n      <td>Venta</td>\n      <td>Departamento</td>\n      <td>4.0</td>\n      <td>3.0</td>\n      <td>70.0</td>\n      <td>70.0</td>\n      <td>99000.0</td>\n      <td>USD</td>\n      <td>Departamento - 4 Ambientes - Catalinas Sur</td>\n    </tr>\n    <tr>\n      <th>49</th>\n      <td>vuX/ccLAMVml4qWRFcOJUA==</td>\n      <td>-34.610027</td>\n      <td>-58.401934</td>\n      <td>Capital Federal</td>\n      <td>Once</td>\n      <td>NaN</td>\n      <td>Venta</td>\n      <td>Departamento</td>\n      <td>4.0</td>\n      <td>2.0</td>\n      <td>NaN</td>\n      <td>104.0</td>\n      <td>146000.0</td>\n      <td>USD</td>\n      <td>Venta departamento 4 ambientes Once</td>\n    </tr>\n    <tr>\n      <th>51</th>\n      <td>ZTtSCeqZ3HUgf5jjwEzRcw==</td>\n      <td>-34.631621</td>\n      <td>-58.416825</td>\n      <td>Capital Federal</td>\n      <td>Boedo</td>\n      <td>NaN</td>\n      <td>Venta</td>\n      <td>PH</td>\n      <td>4.0</td>\n      <td>2.0</td>\n      <td>NaN</td>\n      <td>73.0</td>\n      <td>250000.0</td>\n      <td>USD</td>\n      <td>PH - Boedo</td>\n    </tr>\n  </tbody>\n</table>\n</div>"
     },
     "execution_count": 7,
     "metadata": {},
     "output_type": "execute_result"
    }
   ]
  }
 ]
}
