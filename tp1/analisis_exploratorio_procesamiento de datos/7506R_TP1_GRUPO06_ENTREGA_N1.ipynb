{
 "cells": [
  {
   "cell_type": "markdown",
   "source": [
    "# IMPORTS"
   ],
   "metadata": {
    "collapsed": false
   },
   "id": "aade61c60be4097"
  },
  {
   "cell_type": "code",
   "outputs": [],
   "source": [
    "import pandas as pd\n",
    "from sklearn.model_selection import train_test_split"
   ],
   "metadata": {
    "collapsed": false,
    "ExecuteTime": {
     "end_time": "2024-05-20T03:00:55.000173Z",
     "start_time": "2024-05-20T03:00:54.996897Z"
    }
   },
   "id": "248c902b514ff59f",
   "execution_count": 23
  },
  {
   "cell_type": "markdown",
   "source": [
    "# CONST"
   ],
   "metadata": {
    "collapsed": false
   },
   "id": "1892c41485fcede0"
  },
  {
   "cell_type": "code",
   "outputs": [],
   "source": [
    "DIRECTORY_PROPERTIES_ARGENTINA: str = '../properati_argentina_2021.csv'\n",
    "TEST_SIZE: float = 0.2\n",
    "RANDOM_STATE: int = 42"
   ],
   "metadata": {
    "collapsed": false,
    "ExecuteTime": {
     "end_time": "2024-05-20T03:02:27.324403Z",
     "start_time": "2024-05-20T03:02:27.320926Z"
    }
   },
   "id": "4c1f1f1e8b98df4",
   "execution_count": 31
  },
  {
   "cell_type": "markdown",
   "source": [
    "# MODULE"
   ],
   "metadata": {
    "collapsed": false
   },
   "id": "b8ced989794933c8"
  },
  {
   "cell_type": "code",
   "outputs": [],
   "source": [
    "from pandas import DataFrame\n",
    "\n",
    "class Propertie:\n",
    "    def __init__(self, pandas):\n",
    "        self.pandas = pandas\n",
    "\n",
    "    def filter_by(self, columns_param: list, conditions_param: list, directory: str) -> DataFrame:\n",
    "        data_frame = self.pandas.read_csv(directory)\n",
    "        housing_type = data_frame[columns_param[0]].isin(conditions_param[0])\n",
    "        is_operation_sale = data_frame[columns_param[1]].isin(conditions_param[1])\n",
    "        is_property_currency_usd = data_frame[columns_param[2]].isin(conditions_param[2])\n",
    "        is_place_l2_capital_federal = data_frame[columns_param[3]].isin(conditions_param[3])\n",
    "        return data_frame[housing_type & is_operation_sale & is_property_currency_usd & is_place_l2_capital_federal]\n",
    "    \n",
    "    def get_columns_by_type(self, dataframe: DataFrame) -> (list, list):\n",
    "        col_numericas = []\n",
    "        col_categoricas = []\n",
    "        for columna in dataframe.columns:\n",
    "            if dataframe[columna].dtype == 'float' or dataframe[columna].dtype == 'int':\n",
    "                col_numericas.append(columna)\n",
    "            else:\n",
    "                col_categoricas.append(columna)\n",
    "        return col_numericas, col_categoricas\n",
    "                \n",
    "\n",
    "    def export_csv_by(self, directory: str, data_type: DataFrame) -> None:\n",
    "        data_type.to_csv(directory, index=False)\n",
    "    \n",
    "properties = Propertie(pd)"
   ],
   "metadata": {
    "collapsed": false,
    "ExecuteTime": {
     "end_time": "2024-05-20T03:20:35.623277Z",
     "start_time": "2024-05-20T03:20:35.617814Z"
    }
   },
   "id": "9306a4357d4aff8a",
   "execution_count": 42
  },
  {
   "cell_type": "markdown",
   "source": [
    "# **1. Análisis Exploratorio y Preprocesamiento de Datos**\n",
    "El primer paso consiste en la selección de los datos que se van a utilizar, se deben filtrar\n",
    "únicamente los anuncios de propiedades de tipo vivienda ( Casa, PH y Departamento ) ubicados\n",
    "en Capital Federal cuyo tipo de operación sea venta y su precio se encuentre en dólares (USD).\n",
    "Se debe separar un conjunto de entrenamiento (80%) y un conjunto de test (20%)."
   ],
   "metadata": {
    "collapsed": false
   },
   "id": "c7ad52f3a38ba2c"
  },
  {
   "cell_type": "markdown",
   "source": [
    "## **PREPRACIÓN DE LOS DATOS**\n",
    "Crear un nuevo dataset que contemplen los siguientes atributos :\n",
    "- Tipos de vivienda: Casa, Ph Y Departamentos\n",
    "- Moneda de transacción: Dólares (USD)\n",
    "- Ubicación : Capital Federal"
   ],
   "metadata": {
    "collapsed": false
   },
   "id": "b155074875fc92ba"
  },
  {
   "cell_type": "code",
   "outputs": [],
   "source": [
    "columns = [\"property_type\", \"operation\", \"property_currency\", \"place_l2\"]\n",
    "conditions = [[\"Casa\", \"PH\",\"Departamento\"],[\"Venta\"],[\"USD\"],[\"Capital Federal\"]]"
   ],
   "metadata": {
    "collapsed": false,
    "ExecuteTime": {
     "end_time": "2024-05-20T03:20:39.067093Z",
     "start_time": "2024-05-20T03:20:39.064169Z"
    }
   },
   "id": "8554ea9b6c75c731",
   "execution_count": 43
  },
  {
   "cell_type": "markdown",
   "source": [
    "### **1.1 Mostrar información del dataset con los filtros requeridos del enunciado**"
   ],
   "metadata": {
    "collapsed": false
   },
   "id": "627968dcb3bd6a69"
  },
  {
   "cell_type": "code",
   "outputs": [
    {
     "name": "stdout",
     "output_type": "stream",
     "text": [
      "DataFrame filtrado:  (94249, 20)\n"
     ]
    }
   ],
   "source": [
    "property_argentina_filtered = properties.filter_by(\n",
    "    columns,\n",
    "    conditions,\n",
    "    directory=DIRECTORY_PROPERTIES_ARGENTINA\n",
    ")\n",
    "print(\"DataFrame filtrado: \", property_argentina_filtered.shape)"
   ],
   "metadata": {
    "collapsed": false,
    "ExecuteTime": {
     "end_time": "2024-05-20T03:20:41.414653Z",
     "start_time": "2024-05-20T03:20:40.208532Z"
    }
   },
   "id": "920c04159c598887",
   "execution_count": 44
  },
  {
   "cell_type": "markdown",
   "source": [
    "### 1.2 Separar el conjunto de prueba y de entranamiento\n",
    "- Entrenamiento 80%\n",
    "- Prueba 20 %"
   ],
   "metadata": {
    "collapsed": false
   },
   "id": "e30ac7c2e3e43ba2"
  },
  {
   "cell_type": "markdown",
   "source": [
    "#### Conjunto de Entrenamiento"
   ],
   "metadata": {
    "collapsed": false
   },
   "id": "8f9d48b068d47ace"
  },
  {
   "cell_type": "code",
   "outputs": [
    {
     "name": "stdout",
     "output_type": "stream",
     "text": [
      "(75399, 20)\n"
     ]
    }
   ],
   "source": [
    "properties_train, _ = train_test_split(\n",
    "    property_argentina_filtered, \n",
    "    test_size=TEST_SIZE, \n",
    "    random_state=RANDOM_STATE\n",
    ")\n",
    "print(properties_train.shape)"
   ],
   "metadata": {
    "collapsed": false,
    "ExecuteTime": {
     "end_time": "2024-05-20T03:20:42.051269Z",
     "start_time": "2024-05-20T03:20:42.007949Z"
    }
   },
   "id": "ee9bbdcd9a7a72f0",
   "execution_count": 45
  },
  {
   "cell_type": "markdown",
   "source": [
    "#### Conjunto de prueba"
   ],
   "metadata": {
    "collapsed": false
   },
   "id": "9a3277dd6ef28d47"
  },
  {
   "cell_type": "code",
   "outputs": [
    {
     "name": "stdout",
     "output_type": "stream",
     "text": [
      "(18850, 20)\n"
     ]
    }
   ],
   "source": [
    "_, properties_test = train_test_split(\n",
    "    property_argentina_filtered, \n",
    "    test_size=TEST_SIZE, \n",
    "    random_state=42\n",
    ")\n",
    "print(properties_test.shape)"
   ],
   "metadata": {
    "collapsed": false,
    "ExecuteTime": {
     "end_time": "2024-05-20T03:20:43.426080Z",
     "start_time": "2024-05-20T03:20:43.390126Z"
    }
   },
   "id": "49c6e538dec5ae8",
   "execution_count": 46
  },
  {
   "cell_type": "markdown",
   "source": [
    "Exportamos el conjunto de prueba"
   ],
   "metadata": {
    "collapsed": false
   },
   "id": "6194acbb0bf84c58"
  },
  {
   "cell_type": "code",
   "outputs": [],
   "source": [
    "directory_export = \"properti_argentina_test.csv\"\n",
    "properties.export_csv_by(directory_export, properties_test)"
   ],
   "metadata": {
    "collapsed": false,
    "ExecuteTime": {
     "end_time": "2024-05-20T03:20:44.765770Z",
     "start_time": "2024-05-20T03:20:44.624308Z"
    }
   },
   "id": "74a4b2e064158156",
   "execution_count": 47
  },
  {
   "cell_type": "markdown",
   "source": [
    "## **ENTENDER EL PROBLEMA**\n",
    "El objetivo del tp es poder entrenar un modelo que pueda predecir el valor de venta de un inmueble en cualquier barrio de capital federal.\n",
    "En esta primera parte vamos a limpiar los datos y además entender como los datos pueden influir en la prediction de nuestro modelo o rendimiento de nuestro modelo."
   ],
   "metadata": {
    "collapsed": false
   },
   "id": "6ffa0935644bedcb"
  },
  {
   "cell_type": "markdown",
   "source": [
    "### COMPROBACIONES PLANTEADAS EN EL TP\n",
    "Las comprobaciones nos daran un entendimiento más profundo sobre los datos. Con los conocimientos de los datos vamos a tener más criterios para poder limpiar los mismos y poder entrenar el modelo.\n",
    "#### a) Exploración Inicial: analizar cada variable, considerando los siguientes aspectos"
   ],
   "metadata": {
    "collapsed": false
   },
   "id": "5d24c10108a7d0ec"
  },
  {
   "cell_type": "markdown",
   "source": [
    "### Columnas del Tipo Numericas"
   ],
   "metadata": {
    "collapsed": false
   },
   "id": "ce8e48bded2053d6"
  },
  {
   "cell_type": "code",
   "outputs": [
    {
     "data": {
      "text/plain": "                          0\n0                   latitud\n1                  longitud\n2                  place_l6\n3            property_rooms\n4         property_bedrooms\n5    property_surface_total\n6  property_surface_covered\n7            property_price",
      "text/html": "<div>\n<style scoped>\n    .dataframe tbody tr th:only-of-type {\n        vertical-align: middle;\n    }\n\n    .dataframe tbody tr th {\n        vertical-align: top;\n    }\n\n    .dataframe thead th {\n        text-align: right;\n    }\n</style>\n<table border=\"1\" class=\"dataframe\">\n  <thead>\n    <tr style=\"text-align: right;\">\n      <th></th>\n      <th>0</th>\n    </tr>\n  </thead>\n  <tbody>\n    <tr>\n      <th>0</th>\n      <td>latitud</td>\n    </tr>\n    <tr>\n      <th>1</th>\n      <td>longitud</td>\n    </tr>\n    <tr>\n      <th>2</th>\n      <td>place_l6</td>\n    </tr>\n    <tr>\n      <th>3</th>\n      <td>property_rooms</td>\n    </tr>\n    <tr>\n      <th>4</th>\n      <td>property_bedrooms</td>\n    </tr>\n    <tr>\n      <th>5</th>\n      <td>property_surface_total</td>\n    </tr>\n    <tr>\n      <th>6</th>\n      <td>property_surface_covered</td>\n    </tr>\n    <tr>\n      <th>7</th>\n      <td>property_price</td>\n    </tr>\n  </tbody>\n</table>\n</div>"
     },
     "execution_count": 49,
     "metadata": {},
     "output_type": "execute_result"
    }
   ],
   "source": [
    "col_numericas, _ = properties.get_columns_by_type(properties_train)\n",
    "col_numericas_pd = pd.DataFrame(col_numericas)\n",
    "col_numericas_pd"
   ],
   "metadata": {
    "collapsed": false,
    "ExecuteTime": {
     "end_time": "2024-05-20T03:21:31.949977Z",
     "start_time": "2024-05-20T03:21:31.936798Z"
    }
   },
   "id": "82988199b8095cd9",
   "execution_count": 49
  },
  {
   "cell_type": "markdown",
   "source": [
    "### Columnas del tipo categoricas"
   ],
   "metadata": {
    "collapsed": false
   },
   "id": "f29de38c2c0f1ef3"
  },
  {
   "cell_type": "code",
   "outputs": [
    {
     "data": {
      "text/plain": "                    0\n0                  id\n1          start_date\n2            end_date\n3          created_on\n4            place_l2\n5            place_l3\n6            place_l4\n7            place_l5\n8           operation\n9       property_type\n10  property_currency\n11     property_title",
      "text/html": "<div>\n<style scoped>\n    .dataframe tbody tr th:only-of-type {\n        vertical-align: middle;\n    }\n\n    .dataframe tbody tr th {\n        vertical-align: top;\n    }\n\n    .dataframe thead th {\n        text-align: right;\n    }\n</style>\n<table border=\"1\" class=\"dataframe\">\n  <thead>\n    <tr style=\"text-align: right;\">\n      <th></th>\n      <th>0</th>\n    </tr>\n  </thead>\n  <tbody>\n    <tr>\n      <th>0</th>\n      <td>id</td>\n    </tr>\n    <tr>\n      <th>1</th>\n      <td>start_date</td>\n    </tr>\n    <tr>\n      <th>2</th>\n      <td>end_date</td>\n    </tr>\n    <tr>\n      <th>3</th>\n      <td>created_on</td>\n    </tr>\n    <tr>\n      <th>4</th>\n      <td>place_l2</td>\n    </tr>\n    <tr>\n      <th>5</th>\n      <td>place_l3</td>\n    </tr>\n    <tr>\n      <th>6</th>\n      <td>place_l4</td>\n    </tr>\n    <tr>\n      <th>7</th>\n      <td>place_l5</td>\n    </tr>\n    <tr>\n      <th>8</th>\n      <td>operation</td>\n    </tr>\n    <tr>\n      <th>9</th>\n      <td>property_type</td>\n    </tr>\n    <tr>\n      <th>10</th>\n      <td>property_currency</td>\n    </tr>\n    <tr>\n      <th>11</th>\n      <td>property_title</td>\n    </tr>\n  </tbody>\n</table>\n</div>"
     },
     "execution_count": 50,
     "metadata": {},
     "output_type": "execute_result"
    }
   ],
   "source": [
    "_, col_categoricas = properties.get_columns_by_type(properties_train)\n",
    "col_categoricas_pd = pd.DataFrame(col_categoricas)\n",
    "col_categoricas_pd"
   ],
   "metadata": {
    "collapsed": false,
    "ExecuteTime": {
     "end_time": "2024-05-20T03:23:08.051922Z",
     "start_time": "2024-05-20T03:23:08.045770Z"
    }
   },
   "id": "7ea081b2e0b91838",
   "execution_count": 50
  },
  {
   "cell_type": "code",
   "outputs": [],
   "source": [],
   "metadata": {
    "collapsed": false
   },
   "id": "9b0e16b6c7f106d7"
  }
 ],
 "metadata": {
  "kernelspec": {
   "display_name": "Python 3",
   "language": "python",
   "name": "python3"
  },
  "language_info": {
   "codemirror_mode": {
    "name": "ipython",
    "version": 2
   },
   "file_extension": ".py",
   "mimetype": "text/x-python",
   "name": "python",
   "nbconvert_exporter": "python",
   "pygments_lexer": "ipython2",
   "version": "2.7.6"
  }
 },
 "nbformat": 4,
 "nbformat_minor": 5
}
