{
 "nbformat": 4,
 "nbformat_minor": 0,
 "metadata": {
  "colab": {
   "provenance": [],
   "authorship_tag": "ABX9TyOOLQk35zyPRg8rv+EgiPCk",
   "include_colab_link": true
  },
  "kernelspec": {
   "name": "python3",
   "language": "python",
   "display_name": "Python 3 (ipykernel)"
  },
  "language_info": {
   "name": "python"
  }
 },
 "cells": [
  {
   "cell_type": "markdown",
   "metadata": {
    "id": "view-in-github",
    "colab_type": "text"
   },
   "source": [
    "<a href=\"https://colab.research.google.com/github/hmaldonado12/7506R-1C2024-GRUPO6/blob/main/tp2/7506R_TP2_GRUPO06_ENTREGA.ipynb\" target=\"_parent\"><img src=\"https://colab.research.google.com/assets/colab-badge.svg\" alt=\"Open In Colab\"/></a>"
   ]
  },
  {
   "cell_type": "markdown",
   "source": [
    "# IMPORTS"
   ],
   "metadata": {
    "id": "su3hJnoqvso2"
   }
  },
  {
   "cell_type": "code",
   "source": [
    "'''from google.colab import drive\n",
    "drive.mount('/content/drive')'''"
   ],
   "metadata": {
    "colab": {
     "base_uri": "https://localhost:8080/"
    },
    "id": "FDzTCsh4xfEN",
    "outputId": "aadd3a8f-b463-4950-909d-508961436c8d",
    "ExecuteTime": {
     "end_time": "2024-06-22T14:45:21.434330Z",
     "start_time": "2024-06-22T14:45:21.430562Z"
    }
   },
   "execution_count": 57,
   "outputs": [
    {
     "data": {
      "text/plain": "\"from google.colab import drive\\ndrive.mount('/content/drive')\""
     },
     "execution_count": 57,
     "metadata": {},
     "output_type": "execute_result"
    }
   ]
  },
  {
   "cell_type": "code",
   "outputs": [],
   "source": [
    "import seaborn as sns\n",
    "from sklearn.feature_extraction.text import CountVectorizer\n",
    "from sklearn.feature_extraction.text import TfidfTransformer\n",
    "from sklearn.naive_bayes import MultinomialNB\n",
    "from sklearn import metrics\n",
    "import pandas as pd\n",
    "import unicodedata\n",
    "from sklearn.model_selection import train_test_split\n",
    "from sklearn.model_selection import cross_val_score\n",
    "import numpy as np\n",
    "from matplotlib import pyplot as plt\n",
    "from sklearn.metrics import confusion_matrix\n",
    "from nltk.tokenize import word_tokenize\n",
    "from nltk.corpus import stopwords\n",
    "import string\n",
    "import nltk\n",
    "from sklearn.model_selection import RandomizedSearchCV\n",
    "from sklearn.ensemble import RandomForestClassifier\n",
    "import warnings\n",
    "\n",
    "warnings.simplefilter(action='ignore', category=FutureWarning)"
   ],
   "metadata": {
    "id": "9uRVgWqLvjUq",
    "ExecuteTime": {
     "end_time": "2024-06-22T14:45:21.623178Z",
     "start_time": "2024-06-22T14:45:21.618897Z"
    }
   },
   "execution_count": 58
  },
  {
   "cell_type": "code",
   "source": [
    "'''df_train_original = pd.read_csv('/content/drive/MyDrive/Colab Notebooks/train.csv')\n",
    "df_test_original = pd.read_csv('/content/drive/MyDrive/Colab Notebooks/test.csv')\n",
    "\n",
    "df_train = df_train_original.copy()\n",
    "df_test = df_test_original.copy()'''"
   ],
   "metadata": {
    "id": "uPRCKTX5xe8d",
    "ExecuteTime": {
     "end_time": "2024-06-22T14:45:21.630418Z",
     "start_time": "2024-06-22T14:45:21.625356Z"
    }
   },
   "execution_count": 59,
   "outputs": [
    {
     "data": {
      "text/plain": "\"df_train_original = pd.read_csv('/content/drive/MyDrive/Colab Notebooks/train.csv')\\ndf_test_original = pd.read_csv('/content/drive/MyDrive/Colab Notebooks/test.csv')\\n\\ndf_train = df_train_original.copy()\\ndf_test = df_test_original.copy()\""
     },
     "execution_count": 59,
     "metadata": {},
     "output_type": "execute_result"
    }
   ]
  },
  {
   "cell_type": "markdown",
   "source": [
    "# Preprocesamiento del dataset."
   ],
   "metadata": {
    "id": "ocW_aJX9xMMm"
   }
  },
  {
   "cell_type": "markdown",
   "source": [
    "En esta notebook nos encargamos de efectuar la limpieza de dataset, la detección de datos incorrectos y/o vacíos, outliers, todo aquello que pueda imposibilitarnos a usar los modelos propuestos."
   ],
   "metadata": {
    "id": "xKzlsHQjxO4z"
   }
  },
  {
   "cell_type": "code",
   "source": [
    "#df_train.info()"
   ],
   "metadata": {
    "colab": {
     "base_uri": "https://localhost:8080/"
    },
    "id": "ziBaDpwtvw9O",
    "outputId": "9f058344-77e2-4d81-90eb-005a5931f09b",
    "ExecuteTime": {
     "end_time": "2024-06-22T14:45:21.640409Z",
     "start_time": "2024-06-22T14:45:21.637892Z"
    }
   },
   "execution_count": 60,
   "outputs": []
  },
  {
   "cell_type": "markdown",
   "source": [
    "Podemos ver que el dataset train no tiene datos faltantes."
   ],
   "metadata": {
    "id": "dRjZFzg3zj-P"
   }
  },
  {
   "cell_type": "code",
   "source": [
    "#df_train[df_train.duplicated(keep=False)]"
   ],
   "metadata": {
    "colab": {
     "base_uri": "https://localhost:8080/",
     "height": 53
    },
    "id": "2Xb1Kjm0ziW4",
    "outputId": "7f497b31-c23b-4e21-f78e-6d0bb87f0252",
    "ExecuteTime": {
     "end_time": "2024-06-22T14:45:21.658507Z",
     "start_time": "2024-06-22T14:45:21.655431Z"
    }
   },
   "execution_count": 61,
   "outputs": []
  },
  {
   "cell_type": "markdown",
   "source": [
    "Tampoco tiene filas duplicadas."
   ],
   "metadata": {
    "id": "gYWpkHS90iHA"
   }
  },
  {
   "cell_type": "code",
   "source": [
    "#df_test.info()"
   ],
   "metadata": {
    "colab": {
     "base_uri": "https://localhost:8080/"
    },
    "id": "rOPilQZez6QY",
    "outputId": "52440137-a3ef-4ae8-c920-d4321bd3cc04",
    "ExecuteTime": {
     "end_time": "2024-06-22T14:45:21.688888Z",
     "start_time": "2024-06-22T14:45:21.685017Z"
    }
   },
   "execution_count": 62,
   "outputs": []
  },
  {
   "cell_type": "code",
   "source": [
    "#df_test[df_test.duplicated(keep=False)]"
   ],
   "metadata": {
    "colab": {
     "base_uri": "https://localhost:8080/",
     "height": 53
    },
    "id": "YOZoywbg0lM4",
    "outputId": "750c57c8-d574-41eb-bf38-b7a077310ed8",
    "ExecuteTime": {
     "end_time": "2024-06-22T14:45:21.703678Z",
     "start_time": "2024-06-22T14:45:21.699798Z"
    }
   },
   "execution_count": 63,
   "outputs": []
  },
  {
   "cell_type": "markdown",
   "source": [
    "El mismo resultado para test."
   ],
   "metadata": {
    "id": "Y7JjlKu80puY"
   }
  },
  {
   "cell_type": "markdown",
   "source": [
    "# Naive Bayes\n",
    "Es un método de aprendizaje supervisado basado en la aplicación del teorema de Bayes con el supuesto \"ingenuo\" de independencia condicional entre cada par de características dado el valor de la variable de clase.\n",
    "Según bayes si tengo un conjunto de clase C y para un documento D, si encuentro una clase que maximice su probabilidad condicional, entonces el documento pertenece a esa clase."
   ],
   "metadata": {
    "collapsed": false
   }
  },
  {
   "cell_type": "markdown",
   "source": [
    "## Objetivo\n",
    "- Dado un determinado numero de documentos de criticas sobre películas, determinar para cada documento si la crítica es positiva o negativa"
   ],
   "metadata": {
    "collapsed": false
   }
  },
  {
   "cell_type": "markdown",
   "source": [
    "## Descripción de los datos\n",
    "- **ID:** Identificador unico de cada review\n",
    "- **review_es:** Documento que contiene la crítica\n",
    "- **sentimiento:** Clases la cual pertenece una crítica la misma puede ser POSITIVA o NEGATIVA"
   ],
   "metadata": {
    "collapsed": false
   }
  },
  {
   "cell_type": "code",
   "outputs": [
    {
     "data": {
      "text/plain": "          ID                                          review_es sentimiento\n0          0  Uno de los otros críticos ha mencionado que de...    positivo\n1          1  Una pequeña pequeña producción.La técnica de f...    positivo\n2          2  Pensé que esta era una manera maravillosa de p...    positivo\n3          3  Básicamente, hay una familia donde un niño peq...    negativo\n4          4  El \"amor en el tiempo\" de Petter Mattei es una...    positivo\n...      ...                                                ...         ...\n49995  49995  Pensé que esta película hizo un buen trabajo a...    positivo\n49996  49996  Mala parcela, mal diálogo, mala actuación, dir...    negativo\n49997  49997  Soy católica enseñada en escuelas primarias pa...    negativo\n49998  49998  Voy a tener que estar en desacuerdo con el com...    negativo\n49999  49999  Nadie espera que las películas de Star Trek se...    negativo\n\n[50000 rows x 3 columns]",
      "text/html": "<div>\n<style scoped>\n    .dataframe tbody tr th:only-of-type {\n        vertical-align: middle;\n    }\n\n    .dataframe tbody tr th {\n        vertical-align: top;\n    }\n\n    .dataframe thead th {\n        text-align: right;\n    }\n</style>\n<table border=\"1\" class=\"dataframe\">\n  <thead>\n    <tr style=\"text-align: right;\">\n      <th></th>\n      <th>ID</th>\n      <th>review_es</th>\n      <th>sentimiento</th>\n    </tr>\n  </thead>\n  <tbody>\n    <tr>\n      <th>0</th>\n      <td>0</td>\n      <td>Uno de los otros críticos ha mencionado que de...</td>\n      <td>positivo</td>\n    </tr>\n    <tr>\n      <th>1</th>\n      <td>1</td>\n      <td>Una pequeña pequeña producción.La técnica de f...</td>\n      <td>positivo</td>\n    </tr>\n    <tr>\n      <th>2</th>\n      <td>2</td>\n      <td>Pensé que esta era una manera maravillosa de p...</td>\n      <td>positivo</td>\n    </tr>\n    <tr>\n      <th>3</th>\n      <td>3</td>\n      <td>Básicamente, hay una familia donde un niño peq...</td>\n      <td>negativo</td>\n    </tr>\n    <tr>\n      <th>4</th>\n      <td>4</td>\n      <td>El \"amor en el tiempo\" de Petter Mattei es una...</td>\n      <td>positivo</td>\n    </tr>\n    <tr>\n      <th>...</th>\n      <td>...</td>\n      <td>...</td>\n      <td>...</td>\n    </tr>\n    <tr>\n      <th>49995</th>\n      <td>49995</td>\n      <td>Pensé que esta película hizo un buen trabajo a...</td>\n      <td>positivo</td>\n    </tr>\n    <tr>\n      <th>49996</th>\n      <td>49996</td>\n      <td>Mala parcela, mal diálogo, mala actuación, dir...</td>\n      <td>negativo</td>\n    </tr>\n    <tr>\n      <th>49997</th>\n      <td>49997</td>\n      <td>Soy católica enseñada en escuelas primarias pa...</td>\n      <td>negativo</td>\n    </tr>\n    <tr>\n      <th>49998</th>\n      <td>49998</td>\n      <td>Voy a tener que estar en desacuerdo con el com...</td>\n      <td>negativo</td>\n    </tr>\n    <tr>\n      <th>49999</th>\n      <td>49999</td>\n      <td>Nadie espera que las películas de Star Trek se...</td>\n      <td>negativo</td>\n    </tr>\n  </tbody>\n</table>\n<p>50000 rows × 3 columns</p>\n</div>"
     },
     "execution_count": 64,
     "metadata": {},
     "output_type": "execute_result"
    }
   ],
   "source": [
    "cinema_review = pd.read_csv('train.csv')\n",
    "cinema_review"
   ],
   "metadata": {
    "collapsed": false,
    "ExecuteTime": {
     "end_time": "2024-06-22T14:45:22.405377Z",
     "start_time": "2024-06-22T14:45:21.716759Z"
    }
   },
   "execution_count": 64
  },
  {
   "cell_type": "markdown",
   "source": [
    "## Separación de datos\n",
    "### Generación de conjunto de test y train"
   ],
   "metadata": {
    "collapsed": false
   }
  },
  {
   "cell_type": "code",
   "outputs": [],
   "source": [
    "X = cinema_review.review_es\n",
    "y = cinema_review.sentimiento\n",
    "X_train_review, X_test_review, y_train_sentimiento, y_test_sentimiento = train_test_split(X,y,stratify=y,test_size=0.20,random_state=42)"
   ],
   "metadata": {
    "collapsed": false,
    "ExecuteTime": {
     "end_time": "2024-06-22T14:45:22.436071Z",
     "start_time": "2024-06-22T14:45:22.406544Z"
    }
   },
   "execution_count": 65
  },
  {
   "cell_type": "markdown",
   "source": [
    "#### Textos de entranamiento"
   ],
   "metadata": {
    "collapsed": false
   }
  },
  {
   "cell_type": "code",
   "outputs": [
    {
     "data": {
      "text/plain": "47808    Cogí esta pequeña joya totalmente por accident...\n20154    No puedo creer que me permita a esta película ...\n43069    * ¡Alerta de spoiler! * Solo me pone el nervio...\n19413    Si hay una cosa que he aprendido de ver el crí...\n13673    Recuerdo cuando esto estaba en los teatros, di...\n                               ...                        \n31092    Es la década de 1920.Y un hombre llamado Walt ...\n22917    El primer (y único) tiempo que vi \"Sombras\" fu...\n47481    Esta fue una pérdida de tiempo.PELIGRO: Si lo ...\n35597    Esto es, con mucho, el cine indio de la pelícu...\n27491    Esta película para siempre dejó una impresión ...\nName: review_es, Length: 40000, dtype: object"
     },
     "execution_count": 66,
     "metadata": {},
     "output_type": "execute_result"
    }
   ],
   "source": [
    "X_train_review"
   ],
   "metadata": {
    "collapsed": false,
    "ExecuteTime": {
     "end_time": "2024-06-22T14:45:22.441105Z",
     "start_time": "2024-06-22T14:45:22.436071Z"
    }
   },
   "execution_count": 66
  },
  {
   "cell_type": "code",
   "outputs": [
    {
     "data": {
      "text/plain": "47808    positivo\n20154    negativo\n43069    negativo\n19413    negativo\n13673    negativo\n           ...   \n31092    positivo\n22917    negativo\n47481    negativo\n35597    negativo\n27491    negativo\nName: sentimiento, Length: 40000, dtype: object"
     },
     "execution_count": 67,
     "metadata": {},
     "output_type": "execute_result"
    }
   ],
   "source": [
    "y_train_sentimiento"
   ],
   "metadata": {
    "collapsed": false,
    "ExecuteTime": {
     "end_time": "2024-06-22T14:45:22.446978Z",
     "start_time": "2024-06-22T14:45:22.442180Z"
    }
   },
   "execution_count": 67
  },
  {
   "cell_type": "markdown",
   "source": [
    "**Antes de comenzar a realizar las predicciones es necesario realizar las feature engineer, que permitan sacar el ruido que puedan tener los datos y que esto no influya en el modelo que clasifica las críticas**"
   ],
   "metadata": {
    "collapsed": false
   }
  },
  {
   "cell_type": "markdown",
   "source": [
    "## Feature Engineer\n",
    "### Normalización\n",
    "Para cada texto del dataFrame vamos a extraer todos los caracteres distintos a letras y números, para disminuir la introducción de ruidos al modelo de NaiveBayes"
   ],
   "metadata": {
    "collapsed": false
   }
  },
  {
   "cell_type": "code",
   "outputs": [
    {
     "data": {
      "text/plain": "47808    Cogi esta pequena joya totalmente por accident...\n20154    No puedo creer que me permita a esta pelicula ...\n43069    * Alerta de spoiler! * Solo me pone el nervio ...\n19413    Si hay una cosa que he aprendido de ver el cri...\n13673    Recuerdo cuando esto estaba en los teatros, di...\n                               ...                        \n31092    Es la decada de 1920.Y un hombre llamado Walt ...\n22917    El primer (y unico) tiempo que vi \"Sombras\" fu...\n47481    Esta fue una perdida de tiempo.PELIGRO: Si lo ...\n35597    Esto es, con mucho, el cine indio de la pelicu...\n27491    Esta pelicula para siempre dejo una impresion ...\nName: review_es, Length: 40000, dtype: object"
     },
     "execution_count": 68,
     "metadata": {},
     "output_type": "execute_result"
    }
   ],
   "source": [
    "for indice in range(0, len(X_train_review)):\n",
    "    X_train_review.iloc[indice] = unicodedata.normalize(\"NFKD\", X_train_review.iloc[indice]).encode(\"ascii\",\"ignore\").decode(\"ascii\")\n",
    "X_train_review"
   ],
   "metadata": {
    "collapsed": false,
    "ExecuteTime": {
     "end_time": "2024-06-22T14:45:23.838904Z",
     "start_time": "2024-06-22T14:45:22.447988Z"
    }
   },
   "execution_count": 68
  },
  {
   "cell_type": "markdown",
   "source": [
    "## Tokenizar y vectorizar documentos para el entrenamiento del modelo"
   ],
   "metadata": {
    "collapsed": false
   }
  },
  {
   "cell_type": "code",
   "outputs": [
    {
     "data": {
      "text/plain": "(40000, 43829)"
     },
     "execution_count": 69,
     "metadata": {},
     "output_type": "execute_result"
    }
   ],
   "source": [
    "count_vect = CountVectorizer(\n",
    "    min_df=30,\n",
    "    ngram_range=(1,2),\n",
    "    analyzer='word'\n",
    ")\n",
    "X_train_review_count = count_vect.fit_transform(X_train_review)\n",
    "X_train_review_count.shape"
   ],
   "metadata": {
    "collapsed": false,
    "ExecuteTime": {
     "end_time": "2024-06-22T14:45:39.184111Z",
     "start_time": "2024-06-22T14:45:23.839993Z"
    }
   },
   "execution_count": 69
  },
  {
   "cell_type": "code",
   "outputs": [
    {
     "data": {
      "text/plain": "(40000, 43829)"
     },
     "execution_count": 70,
     "metadata": {},
     "output_type": "execute_result"
    }
   ],
   "source": [
    "tfidf_transformer = TfidfTransformer()\n",
    "X_train_review_tfidf = tfidf_transformer.fit_transform(X_train_review_count)\n",
    "X_train_review_tfidf .shape"
   ],
   "metadata": {
    "collapsed": false,
    "ExecuteTime": {
     "end_time": "2024-06-22T14:45:39.632488Z",
     "start_time": "2024-06-22T14:45:39.184111Z"
    }
   },
   "execution_count": 70
  },
  {
   "cell_type": "markdown",
   "source": [
    "## Entrenar clasificador"
   ],
   "metadata": {
    "collapsed": false
   }
  },
  {
   "cell_type": "code",
   "outputs": [],
   "source": [
    "clf_naive_bayes = MultinomialNB(alpha=1).fit(X_train_review_tfidf, y_train_sentimiento)"
   ],
   "metadata": {
    "collapsed": false,
    "ExecuteTime": {
     "end_time": "2024-06-22T14:45:39.719902Z",
     "start_time": "2024-06-22T14:45:39.633598Z"
    }
   },
   "execution_count": 71
  },
  {
   "cell_type": "markdown",
   "source": [
    "## Realizar predicción con el conjunto de entrenamiento"
   ],
   "metadata": {
    "collapsed": false
   }
  },
  {
   "cell_type": "code",
   "outputs": [
    {
     "data": {
      "text/plain": "array(['negativo', 'positivo', 'positivo', ..., 'negativo', 'positivo',\n       'positivo'], dtype='<U8')"
     },
     "execution_count": 72,
     "metadata": {},
     "output_type": "execute_result"
    }
   ],
   "source": [
    "X_test_review_count = count_vect.transform(X_test_review)\n",
    "X_test_review_tfidf = tfidf_transformer.fit_transform(X_test_review_count)\n",
    "predicted = clf_naive_bayes.predict(X_test_review_tfidf)\n",
    "predicted"
   ],
   "metadata": {
    "collapsed": false,
    "ExecuteTime": {
     "end_time": "2024-06-22T14:45:42.255364Z",
     "start_time": "2024-06-22T14:45:39.719967Z"
    }
   },
   "execution_count": 72
  },
  {
   "cell_type": "markdown",
   "source": [
    "## Evaluación del Modelo"
   ],
   "metadata": {
    "collapsed": false
   }
  },
  {
   "cell_type": "code",
   "outputs": [
    {
     "name": "stdout",
     "output_type": "stream",
     "text": [
      "              precision    recall  f1-score   support\n",
      "\n",
      "    negativo       0.87      0.84      0.85      5000\n",
      "    positivo       0.84      0.87      0.86      5000\n",
      "\n",
      "    accuracy                           0.86     10000\n",
      "   macro avg       0.86      0.86      0.86     10000\n",
      "weighted avg       0.86      0.86      0.86     10000\n"
     ]
    },
    {
     "data": {
      "text/plain": "<Figure size 640x480 with 2 Axes>",
      "image/png": "[encoded data removed]"
     },
     "metadata": {},
     "output_type": "display_data"
    }
   ],
   "source": [
    "tabla_confusion=confusion_matrix(y_test_sentimiento,predicted)\n",
    "sns.heatmap(tabla_confusion, cmap='Blues',annot=True,fmt='g')\n",
    "plt.xlabel('Predicted')\n",
    "plt.ylabel('True')\n",
    "print(metrics.classification_report(y_test_sentimiento, predicted))"
   ],
   "metadata": {
    "collapsed": false,
    "ExecuteTime": {
     "end_time": "2024-06-22T14:45:42.602023Z",
     "start_time": "2024-06-22T14:45:42.256470Z"
    }
   },
   "execution_count": 73
  },
  {
   "cell_type": "markdown",
   "source": [
    "## Cross-validation"
   ],
   "metadata": {
    "collapsed": false
   }
  },
  {
   "cell_type": "code",
   "outputs": [
    {
     "name": "stdout",
     "output_type": "stream",
     "text": [
      "f-score= 0.8621\n"
     ]
    }
   ],
   "source": [
    "clf_naive_bayes = MultinomialNB(alpha=1).fit(X_train_review_tfidf, y_train_sentimiento)\n",
    "scores_cv_nb = cross_val_score(clf_naive_bayes,\n",
    "                               X_train_review_tfidf, \n",
    "                               y_train_sentimiento,\n",
    "                               cv = 10, \n",
    "                               scoring='f1_macro'\n",
    ")\n",
    "print(\"f-score=\",round(scores_cv_nb.mean(),4))"
   ],
   "metadata": {
    "collapsed": false,
    "ExecuteTime": {
     "end_time": "2024-06-22T14:45:43.871854Z",
     "start_time": "2024-06-22T14:45:42.602079Z"
    }
   },
   "execution_count": 74
  },
  {
   "cell_type": "markdown",
   "source": [
    "# Predicción con los datos de test.csv"
   ],
   "metadata": {
    "collapsed": false
   }
  },
  {
   "cell_type": "code",
   "outputs": [
    {
     "data": {
      "text/plain": "array(['negativo', 'negativo', 'negativo', ..., 'positivo', 'negativo',\n       'negativo'], dtype='<U8')"
     },
     "execution_count": 75,
     "metadata": {},
     "output_type": "execute_result"
    }
   ],
   "source": [
    "test = pd.read_csv('test.csv')\n",
    "X_test_counts_cinema = count_vect.transform(test.review_es)\n",
    "X_new_tfidf_cinema_test = tfidf_transformer.transform(X_test_counts_cinema)\n",
    "\n",
    "predicted_cinema = clf_naive_bayes.predict(X_new_tfidf_cinema_test)\n",
    "predicted_cinema"
   ],
   "metadata": {
    "collapsed": false,
    "ExecuteTime": {
     "end_time": "2024-06-22T14:45:45.765975Z",
     "start_time": "2024-06-22T14:45:43.871933Z"
    }
   },
   "execution_count": 75
  },
  {
   "cell_type": "markdown",
   "source": [
    "# Exportar datos para kaggle"
   ],
   "metadata": {
    "collapsed": false
   }
  },
  {
   "cell_type": "code",
   "outputs": [],
   "source": [
    "csv_nuevo_solution = pd.DataFrame(predicted_cinema)\n",
    "csv_nuevo_solution[\"ID\"] = np.arange(60000,(8599+60000),1)\n",
    "csv_nuevo_solution.columns = ['sentimiento', 'ID']\n",
    "csv_nuevo = csv_nuevo_solution.reindex(['ID', 'sentimiento'], axis=1)\n",
    "csv_nuevo.to_csv('solution_naive_bayes_final.csv',sep=',', index=False)"
   ],
   "metadata": {
    "collapsed": false,
    "ExecuteTime": {
     "end_time": "2024-06-22T14:45:45.778605Z",
     "start_time": "2024-06-22T14:45:45.765975Z"
    }
   },
   "execution_count": 76
  },
  {
   "cell_type": "markdown",
   "source": [
    "# Random Forest"
   ],
   "metadata": {
    "collapsed": false
   }
  },
  {
   "cell_type": "markdown",
   "source": [
    "## Division de los datos"
   ],
   "metadata": {
    "collapsed": false
   }
  },
  {
   "cell_type": "code",
   "outputs": [],
   "source": [
    "X = cinema_review.review_es\n",
    "y = cinema_review.sentimiento\n",
    "X_train_review, X_test_review, y_train_sentimiento, y_test_sentimiento = train_test_split(X,y,stratify=y,test_size=0.20,random_state=42)"
   ],
   "metadata": {
    "collapsed": false,
    "ExecuteTime": {
     "end_time": "2024-06-22T14:45:45.807569Z",
     "start_time": "2024-06-22T14:45:45.779720Z"
    }
   },
   "execution_count": 77
  },
  {
   "cell_type": "markdown",
   "source": [
    "# Bag of words"
   ],
   "metadata": {
    "collapsed": false
   }
  },
  {
   "cell_type": "code",
   "outputs": [],
   "source": [
    "nltk.download('stopwords')\n",
    "nltk.download('punkt')"
   ],
   "metadata": {
    "collapsed": false
   },
   "execution_count": null
  },
  {
   "cell_type": "markdown",
   "source": [
    "## Feature Engineer"
   ],
   "metadata": {
    "collapsed": false
   }
  },
  {
   "cell_type": "code",
   "outputs": [
    {
     "data": {
      "text/plain": "47808    cogí pequeña joya totalmente accidente 1980 '8...\n20154    puedo creer permita película lograr favor amig...\n43069    ¡alerta spoiler solo pone nervio personas reha...\n19413    si cosa aprendido ver crío george romero si tr...\n13673    recuerdo teatros dijo dijo horrible.bueno pens...\n                               ...                        \n31092    década 1920.y hombre llamado walt disney misió...\n22917    primer único tiempo vi `` sombras '' snakpreve...\n47481    pérdida tiempo.peligro si ves sentirá tentado ...\n35597    cine indio película patético cualquier cine pr...\n27491    película siempre dejó impresión mí.lo vi estud...\nName: review_es, Length: 40000, dtype: object"
     },
     "execution_count": 79,
     "metadata": {},
     "output_type": "execute_result"
    }
   ],
   "source": [
    "def preprocess_text(text):\n",
    "    # tokenizacion\n",
    "    tokens = word_tokenize(text.lower())\n",
    "    # elimino signos de puntuación\n",
    "    tokens = [word for word in tokens if word not in string.punctuation]\n",
    "    # elimino stopwords\n",
    "    stop_words = set(stopwords.words('spanish'))\n",
    "    tokens = [word for word in tokens if word not in stop_words]\n",
    "    return \" \".join(tokens)\n",
    "\n",
    "X_train_review = X_train_review.apply(preprocess_text)\n",
    "X_test_review = X_test_review.apply(preprocess_text)\n",
    "X_train_review"
   ],
   "metadata": {
    "collapsed": false,
    "ExecuteTime": {
     "end_time": "2024-06-22T14:46:31.161669Z",
     "start_time": "2024-06-22T14:45:45.813518Z"
    }
   },
   "execution_count": 79
  },
  {
   "cell_type": "markdown",
   "source": [
    "## Tokenizar y vectorizar documentos para el entrenamiento del modelo"
   ],
   "metadata": {
    "collapsed": false
   }
  },
  {
   "cell_type": "code",
   "outputs": [
    {
     "data": {
      "text/plain": "<40000x153999 sparse matrix of type '<class 'numpy.int64'>'\n\twith 5714595 stored elements in Compressed Sparse Row format>"
     },
     "execution_count": 80,
     "metadata": {},
     "output_type": "execute_result"
    }
   ],
   "source": [
    "count_vect = CountVectorizer(\n",
    "    min_df=5,\n",
    "    ngram_range=(1,2),\n",
    "    analyzer='word'\n",
    ")\n",
    "X_train_review_count = count_vect.fit_transform(X_train_review)\n",
    "X_train_review_count"
   ],
   "metadata": {
    "collapsed": false,
    "ExecuteTime": {
     "end_time": "2024-06-22T14:46:41.838559Z",
     "start_time": "2024-06-22T14:46:31.162762Z"
    }
   },
   "execution_count": 80
  },
  {
   "cell_type": "code",
   "outputs": [
    {
     "data": {
      "text/plain": "(40000, 153999)"
     },
     "execution_count": 81,
     "metadata": {},
     "output_type": "execute_result"
    }
   ],
   "source": [
    "tfidf_transformer = TfidfTransformer()\n",
    "X_train_review_tfidf = tfidf_transformer.fit_transform(X_train_review_count)\n",
    "X_train_review_tfidf.shape"
   ],
   "metadata": {
    "collapsed": false,
    "ExecuteTime": {
     "end_time": "2024-06-22T14:46:42.112089Z",
     "start_time": "2024-06-22T14:46:41.839634Z"
    }
   },
   "execution_count": 81
  },
  {
   "cell_type": "markdown",
   "source": [
    "Utilizo Random Search CV para la búsqueda de los mejores hiperparámetros."
   ],
   "metadata": {
    "collapsed": false
   }
  },
  {
   "cell_type": "markdown",
   "source": [
    "*   n_estimators: la cantidad de árboles que utilizará Random Forest.\n",
    "*   criterion: criterio de decisión.\n",
    "*   min_samples_leaf: el número de muestras mínimas para ser considerada una hoja.\n",
    "*   min_samples_split: el número mínimo de muestras para dividir un nodo."
   ],
   "metadata": {
    "collapsed": false
   }
  },
  {
   "cell_type": "code",
   "outputs": [],
   "source": [
    "random_forest = RandomForestClassifier(oob_score=True, random_state=42, n_jobs=-1)\n",
    "\n",
    "param_grid = { \"criterion\" : [\"gini\", \"entropy\"],\n",
    "               \"min_samples_leaf\" : [1, 5, 10],\n",
    "               \"min_samples_split\" : [2, 4, 10, 12, 16],\n",
    "               \"n_estimators\": [10,20, 50] }\n",
    "\n",
    "randomized_search =  RandomizedSearchCV(estimator=random_forest,\n",
    "                              param_distributions = param_grid,\n",
    "                              scoring=\"accuracy\",\n",
    "                              cv=15,\n",
    "                              n_iter=1)\n",
    "rs_fit = randomized_search.fit(X_train_review_tfidf, y_train_sentimiento)"
   ],
   "metadata": {
    "collapsed": false
   },
   "execution_count": null
  },
  {
   "cell_type": "markdown",
   "source": [
    "### Mejores Parametros"
   ],
   "metadata": {
    "collapsed": false
   }
  },
  {
   "cell_type": "code",
   "outputs": [
    {
     "data": {
      "text/plain": "{'n_estimators': 10,\n 'min_samples_split': 2,\n 'min_samples_leaf': 5,\n 'criterion': 'entropy'}"
     },
     "execution_count": 83,
     "metadata": {},
     "output_type": "execute_result"
    }
   ],
   "source": [
    "rs_fit.best_params_"
   ],
   "metadata": {
    "collapsed": false,
    "ExecuteTime": {
     "end_time": "2024-06-22T14:46:54.942750Z",
     "start_time": "2024-06-22T14:46:54.938559Z"
    }
   },
   "execution_count": 83
  },
  {
   "cell_type": "markdown",
   "source": [
    "### Accuracy"
   ],
   "metadata": {
    "collapsed": false
   }
  },
  {
   "cell_type": "code",
   "outputs": [
    {
     "name": "stdout",
     "output_type": "stream",
     "text": [
      "accuracy en entrenamiento con cv: 0.7951748717081781\n"
     ]
    }
   ],
   "source": [
    "print(\"accuracy en entrenamiento con cv: \"+str(rs_fit.best_score_))"
   ],
   "metadata": {
    "collapsed": false,
    "ExecuteTime": {
     "end_time": "2024-06-22T14:46:54.952637Z",
     "start_time": "2024-06-22T14:46:54.943807Z"
    }
   },
   "execution_count": 84
  },
  {
   "cell_type": "markdown",
   "source": [
    "Utilizaremos el dataset de validación para verificar qué tan bien le va a nuestro modelo con datos nuevos."
   ],
   "metadata": {
    "collapsed": false
   }
  },
  {
   "cell_type": "code",
   "outputs": [],
   "source": [
    "X_test_review_count = count_vect.transform(X_test_review)\n",
    "X_test_review_tfidf = tfidf_transformer.fit_transform(X_test_review_count)\n",
    "best_model = rs_fit.best_estimator_\n",
    "predicted = best_model.predict(X_test_review_tfidf)"
   ],
   "metadata": {
    "collapsed": false,
    "ExecuteTime": {
     "end_time": "2024-06-22T14:46:56.652837Z",
     "start_time": "2024-06-22T14:46:54.952696Z"
    }
   },
   "execution_count": 85
  },
  {
   "cell_type": "markdown",
   "source": [
    "## Evaluación del Modelo"
   ],
   "metadata": {
    "collapsed": false
   }
  },
  {
   "cell_type": "code",
   "outputs": [
    {
     "name": "stdout",
     "output_type": "stream",
     "text": [
      "              precision    recall  f1-score   support\n",
      "\n",
      "    negativo       0.80      0.81      0.81      5000\n",
      "    positivo       0.81      0.80      0.80      5000\n",
      "\n",
      "    accuracy                           0.80     10000\n",
      "   macro avg       0.80      0.80      0.80     10000\n",
      "weighted avg       0.80      0.80      0.80     10000\n"
     ]
    },
    {
     "data": {
      "text/plain": "<Figure size 640x480 with 2 Axes>",
      "image/png": "[encoded data removed]"
     },
     "metadata": {},
     "output_type": "display_data"
    }
   ],
   "source": [
    "tabla_confusion=confusion_matrix(y_test_sentimiento,predicted)\n",
    "sns.heatmap(tabla_confusion, cmap='Blues',annot=True,fmt='g')\n",
    "plt.xlabel('Predicted')\n",
    "plt.ylabel('True')\n",
    "print(metrics.classification_report(y_test_sentimiento, predicted))"
   ],
   "metadata": {
    "collapsed": false,
    "ExecuteTime": {
     "end_time": "2024-06-22T14:46:56.937891Z",
     "start_time": "2024-06-22T14:46:56.653009Z"
    }
   },
   "execution_count": 86
  },
  {
   "cell_type": "markdown",
   "source": [
    "## Predicción con los datos de prueba"
   ],
   "metadata": {
    "collapsed": false
   }
  },
  {
   "cell_type": "code",
   "outputs": [
    {
     "data": {
      "text/plain": "array(['negativo', 'negativo', 'negativo', ..., 'positivo', 'negativo',\n       'negativo'], dtype=object)"
     },
     "execution_count": 87,
     "metadata": {},
     "output_type": "execute_result"
    }
   ],
   "source": [
    "test = pd.read_csv('test.csv')\n",
    "X_test_counts_cinema = count_vect.transform(test.review_es)\n",
    "X_new_tfidf_cinema_test = tfidf_transformer.transform(X_test_counts_cinema)\n",
    "\n",
    "predicted_cinema = best_model.predict(X_new_tfidf_cinema_test)\n",
    "predicted_cinema"
   ],
   "metadata": {
    "collapsed": false,
    "ExecuteTime": {
     "end_time": "2024-06-22T14:46:58.909316Z",
     "start_time": "2024-06-22T14:46:56.938913Z"
    }
   },
   "execution_count": 87
  },
  {
   "cell_type": "markdown",
   "source": [
    "## Exportar Resultados a kaggle"
   ],
   "metadata": {
    "collapsed": false
   }
  },
  {
   "cell_type": "code",
   "outputs": [],
   "source": [
    "csv_nuevo_solution = pd.DataFrame(predicted_cinema)\n",
    "csv_nuevo_solution[\"ID\"] = np.arange(60000,(8599+60000),1)\n",
    "csv_nuevo_solution.columns = ['sentimiento', 'ID']\n",
    "csv_nuevo = csv_nuevo_solution.reindex(['ID', 'sentimiento'], axis=1)\n",
    "csv_nuevo.to_csv('solution_random_forest_final.csv',sep=',', index=False)"
   ],
   "metadata": {
    "collapsed": false,
    "ExecuteTime": {
     "end_time": "2024-06-22T14:46:58.920186Z",
     "start_time": "2024-06-22T14:46:58.910393Z"
    }
   },
   "execution_count": 88
  },
  {
   "cell_type": "code",
   "outputs": [],
   "source": [],
   "metadata": {
    "collapsed": false,
    "ExecuteTime": {
     "end_time": "2024-06-22T14:46:58.923128Z",
     "start_time": "2024-06-22T14:46:58.921208Z"
    }
   },
   "execution_count": 88
  }
 ]
}
