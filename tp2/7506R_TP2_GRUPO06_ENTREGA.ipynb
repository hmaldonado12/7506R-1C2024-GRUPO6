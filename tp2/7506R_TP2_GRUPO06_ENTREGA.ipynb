{
 "nbformat": 4,
 "nbformat_minor": 0,
 "metadata": {
  "colab": {
   "provenance": [],
   "authorship_tag": "ABX9TyOOLQk35zyPRg8rv+EgiPCk",
   "include_colab_link": true
  },
  "kernelspec": {
   "name": "python3",
   "language": "python",
   "display_name": "Python 3 (ipykernel)"
  },
  "language_info": {
   "name": "python"
  }
 },
 "cells": [
  {
   "cell_type": "markdown",
   "metadata": {
    "id": "view-in-github",
    "colab_type": "text"
   },
   "source": [
    "<a href=\"https://colab.research.google.com/github/hmaldonado12/7506R-1C2024-GRUPO6/blob/main/tp2/7506R_TP2_GRUPO06_ENTREGA.ipynb\" target=\"_parent\"><img src=\"https://colab.research.google.com/assets/colab-badge.svg\" alt=\"Open In Colab\"/></a>"
   ]
  },
  {
   "cell_type": "markdown",
   "source": [
    "# IMPORTS"
   ],
   "metadata": {
    "id": "su3hJnoqvso2"
   }
  },
  {
   "cell_type": "code",
   "execution_count": 16,
   "metadata": {
    "id": "9uRVgWqLvjUq",
    "ExecuteTime": {
     "end_time": "2024-06-22T14:20:49.895636Z",
     "start_time": "2024-06-22T14:20:49.891724Z"
    }
   },
   "outputs": [],
   "source": [
    "from sklearn.feature_extraction.text import CountVectorizer\n",
    "from sklearn.feature_extraction.text import TfidfTransformer\n",
    "from sklearn.naive_bayes import MultinomialNB\n",
    "from sklearn import metrics\n",
    "import pandas as pd\n",
    "import unicodedata\n",
    "from sklearn.model_selection import train_test_split\n",
    "from sklearn.model_selection import cross_val_score\n",
    "import numpy as np\n",
    "import warnings\n",
    "\n",
    "warnings.simplefilter(action='ignore', category=FutureWarning)"
   ]
  },
  {
   "cell_type": "code",
   "source": [
    "'''from google.colab import drive\n",
    "drive.mount('/content/drive')'''"
   ],
   "metadata": {
    "colab": {
     "base_uri": "https://localhost:8080/"
    },
    "id": "FDzTCsh4xfEN",
    "outputId": "aadd3a8f-b463-4950-909d-508961436c8d",
    "ExecuteTime": {
     "end_time": "2024-06-22T14:20:50.027917Z",
     "start_time": "2024-06-22T14:20:50.023474Z"
    }
   },
   "execution_count": 17,
   "outputs": [
    {
     "data": {
      "text/plain": "\"from google.colab import drive\\ndrive.mount('/content/drive')\""
     },
     "execution_count": 17,
     "metadata": {},
     "output_type": "execute_result"
    }
   ]
  },
  {
   "cell_type": "code",
   "source": [
    "'''df_train_original = pd.read_csv('/content/drive/MyDrive/Colab Notebooks/train.csv')\n",
    "df_test_original = pd.read_csv('/content/drive/MyDrive/Colab Notebooks/test.csv')\n",
    "\n",
    "df_train = df_train_original.copy()\n",
    "df_test = df_test_original.copy()'''"
   ],
   "metadata": {
    "id": "uPRCKTX5xe8d",
    "ExecuteTime": {
     "end_time": "2024-06-22T14:20:50.049592Z",
     "start_time": "2024-06-22T14:20:50.045124Z"
    }
   },
   "execution_count": 18,
   "outputs": [
    {
     "data": {
      "text/plain": "\"df_train_original = pd.read_csv('/content/drive/MyDrive/Colab Notebooks/train.csv')\\ndf_test_original = pd.read_csv('/content/drive/MyDrive/Colab Notebooks/test.csv')\\n\\ndf_train = df_train_original.copy()\\ndf_test = df_test_original.copy()\""
     },
     "execution_count": 18,
     "metadata": {},
     "output_type": "execute_result"
    }
   ]
  },
  {
   "cell_type": "markdown",
   "source": [
    "# Preprocesamiento del dataset."
   ],
   "metadata": {
    "id": "ocW_aJX9xMMm"
   }
  },
  {
   "cell_type": "markdown",
   "source": [
    "En esta notebook nos encargamos de efectuar la limpieza de dataset, la detección de datos incorrectos y/o vacíos, outliers, todo aquello que pueda imposibilitarnos a usar los modelos propuestos."
   ],
   "metadata": {
    "id": "xKzlsHQjxO4z"
   }
  },
  {
   "cell_type": "code",
   "source": [
    "#df_train.info()"
   ],
   "metadata": {
    "colab": {
     "base_uri": "https://localhost:8080/"
    },
    "id": "ziBaDpwtvw9O",
    "outputId": "9f058344-77e2-4d81-90eb-005a5931f09b",
    "ExecuteTime": {
     "end_time": "2024-06-22T14:20:50.075333Z",
     "start_time": "2024-06-22T14:20:50.072457Z"
    }
   },
   "execution_count": 19,
   "outputs": []
  },
  {
   "cell_type": "markdown",
   "source": [
    "Podemos ver que el dataset train no tiene datos faltantes."
   ],
   "metadata": {
    "id": "dRjZFzg3zj-P"
   }
  },
  {
   "cell_type": "code",
   "source": [
    "#df_train[df_train.duplicated(keep=False)]"
   ],
   "metadata": {
    "colab": {
     "base_uri": "https://localhost:8080/",
     "height": 53
    },
    "id": "2Xb1Kjm0ziW4",
    "outputId": "7f497b31-c23b-4e21-f78e-6d0bb87f0252",
    "ExecuteTime": {
     "end_time": "2024-06-22T14:20:50.089350Z",
     "start_time": "2024-06-22T14:20:50.086990Z"
    }
   },
   "execution_count": 20,
   "outputs": []
  },
  {
   "cell_type": "markdown",
   "source": [
    "Tampoco tiene filas duplicadas."
   ],
   "metadata": {
    "id": "gYWpkHS90iHA"
   }
  },
  {
   "cell_type": "code",
   "source": [
    "#df_test.info()"
   ],
   "metadata": {
    "colab": {
     "base_uri": "https://localhost:8080/"
    },
    "id": "rOPilQZez6QY",
    "outputId": "52440137-a3ef-4ae8-c920-d4321bd3cc04",
    "ExecuteTime": {
     "end_time": "2024-06-22T14:20:50.102024Z",
     "start_time": "2024-06-22T14:20:50.099041Z"
    }
   },
   "execution_count": 21,
   "outputs": []
  },
  {
   "cell_type": "code",
   "source": [
    "#df_test[df_test.duplicated(keep=False)]"
   ],
   "metadata": {
    "colab": {
     "base_uri": "https://localhost:8080/",
     "height": 53
    },
    "id": "YOZoywbg0lM4",
    "outputId": "750c57c8-d574-41eb-bf38-b7a077310ed8",
    "ExecuteTime": {
     "end_time": "2024-06-22T14:20:50.107358Z",
     "start_time": "2024-06-22T14:20:50.103126Z"
    }
   },
   "execution_count": 22,
   "outputs": []
  },
  {
   "cell_type": "markdown",
   "source": [
    "El mismo resultado para test."
   ],
   "metadata": {
    "id": "Y7JjlKu80puY"
   }
  },
  {
   "cell_type": "markdown",
   "source": [
    "# Bag of words"
   ],
   "metadata": {
    "id": "mrUhSeaQ1DkL"
   }
  },
  {
   "cell_type": "code",
   "source": [],
   "metadata": {
    "id": "W8kfmJz31hdS",
    "ExecuteTime": {
     "end_time": "2024-06-22T14:20:50.119138Z",
     "start_time": "2024-06-22T14:20:50.116037Z"
    }
   },
   "execution_count": 22,
   "outputs": []
  },
  {
   "cell_type": "markdown",
   "source": [
    "# Naive Bayes\n",
    "Es un método de aprendizaje supervisado basado en la aplicación del teorema de Bayes con el supuesto \"ingenuo\" de independencia condicional entre cada par de características dado el valor de la variable de clase.\n",
    "Según bayes si tengo un conjunto de clase C y para un documento D, si encuentro una clase que maximice su probabilidad condicional, entonces el documento pertenece a esa clase."
   ],
   "metadata": {
    "collapsed": false
   }
  },
  {
   "cell_type": "markdown",
   "source": [
    "## Objetivo\n",
    "- Dado un determinado numero de documentos de criticas sobre películas, determinar para cada documento si la crítica es positiva o negativa"
   ],
   "metadata": {
    "collapsed": false
   }
  },
  {
   "cell_type": "markdown",
   "source": [
    "## Descripción de los datos\n",
    "- **ID:** Identificador unico de cada review\n",
    "- **review_es:** Documento que contiene la crítica\n",
    "- **sentimiento:** Clases la cual pertenece una crítica la misma puede ser POSITIVA o NEGATIVA"
   ],
   "metadata": {
    "collapsed": false
   }
  },
  {
   "cell_type": "code",
   "outputs": [
    {
     "data": {
      "text/plain": "          ID                                          review_es sentimiento\n0          0  Uno de los otros críticos ha mencionado que de...    positivo\n1          1  Una pequeña pequeña producción.La técnica de f...    positivo\n2          2  Pensé que esta era una manera maravillosa de p...    positivo\n3          3  Básicamente, hay una familia donde un niño peq...    negativo\n4          4  El \"amor en el tiempo\" de Petter Mattei es una...    positivo\n...      ...                                                ...         ...\n49995  49995  Pensé que esta película hizo un buen trabajo a...    positivo\n49996  49996  Mala parcela, mal diálogo, mala actuación, dir...    negativo\n49997  49997  Soy católica enseñada en escuelas primarias pa...    negativo\n49998  49998  Voy a tener que estar en desacuerdo con el com...    negativo\n49999  49999  Nadie espera que las películas de Star Trek se...    negativo\n\n[50000 rows x 3 columns]",
      "text/html": "<div>\n<style scoped>\n    .dataframe tbody tr th:only-of-type {\n        vertical-align: middle;\n    }\n\n    .dataframe tbody tr th {\n        vertical-align: top;\n    }\n\n    .dataframe thead th {\n        text-align: right;\n    }\n</style>\n<table border=\"1\" class=\"dataframe\">\n  <thead>\n    <tr style=\"text-align: right;\">\n      <th></th>\n      <th>ID</th>\n      <th>review_es</th>\n      <th>sentimiento</th>\n    </tr>\n  </thead>\n  <tbody>\n    <tr>\n      <th>0</th>\n      <td>0</td>\n      <td>Uno de los otros críticos ha mencionado que de...</td>\n      <td>positivo</td>\n    </tr>\n    <tr>\n      <th>1</th>\n      <td>1</td>\n      <td>Una pequeña pequeña producción.La técnica de f...</td>\n      <td>positivo</td>\n    </tr>\n    <tr>\n      <th>2</th>\n      <td>2</td>\n      <td>Pensé que esta era una manera maravillosa de p...</td>\n      <td>positivo</td>\n    </tr>\n    <tr>\n      <th>3</th>\n      <td>3</td>\n      <td>Básicamente, hay una familia donde un niño peq...</td>\n      <td>negativo</td>\n    </tr>\n    <tr>\n      <th>4</th>\n      <td>4</td>\n      <td>El \"amor en el tiempo\" de Petter Mattei es una...</td>\n      <td>positivo</td>\n    </tr>\n    <tr>\n      <th>...</th>\n      <td>...</td>\n      <td>...</td>\n      <td>...</td>\n    </tr>\n    <tr>\n      <th>49995</th>\n      <td>49995</td>\n      <td>Pensé que esta película hizo un buen trabajo a...</td>\n      <td>positivo</td>\n    </tr>\n    <tr>\n      <th>49996</th>\n      <td>49996</td>\n      <td>Mala parcela, mal diálogo, mala actuación, dir...</td>\n      <td>negativo</td>\n    </tr>\n    <tr>\n      <th>49997</th>\n      <td>49997</td>\n      <td>Soy católica enseñada en escuelas primarias pa...</td>\n      <td>negativo</td>\n    </tr>\n    <tr>\n      <th>49998</th>\n      <td>49998</td>\n      <td>Voy a tener que estar en desacuerdo con el com...</td>\n      <td>negativo</td>\n    </tr>\n    <tr>\n      <th>49999</th>\n      <td>49999</td>\n      <td>Nadie espera que las películas de Star Trek se...</td>\n      <td>negativo</td>\n    </tr>\n  </tbody>\n</table>\n<p>50000 rows × 3 columns</p>\n</div>"
     },
     "execution_count": 23,
     "metadata": {},
     "output_type": "execute_result"
    }
   ],
   "source": [
    "cinema_review = pd.read_csv('train.csv')\n",
    "cinema_review"
   ],
   "metadata": {
    "collapsed": false,
    "ExecuteTime": {
     "end_time": "2024-06-22T14:20:50.819307Z",
     "start_time": "2024-06-22T14:20:50.160340Z"
    }
   },
   "execution_count": 23
  },
  {
   "cell_type": "markdown",
   "source": [
    "## Separación de datos\n",
    "### Generación de conjunto de test y train"
   ],
   "metadata": {
    "collapsed": false
   }
  },
  {
   "cell_type": "code",
   "outputs": [],
   "source": [
    "X = cinema_review.review_es\n",
    "y = cinema_review.sentimiento\n",
    "X_train_review, X_test_review, y_train_sentimiento, y_test_sentimiento = train_test_split(X,y,stratify=y,test_size=0.20,random_state=42)"
   ],
   "metadata": {
    "collapsed": false,
    "ExecuteTime": {
     "end_time": "2024-06-22T14:20:50.847989Z",
     "start_time": "2024-06-22T14:20:50.820448Z"
    }
   },
   "execution_count": 24
  },
  {
   "cell_type": "markdown",
   "source": [
    "#### Textos de entranamiento"
   ],
   "metadata": {
    "collapsed": false
   }
  },
  {
   "cell_type": "code",
   "outputs": [
    {
     "data": {
      "text/plain": "47808    Cogí esta pequeña joya totalmente por accident...\n20154    No puedo creer que me permita a esta película ...\n43069    * ¡Alerta de spoiler! * Solo me pone el nervio...\n19413    Si hay una cosa que he aprendido de ver el crí...\n13673    Recuerdo cuando esto estaba en los teatros, di...\n                               ...                        \n31092    Es la década de 1920.Y un hombre llamado Walt ...\n22917    El primer (y único) tiempo que vi \"Sombras\" fu...\n47481    Esta fue una pérdida de tiempo.PELIGRO: Si lo ...\n35597    Esto es, con mucho, el cine indio de la pelícu...\n27491    Esta película para siempre dejó una impresión ...\nName: review_es, Length: 40000, dtype: object"
     },
     "execution_count": 25,
     "metadata": {},
     "output_type": "execute_result"
    }
   ],
   "source": [
    "X_train_review"
   ],
   "metadata": {
    "collapsed": false,
    "ExecuteTime": {
     "end_time": "2024-06-22T14:20:50.853550Z",
     "start_time": "2024-06-22T14:20:50.849157Z"
    }
   },
   "execution_count": 25
  },
  {
   "cell_type": "code",
   "outputs": [
    {
     "data": {
      "text/plain": "47808    positivo\n20154    negativo\n43069    negativo\n19413    negativo\n13673    negativo\n           ...   \n31092    positivo\n22917    negativo\n47481    negativo\n35597    negativo\n27491    negativo\nName: sentimiento, Length: 40000, dtype: object"
     },
     "execution_count": 26,
     "metadata": {},
     "output_type": "execute_result"
    }
   ],
   "source": [
    "y_train_sentimiento"
   ],
   "metadata": {
    "collapsed": false,
    "ExecuteTime": {
     "end_time": "2024-06-22T14:20:50.858827Z",
     "start_time": "2024-06-22T14:20:50.854605Z"
    }
   },
   "execution_count": 26
  },
  {
   "cell_type": "markdown",
   "source": [
    "**Antes de comenzar a realizar las predicciones es necesario realizar las feature engineer, que permitan sacar el ruido que puedan tener los datos y que esto no influya en el modelo que clasifica las críticas**"
   ],
   "metadata": {
    "collapsed": false
   }
  },
  {
   "cell_type": "markdown",
   "source": [
    "## Feature Engineer\n",
    "### Normalización\n",
    "Para cada texto del dataFrame vamos a extraer todos los caracteres distintos a letras y números, para disminuir la introducción de ruidos al modelo de NaiveBayes"
   ],
   "metadata": {
    "collapsed": false
   }
  },
  {
   "cell_type": "code",
   "outputs": [
    {
     "data": {
      "text/plain": "47808    Cogi esta pequena joya totalmente por accident...\n20154    No puedo creer que me permita a esta pelicula ...\n43069    * Alerta de spoiler! * Solo me pone el nervio ...\n19413    Si hay una cosa que he aprendido de ver el cri...\n13673    Recuerdo cuando esto estaba en los teatros, di...\n                               ...                        \n31092    Es la decada de 1920.Y un hombre llamado Walt ...\n22917    El primer (y unico) tiempo que vi \"Sombras\" fu...\n47481    Esta fue una perdida de tiempo.PELIGRO: Si lo ...\n35597    Esto es, con mucho, el cine indio de la pelicu...\n27491    Esta pelicula para siempre dejo una impresion ...\nName: review_es, Length: 40000, dtype: object"
     },
     "execution_count": 27,
     "metadata": {},
     "output_type": "execute_result"
    }
   ],
   "source": [
    "for indice in range(0, len(X_train_review)):\n",
    "    X_train_review.iloc[indice] = unicodedata.normalize(\"NFKD\", X_train_review.iloc[indice]).encode(\"ascii\",\"ignore\").decode(\"ascii\")\n",
    "X_train_review"
   ],
   "metadata": {
    "collapsed": false,
    "ExecuteTime": {
     "end_time": "2024-06-22T14:20:52.023401Z",
     "start_time": "2024-06-22T14:20:50.858827Z"
    }
   },
   "execution_count": 27
  },
  {
   "cell_type": "markdown",
   "source": [
    "## Tokenizar y vectorizar documentos para el entrenamiento del modelo"
   ],
   "metadata": {
    "collapsed": false
   }
  },
  {
   "cell_type": "code",
   "outputs": [
    {
     "data": {
      "text/plain": "(40000, 43829)"
     },
     "execution_count": 28,
     "metadata": {},
     "output_type": "execute_result"
    }
   ],
   "source": [
    "count_vect = CountVectorizer(\n",
    "    min_df=30,\n",
    "    ngram_range=(1,2),\n",
    "    analyzer='word'\n",
    ")\n",
    "X_train_review_count = count_vect.fit_transform(X_train_review)\n",
    "X_train_review_count.shape"
   ],
   "metadata": {
    "collapsed": false,
    "ExecuteTime": {
     "end_time": "2024-06-22T14:21:06.494053Z",
     "start_time": "2024-06-22T14:20:52.023401Z"
    }
   },
   "execution_count": 28
  },
  {
   "cell_type": "code",
   "outputs": [
    {
     "data": {
      "text/plain": "(40000, 43829)"
     },
     "execution_count": 29,
     "metadata": {},
     "output_type": "execute_result"
    }
   ],
   "source": [
    "tfidf_transformer = TfidfTransformer()\n",
    "X_train_review_tfidf = tfidf_transformer.fit_transform(X_train_review_count)\n",
    "X_train_review_tfidf .shape"
   ],
   "metadata": {
    "collapsed": false,
    "ExecuteTime": {
     "end_time": "2024-06-22T14:21:06.928440Z",
     "start_time": "2024-06-22T14:21:06.495118Z"
    }
   },
   "execution_count": 29
  },
  {
   "cell_type": "markdown",
   "source": [
    "## Entrenar clasificador"
   ],
   "metadata": {
    "collapsed": false
   }
  },
  {
   "cell_type": "code",
   "outputs": [],
   "source": [
    "clf_naive_bayes = MultinomialNB(alpha=1).fit(X_train_review_tfidf, y_train_sentimiento)"
   ],
   "metadata": {
    "collapsed": false,
    "ExecuteTime": {
     "end_time": "2024-06-22T14:21:07.015993Z",
     "start_time": "2024-06-22T14:21:06.928506Z"
    }
   },
   "execution_count": 30
  },
  {
   "cell_type": "markdown",
   "source": [
    "## Realizar predicción con el conjunto de entrenamiento"
   ],
   "metadata": {
    "collapsed": false
   }
  },
  {
   "cell_type": "code",
   "outputs": [
    {
     "data": {
      "text/plain": "array(['negativo', 'positivo', 'positivo', ..., 'negativo', 'positivo',\n       'positivo'], dtype='<U8')"
     },
     "execution_count": 31,
     "metadata": {},
     "output_type": "execute_result"
    }
   ],
   "source": [
    "X_test_review_count = count_vect.transform(X_test_review)\n",
    "X_test_review_tfidf = tfidf_transformer.fit_transform(X_test_review_count)\n",
    "predicted = clf_naive_bayes.predict(X_test_review_tfidf)\n",
    "predicted"
   ],
   "metadata": {
    "collapsed": false,
    "ExecuteTime": {
     "end_time": "2024-06-22T14:21:09.453225Z",
     "start_time": "2024-06-22T14:21:07.017114Z"
    }
   },
   "execution_count": 31
  },
  {
   "cell_type": "markdown",
   "source": [
    "## Evaluación del Modelo"
   ],
   "metadata": {
    "collapsed": false
   }
  },
  {
   "cell_type": "code",
   "outputs": [
    {
     "name": "stdout",
     "output_type": "stream",
     "text": [
      "              precision    recall  f1-score   support\n",
      "\n",
      "    negativo       0.87      0.84      0.85      5000\n",
      "    positivo       0.84      0.87      0.86      5000\n",
      "\n",
      "    accuracy                           0.86     10000\n",
      "   macro avg       0.86      0.86      0.86     10000\n",
      "weighted avg       0.86      0.86      0.86     10000\n"
     ]
    }
   ],
   "source": [
    "print(metrics.classification_report(y_test_sentimiento, predicted))"
   ],
   "metadata": {
    "collapsed": false,
    "ExecuteTime": {
     "end_time": "2024-06-22T14:21:09.610017Z",
     "start_time": "2024-06-22T14:21:09.454854Z"
    }
   },
   "execution_count": 32
  },
  {
   "cell_type": "markdown",
   "source": [
    "## Cross-validation"
   ],
   "metadata": {
    "collapsed": false
   }
  },
  {
   "cell_type": "code",
   "outputs": [
    {
     "name": "stdout",
     "output_type": "stream",
     "text": [
      "f-score= 0.8621\n"
     ]
    }
   ],
   "source": [
    "clf_naive_bayes = MultinomialNB(alpha=1).fit(X_train_review_tfidf, y_train_sentimiento)\n",
    "scores_cv_nb = cross_val_score(clf_naive_bayes,\n",
    "                               X_train_review_tfidf, \n",
    "                               y_train_sentimiento,\n",
    "                               cv = 10, \n",
    "                               scoring='f1_macro'\n",
    ")\n",
    "print(\"f-score=\",round(scores_cv_nb.mean(),4))"
   ],
   "metadata": {
    "collapsed": false,
    "ExecuteTime": {
     "end_time": "2024-06-22T14:21:10.841806Z",
     "start_time": "2024-06-22T14:21:09.611051Z"
    }
   },
   "execution_count": 33
  },
  {
   "cell_type": "markdown",
   "source": [
    "# Predicción con los datos de test.csv"
   ],
   "metadata": {
    "collapsed": false
   }
  },
  {
   "cell_type": "code",
   "outputs": [
    {
     "data": {
      "text/plain": "array(['negativo', 'negativo', 'negativo', ..., 'positivo', 'negativo',\n       'negativo'], dtype='<U8')"
     },
     "execution_count": 34,
     "metadata": {},
     "output_type": "execute_result"
    }
   ],
   "source": [
    "test = pd.read_csv('test.csv')\n",
    "X_test_counts_cinema = count_vect.transform(test.review_es)\n",
    "X_new_tfidf_cinema_test = tfidf_transformer.transform(X_test_counts_cinema)\n",
    "\n",
    "predicted_cinema = clf_naive_bayes.predict(X_new_tfidf_cinema_test)\n",
    "predicted_cinema"
   ],
   "metadata": {
    "collapsed": false,
    "ExecuteTime": {
     "end_time": "2024-06-22T14:21:12.637926Z",
     "start_time": "2024-06-22T14:21:10.842830Z"
    }
   },
   "execution_count": 34
  },
  {
   "cell_type": "markdown",
   "source": [
    "# Exportar datos para kaggle"
   ],
   "metadata": {
    "collapsed": false
   }
  },
  {
   "cell_type": "code",
   "outputs": [],
   "source": [
    "csv_nuevo_solution = pd.DataFrame(predicted_cinema)\n",
    "csv_nuevo_solution[\"ID\"] = np.arange(60000,(8599+60000),1)\n",
    "csv_nuevo_solution.columns = ['sentimiento', 'ID']\n",
    "csv_nuevo = csv_nuevo_solution.reindex(['ID', 'sentimiento'], axis=1)\n",
    "csv_nuevo.to_csv('solution_naive_bayes_final.csv',sep=',', index=False)"
   ],
   "metadata": {
    "collapsed": false,
    "ExecuteTime": {
     "end_time": "2024-06-22T14:21:12.649885Z",
     "start_time": "2024-06-22T14:21:12.638954Z"
    }
   },
   "execution_count": 35
  },
  {
   "cell_type": "code",
   "outputs": [],
   "source": [],
   "metadata": {
    "collapsed": false,
    "ExecuteTime": {
     "end_time": "2024-06-22T14:21:12.652864Z",
     "start_time": "2024-06-22T14:21:12.651032Z"
    }
   },
   "execution_count": 35
  }
 ]
}
