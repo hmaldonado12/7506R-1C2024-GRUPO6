{
 "cells": [
  {
   "cell_type": "markdown",
   "source": [
    "# IMPORTS"
   ],
   "metadata": {
    "collapsed": false
   },
   "id": "7323c92c9b2b71a6"
  },
  {
   "cell_type": "code",
   "outputs": [],
   "source": [
    "from sklearn.feature_extraction.text import CountVectorizer\n",
    "from sklearn.feature_extraction.text import TfidfTransformer\n",
    "from sklearn.naive_bayes import MultinomialNB\n",
    "from sklearn import metrics\n",
    "import pandas as pd\n",
    "import unicodedata\n",
    "from sklearn.model_selection import train_test_split\n",
    "from sklearn.model_selection import cross_val_score\n",
    "import numpy as np\n",
    "import nltk\n",
    "from nltk.corpus import stopwords\n",
    "from nltk import word_tokenize\n",
    "import string"
   ],
   "metadata": {
    "collapsed": false,
    "ExecuteTime": {
     "end_time": "2024-06-01T20:35:21.520401Z",
     "start_time": "2024-06-01T20:35:21.516489Z"
    }
   },
   "id": "245d7bcd67fa9176",
   "execution_count": 25
  },
  {
   "cell_type": "markdown",
   "source": [
    "# Naive Bayes\n",
    "Es un método de aprendizaje supervisado basado en la aplicación del teorema de Bayes con el supuesto \"ingenuo\" de independencia condicional entre cada par de características dado el valor de la variable de clase.\n",
    "Según bayes si tengo un conjunto de clase C y para un documento D, si encuentro una clase que maximice su probabilidad condicional, entonces el documento pertenece a esa clase."
   ],
   "metadata": {
    "collapsed": false
   },
   "id": "99264afb689e1c6f"
  },
  {
   "cell_type": "markdown",
   "source": [
    "## Objetivo\n",
    "- Dado un determinado numero de documentos de criticas sobre películas, determinar para cada documento si la crítica es positiva o negativa"
   ],
   "metadata": {
    "collapsed": false
   },
   "id": "f368e6c4daa81c94"
  },
  {
   "cell_type": "markdown",
   "source": [
    "## Descripción de los datos\n",
    "- **ID:** Identificador unico de cada review\n",
    "- **review_es:** Documento que contiene la crítica\n",
    "- **sentimiento:** Clases la cual pertenece una crítica la misma puede ser POSITIVA o NEGATIVA"
   ],
   "metadata": {
    "collapsed": false
   },
   "id": "640d49260b3c0d7d"
  },
  {
   "cell_type": "code",
   "outputs": [
    {
     "data": {
      "text/plain": "          ID                                          review_es sentimiento\n0          0  Uno de los otros críticos ha mencionado que de...    positivo\n1          1  Una pequeña pequeña producción.La técnica de f...    positivo\n2          2  Pensé que esta era una manera maravillosa de p...    positivo\n3          3  Básicamente, hay una familia donde un niño peq...    negativo\n4          4  El \"amor en el tiempo\" de Petter Mattei es una...    positivo\n...      ...                                                ...         ...\n49995  49995  Pensé que esta película hizo un buen trabajo a...    positivo\n49996  49996  Mala parcela, mal diálogo, mala actuación, dir...    negativo\n49997  49997  Soy católica enseñada en escuelas primarias pa...    negativo\n49998  49998  Voy a tener que estar en desacuerdo con el com...    negativo\n49999  49999  Nadie espera que las películas de Star Trek se...    negativo\n\n[50000 rows x 3 columns]",
      "text/html": "<div>\n<style scoped>\n    .dataframe tbody tr th:only-of-type {\n        vertical-align: middle;\n    }\n\n    .dataframe tbody tr th {\n        vertical-align: top;\n    }\n\n    .dataframe thead th {\n        text-align: right;\n    }\n</style>\n<table border=\"1\" class=\"dataframe\">\n  <thead>\n    <tr style=\"text-align: right;\">\n      <th></th>\n      <th>ID</th>\n      <th>review_es</th>\n      <th>sentimiento</th>\n    </tr>\n  </thead>\n  <tbody>\n    <tr>\n      <th>0</th>\n      <td>0</td>\n      <td>Uno de los otros críticos ha mencionado que de...</td>\n      <td>positivo</td>\n    </tr>\n    <tr>\n      <th>1</th>\n      <td>1</td>\n      <td>Una pequeña pequeña producción.La técnica de f...</td>\n      <td>positivo</td>\n    </tr>\n    <tr>\n      <th>2</th>\n      <td>2</td>\n      <td>Pensé que esta era una manera maravillosa de p...</td>\n      <td>positivo</td>\n    </tr>\n    <tr>\n      <th>3</th>\n      <td>3</td>\n      <td>Básicamente, hay una familia donde un niño peq...</td>\n      <td>negativo</td>\n    </tr>\n    <tr>\n      <th>4</th>\n      <td>4</td>\n      <td>El \"amor en el tiempo\" de Petter Mattei es una...</td>\n      <td>positivo</td>\n    </tr>\n    <tr>\n      <th>...</th>\n      <td>...</td>\n      <td>...</td>\n      <td>...</td>\n    </tr>\n    <tr>\n      <th>49995</th>\n      <td>49995</td>\n      <td>Pensé que esta película hizo un buen trabajo a...</td>\n      <td>positivo</td>\n    </tr>\n    <tr>\n      <th>49996</th>\n      <td>49996</td>\n      <td>Mala parcela, mal diálogo, mala actuación, dir...</td>\n      <td>negativo</td>\n    </tr>\n    <tr>\n      <th>49997</th>\n      <td>49997</td>\n      <td>Soy católica enseñada en escuelas primarias pa...</td>\n      <td>negativo</td>\n    </tr>\n    <tr>\n      <th>49998</th>\n      <td>49998</td>\n      <td>Voy a tener que estar en desacuerdo con el com...</td>\n      <td>negativo</td>\n    </tr>\n    <tr>\n      <th>49999</th>\n      <td>49999</td>\n      <td>Nadie espera que las películas de Star Trek se...</td>\n      <td>negativo</td>\n    </tr>\n  </tbody>\n</table>\n<p>50000 rows × 3 columns</p>\n</div>"
     },
     "execution_count": 26,
     "metadata": {},
     "output_type": "execute_result"
    }
   ],
   "source": [
    "cinema_review = pd.read_csv('train.csv')\n",
    "cinema_review"
   ],
   "metadata": {
    "collapsed": false,
    "ExecuteTime": {
     "end_time": "2024-06-01T20:35:22.270215Z",
     "start_time": "2024-06-01T20:35:21.564409Z"
    }
   },
   "id": "2584adb67d08ed30",
   "execution_count": 26
  },
  {
   "cell_type": "markdown",
   "source": [
    "## Separación de datos\n",
    "### Generación de conjunto de test y train"
   ],
   "metadata": {
    "collapsed": false
   },
   "id": "d8e6a688486cca2"
  },
  {
   "cell_type": "code",
   "outputs": [],
   "source": [
    "X = cinema_review.review_es\n",
    "y = cinema_review.sentimiento\n",
    "X_train_review, X_test_review, y_train_sentimiento, y_test_sentimiento = train_test_split(X,y,stratify=y,test_size=0.20,random_state=42)"
   ],
   "metadata": {
    "collapsed": false,
    "ExecuteTime": {
     "end_time": "2024-06-01T20:35:22.304430Z",
     "start_time": "2024-06-01T20:35:22.271223Z"
    }
   },
   "id": "e8600cc5d247c26a",
   "execution_count": 27
  },
  {
   "cell_type": "markdown",
   "source": [
    "#### Textos de entranamiento"
   ],
   "metadata": {
    "collapsed": false
   },
   "id": "7c2c9b95202a71d5"
  },
  {
   "cell_type": "code",
   "outputs": [
    {
     "data": {
      "text/plain": "47808    Cogí esta pequeña joya totalmente por accident...\n20154    No puedo creer que me permita a esta película ...\n43069    * ¡Alerta de spoiler! * Solo me pone el nervio...\n19413    Si hay una cosa que he aprendido de ver el crí...\n13673    Recuerdo cuando esto estaba en los teatros, di...\n                               ...                        \n31092    Es la década de 1920.Y un hombre llamado Walt ...\n22917    El primer (y único) tiempo que vi \"Sombras\" fu...\n47481    Esta fue una pérdida de tiempo.PELIGRO: Si lo ...\n35597    Esto es, con mucho, el cine indio de la pelícu...\n27491    Esta película para siempre dejó una impresión ...\nName: review_es, Length: 40000, dtype: object"
     },
     "execution_count": 28,
     "metadata": {},
     "output_type": "execute_result"
    }
   ],
   "source": [
    "X_train_review"
   ],
   "metadata": {
    "collapsed": false,
    "ExecuteTime": {
     "end_time": "2024-06-01T20:35:22.309808Z",
     "start_time": "2024-06-01T20:35:22.305437Z"
    }
   },
   "id": "d24faee0378b6151",
   "execution_count": 28
  },
  {
   "cell_type": "markdown",
   "source": [
    "#### Etiquetas de entrenamiento"
   ],
   "metadata": {
    "collapsed": false
   },
   "id": "5cb8ca207b1cb309"
  },
  {
   "cell_type": "code",
   "outputs": [
    {
     "data": {
      "text/plain": "47808    positivo\n20154    negativo\n43069    negativo\n19413    negativo\n13673    negativo\n           ...   \n31092    positivo\n22917    negativo\n47481    negativo\n35597    negativo\n27491    negativo\nName: sentimiento, Length: 40000, dtype: object"
     },
     "execution_count": 29,
     "metadata": {},
     "output_type": "execute_result"
    }
   ],
   "source": [
    "y_train_sentimiento"
   ],
   "metadata": {
    "collapsed": false,
    "ExecuteTime": {
     "end_time": "2024-06-01T20:35:22.314875Z",
     "start_time": "2024-06-01T20:35:22.310816Z"
    }
   },
   "id": "7dec5ac9c97fa22f",
   "execution_count": 29
  },
  {
   "cell_type": "markdown",
   "source": [
    "**Antes de comenzar a realizar las predicciones es necesario realizar las feature engineer, que permitan sacar el ruido que puedan tener los datos y que esto no influya en el modelo que clasifica las críticas**"
   ],
   "metadata": {
    "collapsed": false
   },
   "id": "5040a3ba52aed0a7"
  },
  {
   "cell_type": "markdown",
   "source": [
    "## Feature Engineer\n",
    "### Normalización\n",
    "Para cada texto del dataFrame vamos a extraer todos los caracteres distintos a letras y números, para disminuir la introducción de ruidos al modelo de NaiveBayes"
   ],
   "metadata": {
    "collapsed": false
   },
   "id": "46c0e4ed540a13be"
  },
  {
   "cell_type": "code",
   "outputs": [
    {
     "data": {
      "text/plain": "47808    Cogi esta pequena joya totalmente por accident...\n20154    No puedo creer que me permita a esta pelicula ...\n43069    * Alerta de spoiler! * Solo me pone el nervio ...\n19413    Si hay una cosa que he aprendido de ver el cri...\n13673    Recuerdo cuando esto estaba en los teatros, di...\n                               ...                        \n31092    Es la decada de 1920.Y un hombre llamado Walt ...\n22917    El primer (y unico) tiempo que vi \"Sombras\" fu...\n47481    Esta fue una perdida de tiempo.PELIGRO: Si lo ...\n35597    Esto es, con mucho, el cine indio de la pelicu...\n27491    Esta pelicula para siempre dejo una impresion ...\nName: review_es, Length: 40000, dtype: object"
     },
     "execution_count": 30,
     "metadata": {},
     "output_type": "execute_result"
    }
   ],
   "source": [
    "for indice in range(0, len(X_train_review)):\n",
    "    X_train_review.iloc[indice] = unicodedata.normalize(\"NFKD\", X_train_review.iloc[indice]).encode(\"ascii\",\"ignore\").decode(\"ascii\")\n",
    "X_train_review"
   ],
   "metadata": {
    "collapsed": false,
    "ExecuteTime": {
     "end_time": "2024-06-01T20:35:23.567242Z",
     "start_time": "2024-06-01T20:35:22.315884Z"
    }
   },
   "id": "dba06a4905314db5",
   "execution_count": 30
  },
  {
   "cell_type": "markdown",
   "source": [
    "## Tokenizar y vectorizar documentos para el entrenamiento del modelo"
   ],
   "metadata": {
    "collapsed": false
   },
   "id": "4407a30414014aa8"
  },
  {
   "cell_type": "code",
   "outputs": [
    {
     "data": {
      "text/plain": "(40000, 24397)"
     },
     "execution_count": 33,
     "metadata": {},
     "output_type": "execute_result"
    }
   ],
   "source": [
    "count_vect = CountVectorizer(\n",
    "    min_df=30,\n",
    "    ngram_range=(1,2),\n",
    "    analyzer='word'\n",
    ")\n",
    "X_train_review_count = count_vect.fit_transform(X_train_review)\n",
    "X_train_review_count.shape"
   ],
   "metadata": {
    "collapsed": false,
    "ExecuteTime": {
     "end_time": "2024-06-01T20:36:16.690776Z",
     "start_time": "2024-06-01T20:36:07.239175Z"
    }
   },
   "id": "1222d3f08eaf98a",
   "execution_count": 33
  },
  {
   "cell_type": "code",
   "outputs": [
    {
     "data": {
      "text/plain": "(40000, 24397)"
     },
     "execution_count": 34,
     "metadata": {},
     "output_type": "execute_result"
    }
   ],
   "source": [
    "tfidf_transformer = TfidfTransformer()\n",
    "X_train_review_tfidf = tfidf_transformer.fit_transform(X_train_review_count)\n",
    "X_train_review_tfidf .shape"
   ],
   "metadata": {
    "collapsed": false,
    "ExecuteTime": {
     "end_time": "2024-06-01T20:36:16.880905Z",
     "start_time": "2024-06-01T20:36:16.690776Z"
    }
   },
   "id": "a6f276f8e5de9d3f",
   "execution_count": 34
  },
  {
   "cell_type": "markdown",
   "source": [
    "## Entrenar clasificador"
   ],
   "metadata": {
    "collapsed": false
   },
   "id": "c53910d82f783d1c"
  },
  {
   "cell_type": "code",
   "outputs": [],
   "source": [
    "clf_naive_bayes = MultinomialNB(alpha=1).fit(X_train_review_tfidf, y_train_sentimiento)"
   ],
   "metadata": {
    "collapsed": false,
    "ExecuteTime": {
     "end_time": "2024-06-01T20:36:16.950440Z",
     "start_time": "2024-06-01T20:36:16.881909Z"
    }
   },
   "id": "7cbd9cb9abfa6d5d",
   "execution_count": 35
  },
  {
   "cell_type": "markdown",
   "source": [
    "## Realizar predicción con el conjunto de entrenamiento"
   ],
   "metadata": {
    "collapsed": false
   },
   "id": "2e6a2f2f2e7ff61f"
  },
  {
   "cell_type": "code",
   "outputs": [
    {
     "data": {
      "text/plain": "array(['negativo', 'positivo', 'positivo', ..., 'negativo', 'positivo',\n       'positivo'], dtype='<U8')"
     },
     "execution_count": 36,
     "metadata": {},
     "output_type": "execute_result"
    }
   ],
   "source": [
    "X_test_review_count = count_vect.transform(X_test_review)\n",
    "X_test_review_tfidf = tfidf_transformer.fit_transform(X_test_review_count)\n",
    "predicted = clf_naive_bayes.predict(X_test_review_tfidf)\n",
    "predicted"
   ],
   "metadata": {
    "collapsed": false,
    "ExecuteTime": {
     "end_time": "2024-06-01T20:36:18.324288Z",
     "start_time": "2024-06-01T20:36:16.951448Z"
    }
   },
   "id": "805dad93fa3fa2ba",
   "execution_count": 36
  },
  {
   "cell_type": "markdown",
   "source": [
    "## Evaluación del Modelo"
   ],
   "metadata": {
    "collapsed": false
   },
   "id": "768db2721c545ab2"
  },
  {
   "cell_type": "code",
   "outputs": [
    {
     "name": "stdout",
     "output_type": "stream",
     "text": [
      "              precision    recall  f1-score   support\n",
      "\n",
      "    negativo       0.87      0.82      0.84      5000\n",
      "    positivo       0.83      0.88      0.85      5000\n",
      "\n",
      "    accuracy                           0.85     10000\n",
      "   macro avg       0.85      0.85      0.85     10000\n",
      "weighted avg       0.85      0.85      0.85     10000\n"
     ]
    }
   ],
   "source": [
    "print(metrics.classification_report(y_test_sentimiento, predicted))"
   ],
   "metadata": {
    "collapsed": false,
    "ExecuteTime": {
     "end_time": "2024-06-01T20:36:18.478062Z",
     "start_time": "2024-06-01T20:36:18.325294Z"
    }
   },
   "id": "a24a1ae8ea0dc2c8",
   "execution_count": 37
  },
  {
   "cell_type": "markdown",
   "source": [
    "## Cross-validation"
   ],
   "metadata": {
    "collapsed": false
   },
   "id": "91df20d117e3b3fd"
  },
  {
   "cell_type": "code",
   "outputs": [
    {
     "name": "stdout",
     "output_type": "stream",
     "text": [
      "f-score= 0.8601\n"
     ]
    }
   ],
   "source": [
    "clf_naive_bayes = MultinomialNB(alpha=1).fit(X_train_review_tfidf, y_train_sentimiento)\n",
    "scores_cv_nb = cross_val_score(clf_naive_bayes,\n",
    "                               X_train_review_tfidf, \n",
    "                               y_train_sentimiento,\n",
    "                               cv = 10, \n",
    "                               scoring='f1_macro'\n",
    ")\n",
    "print(\"f-score=\",round(scores_cv_nb.mean(),4))"
   ],
   "metadata": {
    "collapsed": false,
    "ExecuteTime": {
     "end_time": "2024-06-01T20:36:19.399382Z",
     "start_time": "2024-06-01T20:36:18.479072Z"
    }
   },
   "id": "ae327514dd188e64",
   "execution_count": 38
  },
  {
   "cell_type": "code",
   "outputs": [],
   "source": [],
   "metadata": {
    "collapsed": false
   },
   "id": "93ea1b7b12b8b5d4"
  },
  {
   "cell_type": "markdown",
   "source": [
    "# Predicción con los datos de test.csv"
   ],
   "metadata": {
    "collapsed": false
   },
   "id": "4e42ad1f0c15a0e3"
  },
  {
   "cell_type": "code",
   "outputs": [
    {
     "data": {
      "text/plain": "array(['negativo', 'negativo', 'negativo', ..., 'negativo', 'negativo',\n       'negativo'], dtype='<U8')"
     },
     "execution_count": 39,
     "metadata": {},
     "output_type": "execute_result"
    }
   ],
   "source": [
    "test = pd.read_csv('test.csv')\n",
    "X_test_counts_cinema = count_vect.transform(test.review_es)\n",
    "X_new_tfidf_cinema_test = tfidf_transformer.transform(X_test_counts_cinema)\n",
    "\n",
    "predicted_cinema = clf_naive_bayes.predict(X_new_tfidf_cinema_test)\n",
    "predicted_cinema"
   ],
   "metadata": {
    "collapsed": false,
    "ExecuteTime": {
     "end_time": "2024-06-01T20:36:21.090308Z",
     "start_time": "2024-06-01T20:36:19.400394Z"
    }
   },
   "id": "e957dcaa2a158d82",
   "execution_count": 39
  },
  {
   "cell_type": "markdown",
   "source": [
    "# Exportar datos para kaggle"
   ],
   "metadata": {
    "collapsed": false
   },
   "id": "cf4f3202e6220d91"
  },
  {
   "cell_type": "code",
   "outputs": [],
   "source": [
    "csv_nuevo_solution = pd.DataFrame(predicted_cinema)\n",
    "csv_nuevo_solution[\"ID\"] = np.arange(60000,(8599+60000),1)\n",
    "csv_nuevo_solution.columns = ['sentimiento', 'ID']\n",
    "csv_nuevo = csv_nuevo_solution.reindex(['ID', 'sentimiento'], axis=1)\n",
    "csv_nuevo.to_csv('solution_naive_bayes_v3.csv',sep=',', index=False)"
   ],
   "metadata": {
    "collapsed": false,
    "ExecuteTime": {
     "end_time": "2024-06-01T20:36:21.102128Z",
     "start_time": "2024-06-01T20:36:21.090308Z"
    }
   },
   "id": "584c05589b293349",
   "execution_count": 40
  }
 ],
 "metadata": {
  "kernelspec": {
   "display_name": "Python 3",
   "language": "python",
   "name": "python3"
  },
  "language_info": {
   "codemirror_mode": {
    "name": "ipython",
    "version": 2
   },
   "file_extension": ".py",
   "mimetype": "text/x-python",
   "name": "python",
   "nbconvert_exporter": "python",
   "pygments_lexer": "ipython2",
   "version": "2.7.6"
  }
 },
 "nbformat": 4,
 "nbformat_minor": 5
}
