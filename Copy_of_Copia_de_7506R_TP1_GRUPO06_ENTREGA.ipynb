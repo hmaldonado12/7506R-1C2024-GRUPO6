{
  "nbformat": 4,
  "nbformat_minor": 0,
  "metadata": {
    "colab": {
      "provenance": [],
      "include_colab_link": true
    },
    "kernelspec": {
      "name": "python3",
      "display_name": "Python 3"
    },
    "language_info": {
      "name": "python"
    }
  },
  "cells": [
    {
      "cell_type": "markdown",
      "metadata": {
        "id": "view-in-github",
        "colab_type": "text"
      },
      "source": [
        "<a href=\"https://colab.research.google.com/github/hmaldonado12/7506R-1C2024-GRUPO6/blob/main/Copy_of_Copia_de_7506R_TP1_GRUPO06_ENTREGA.ipynb\" target=\"_parent\"><img src=\"https://colab.research.google.com/assets/colab-badge.svg\" alt=\"Open In Colab\"/></a>"
      ]
    },
    {
      "cell_type": "code",
      "source": [
        "from google.colab import drive\n",
        "drive.mount('/content/drive')\n",
        "\n",
        "import matplotlib.pyplot as plt"
      ],
      "metadata": {
        "colab": {
          "base_uri": "https://localhost:8080/"
        },
        "id": "HrhfnxywqK3K",
        "outputId": "746fff91-720a-4922-fcbc-e1d0a1ec4510"
      },
      "execution_count": 5,
      "outputs": [
        {
          "output_type": "stream",
          "name": "stdout",
          "text": [
            "Drive already mounted at /content/drive; to attempt to forcibly remount, call drive.mount(\"/content/drive\", force_remount=True).\n"
          ]
        }
      ]
    },
    {
      "cell_type": "code",
      "source": [
        "from google.colab import drive\n",
        "drive.mount('/content/drive',force_remount=True)"
      ],
      "metadata": {
        "id": "JUkaw9MpP5s3",
        "outputId": "66dff6dd-3a87-4fcc-b527-4ce6202a1b38",
        "colab": {
          "base_uri": "https://localhost:8080/"
        }
      },
      "execution_count": 6,
      "outputs": [
        {
          "output_type": "stream",
          "name": "stdout",
          "text": [
            "Mounted at /content/drive\n"
          ]
        }
      ]
    },
    {
      "cell_type": "markdown",
      "source": [
        "## **1. Análisis Exploratorio y Preprocesamiento de Datos**\n",
        "El primer paso consiste en la selección de los datos que se van a utilizar, se deben filtrar\n",
        "únicamente los anuncios de propiedades de tipo vivienda ( Casa, PH y Departamento ) ubicados\n",
        "en Capital Federal cuyo tipo de operación sea venta y su precio se encuentre en dólares (USD).\n",
        "Se debe separar un conjunto de entrenamiento (80%) y un conjunto de test (20%)."
      ],
      "metadata": {
        "id": "N9rAuLh9Fj7f"
      }
    },
    {
      "cell_type": "markdown",
      "source": [
        "#### **PREPRACION DE LOS DATOS**\n",
        "Crear un nuevo dataset que contemplen los siguientes atributos :\n",
        "- Tipos de vivienda : Casa, Ph Y Departamentos\n",
        "- Moneda de transacción : Dolares (USD)\n",
        "- Ubicacion : Capital Federal"
      ],
      "metadata": {
        "id": "fh2BSG-1Fkwc"
      }
    },
    {
      "cell_type": "markdown",
      "source": [
        "##### **1.1 Mostrar informacion del dataset con los filtros requeridos del enunciado**"
      ],
      "metadata": {
        "id": "fdwIqHMPFli9"
      }
    },
    {
      "cell_type": "code",
      "source": [
        "import pandas as pd\n",
        "properties_argentina = pd.read_csv('properati_argentina_2021.csv')\n",
        "\n",
        "attributes_list = [\"property_type\", \"operation\", \"property_currency\", \"place_l2\"]\n",
        "conditions_list = [[\"Casa\", \"PH\",\"Departamento\"],[\"Venta\"],[\"USD\"],[\"Capital Federal\"]]\n",
        "\n",
        "def get_dataframe_by(data, attributes: list, conditions: list):\n",
        "    is_casa = data[attributes[0]] == conditions[0][0]\n",
        "    is_ph = data[attributes[0]] == conditions[0][1]\n",
        "    is_departamento = data[attributes[0]] == conditions[0][2]\n",
        "    is_operation_venta = data[attributes[1]] == conditions[1][0]\n",
        "    is_property_currency_usd = data[attributes[2]] == conditions[2][0]\n",
        "    is_place_l2_capital_federal = data[attributes[3]] == conditions[3][0]\n",
        "    return data[(is_casa | is_ph | is_departamento) & is_operation_venta & is_property_currency_usd & is_place_l2_capital_federal]\n",
        "\n",
        "properties_argentina_filtered = get_dataframe_by(properties_argentina, attributes_list, conditions_list)\n",
        "properties_argentina_filtered.info()"
      ],
      "metadata": {
        "colab": {
          "base_uri": "https://localhost:8080/"
        },
        "id": "QJY9068JGTHE",
        "outputId": "24a24e86-9bfe-44a7-8e82-fefcc21344f7"
      },
      "execution_count": 7,
      "outputs": [
        {
          "output_type": "stream",
          "name": "stdout",
          "text": [
            "<class 'pandas.core.frame.DataFrame'>\n",
            "Index: 7427 entries, 25 to 36525\n",
            "Data columns (total 20 columns):\n",
            " #   Column                    Non-Null Count  Dtype  \n",
            "---  ------                    --------------  -----  \n",
            " 0   id                        7427 non-null   object \n",
            " 1   start_date                7427 non-null   object \n",
            " 2   end_date                  7427 non-null   object \n",
            " 3   created_on                7427 non-null   object \n",
            " 4   latitud                   7115 non-null   float64\n",
            " 5   longitud                  7115 non-null   float64\n",
            " 6   place_l2                  7427 non-null   object \n",
            " 7   place_l3                  7386 non-null   object \n",
            " 8   place_l4                  307 non-null    object \n",
            " 9   place_l5                  0 non-null      object \n",
            " 10  place_l6                  0 non-null      float64\n",
            " 11  operation                 7427 non-null   object \n",
            " 12  property_type             7427 non-null   object \n",
            " 13  property_rooms            7301 non-null   float64\n",
            " 14  property_bedrooms         6598 non-null   float64\n",
            " 15  property_surface_total    7022 non-null   float64\n",
            " 16  property_surface_covered  7095 non-null   float64\n",
            " 17  property_price            7427 non-null   float64\n",
            " 18  property_currency         7427 non-null   object \n",
            " 19  property_title            7427 non-null   object \n",
            "dtypes: float64(8), object(12)\n",
            "memory usage: 1.2+ MB\n"
          ]
        }
      ]
    },
    {
      "cell_type": "markdown",
      "source": [
        "## **ENTENDER EL PROBLEMA**\n",
        "El objetivo del tp es poder entrenar un modelo que pueda predecir el valor de venta de un inmueble en cualquier barrio de capital federal.\n",
        "\n",
        "Antes de empezar a crear y entrenar nuestro modelo, es importante realizar las siguientes preguntas :\n",
        "-  ¿ Que tipo de supervision necesitara nuestro modelo ?\n",
        "    \n",
        "    Tarea de aprendizaje de supervision, ya que los datos cuentan con ejemplos etiquetados( Cada instancia viene con una salida esperada, el precio del inmueble)\n",
        "- ¿Que tipo de aprendizaje ?\n",
        "    \n",
        "    En este caso el tipo de aprendizaje es por lotes, ya que no contamos con datos que evolucionen de forma constante\n",
        "- ¿ Que modelo podemos utilizar ?\n",
        "    \n",
        "    Puede ser un modelo de regresion ya que se pide predecir un valor."
      ],
      "metadata": {
        "id": "b_XZlbxbHjph"
      }
    },
    {
      "cell_type": "markdown",
      "source": [
        "### COMPROBACIONES PLANTEADAS EN EL TP\n",
        "Las comprobaciones nos daran un entendimiento mas profundo sobre los datos. Con lo conocimientos de los datos vamos a tener mas criterio para poder limpiar los mismo y poder entrenar el modelo.\n",
        "#### a) Exploración Inicial : analizar cada variable, considerando los siguientes aspectos\n",
        "- Variables Cuantitativas: calcular medidas de resumen: media, mediana,moda,etc"
      ],
      "metadata": {
        "id": "huBeHfymIyTL"
      }
    },
    {
      "cell_type": "code",
      "source": [
        "properties_argentina_filtered.describe()"
      ],
      "metadata": {
        "id": "fQTjJbjkJMWz",
        "colab": {
          "base_uri": "https://localhost:8080/",
          "height": 300
        },
        "outputId": "e961db68-5a43-4b93-ffbd-6200611693e4"
      },
      "execution_count": 8,
      "outputs": [
        {
          "output_type": "execute_result",
          "data": {
            "text/plain": [
              "           latitud     longitud  place_l6  property_rooms  property_bedrooms  \\\n",
              "count  7115.000000  7115.000000       0.0     7301.000000        6598.000000   \n",
              "mean    -34.587070   -58.459186       NaN        2.814820           2.003031   \n",
              "std       0.239555     0.377854       NaN        1.436779           1.106702   \n",
              "min     -41.163826   -71.438923       NaN        1.000000           1.000000   \n",
              "25%     -34.617105   -58.467469       NaN        2.000000           1.000000   \n",
              "50%     -34.595198   -58.440373       NaN        3.000000           2.000000   \n",
              "75%     -34.576354   -58.410609       NaN        4.000000           3.000000   \n",
              "max     -24.770804   -58.343954       NaN       30.000000          20.000000   \n",
              "\n",
              "       property_surface_total  property_surface_covered  property_price  \n",
              "count             7022.000000               7095.000000    7.427000e+03  \n",
              "mean                96.412418                110.368992    2.211362e+05  \n",
              "std                186.464198               2579.602742    3.003275e+05  \n",
              "min                 10.000000                  1.000000    1.154500e+04  \n",
              "25%                 45.000000                 40.000000    9.650000e+04  \n",
              "50%                 65.000000                 57.000000    1.433000e+05  \n",
              "75%                101.000000                 87.000000    2.300000e+05  \n",
              "max              10500.000000             217000.000000    9.900000e+06  "
            ],
            "text/html": [
              "\n",
              "  <div id=\"df-47ee546e-b651-46df-92a8-e72d9b148781\" class=\"colab-df-container\">\n",
              "    <div>\n",
              "<style scoped>\n",
              "    .dataframe tbody tr th:only-of-type {\n",
              "        vertical-align: middle;\n",
              "    }\n",
              "\n",
              "    .dataframe tbody tr th {\n",
              "        vertical-align: top;\n",
              "    }\n",
              "\n",
              "    .dataframe thead th {\n",
              "        text-align: right;\n",
              "    }\n",
              "</style>\n",
              "<table border=\"1\" class=\"dataframe\">\n",
              "  <thead>\n",
              "    <tr style=\"text-align: right;\">\n",
              "      <th></th>\n",
              "      <th>latitud</th>\n",
              "      <th>longitud</th>\n",
              "      <th>place_l6</th>\n",
              "      <th>property_rooms</th>\n",
              "      <th>property_bedrooms</th>\n",
              "      <th>property_surface_total</th>\n",
              "      <th>property_surface_covered</th>\n",
              "      <th>property_price</th>\n",
              "    </tr>\n",
              "  </thead>\n",
              "  <tbody>\n",
              "    <tr>\n",
              "      <th>count</th>\n",
              "      <td>7115.000000</td>\n",
              "      <td>7115.000000</td>\n",
              "      <td>0.0</td>\n",
              "      <td>7301.000000</td>\n",
              "      <td>6598.000000</td>\n",
              "      <td>7022.000000</td>\n",
              "      <td>7095.000000</td>\n",
              "      <td>7.427000e+03</td>\n",
              "    </tr>\n",
              "    <tr>\n",
              "      <th>mean</th>\n",
              "      <td>-34.587070</td>\n",
              "      <td>-58.459186</td>\n",
              "      <td>NaN</td>\n",
              "      <td>2.814820</td>\n",
              "      <td>2.003031</td>\n",
              "      <td>96.412418</td>\n",
              "      <td>110.368992</td>\n",
              "      <td>2.211362e+05</td>\n",
              "    </tr>\n",
              "    <tr>\n",
              "      <th>std</th>\n",
              "      <td>0.239555</td>\n",
              "      <td>0.377854</td>\n",
              "      <td>NaN</td>\n",
              "      <td>1.436779</td>\n",
              "      <td>1.106702</td>\n",
              "      <td>186.464198</td>\n",
              "      <td>2579.602742</td>\n",
              "      <td>3.003275e+05</td>\n",
              "    </tr>\n",
              "    <tr>\n",
              "      <th>min</th>\n",
              "      <td>-41.163826</td>\n",
              "      <td>-71.438923</td>\n",
              "      <td>NaN</td>\n",
              "      <td>1.000000</td>\n",
              "      <td>1.000000</td>\n",
              "      <td>10.000000</td>\n",
              "      <td>1.000000</td>\n",
              "      <td>1.154500e+04</td>\n",
              "    </tr>\n",
              "    <tr>\n",
              "      <th>25%</th>\n",
              "      <td>-34.617105</td>\n",
              "      <td>-58.467469</td>\n",
              "      <td>NaN</td>\n",
              "      <td>2.000000</td>\n",
              "      <td>1.000000</td>\n",
              "      <td>45.000000</td>\n",
              "      <td>40.000000</td>\n",
              "      <td>9.650000e+04</td>\n",
              "    </tr>\n",
              "    <tr>\n",
              "      <th>50%</th>\n",
              "      <td>-34.595198</td>\n",
              "      <td>-58.440373</td>\n",
              "      <td>NaN</td>\n",
              "      <td>3.000000</td>\n",
              "      <td>2.000000</td>\n",
              "      <td>65.000000</td>\n",
              "      <td>57.000000</td>\n",
              "      <td>1.433000e+05</td>\n",
              "    </tr>\n",
              "    <tr>\n",
              "      <th>75%</th>\n",
              "      <td>-34.576354</td>\n",
              "      <td>-58.410609</td>\n",
              "      <td>NaN</td>\n",
              "      <td>4.000000</td>\n",
              "      <td>3.000000</td>\n",
              "      <td>101.000000</td>\n",
              "      <td>87.000000</td>\n",
              "      <td>2.300000e+05</td>\n",
              "    </tr>\n",
              "    <tr>\n",
              "      <th>max</th>\n",
              "      <td>-24.770804</td>\n",
              "      <td>-58.343954</td>\n",
              "      <td>NaN</td>\n",
              "      <td>30.000000</td>\n",
              "      <td>20.000000</td>\n",
              "      <td>10500.000000</td>\n",
              "      <td>217000.000000</td>\n",
              "      <td>9.900000e+06</td>\n",
              "    </tr>\n",
              "  </tbody>\n",
              "</table>\n",
              "</div>\n",
              "    <div class=\"colab-df-buttons\">\n",
              "\n",
              "  <div class=\"colab-df-container\">\n",
              "    <button class=\"colab-df-convert\" onclick=\"convertToInteractive('df-47ee546e-b651-46df-92a8-e72d9b148781')\"\n",
              "            title=\"Convert this dataframe to an interactive table.\"\n",
              "            style=\"display:none;\">\n",
              "\n",
              "  <svg xmlns=\"http://www.w3.org/2000/svg\" height=\"24px\" viewBox=\"0 -960 960 960\">\n",
              "    <path d=\"M120-120v-720h720v720H120Zm60-500h600v-160H180v160Zm220 220h160v-160H400v160Zm0 220h160v-160H400v160ZM180-400h160v-160H180v160Zm440 0h160v-160H620v160ZM180-180h160v-160H180v160Zm440 0h160v-160H620v160Z\"/>\n",
              "  </svg>\n",
              "    </button>\n",
              "\n",
              "  <style>\n",
              "    .colab-df-container {\n",
              "      display:flex;\n",
              "      gap: 12px;\n",
              "    }\n",
              "\n",
              "    .colab-df-convert {\n",
              "      background-color: #E8F0FE;\n",
              "      border: none;\n",
              "      border-radius: 50%;\n",
              "      cursor: pointer;\n",
              "      display: none;\n",
              "      fill: #1967D2;\n",
              "      height: 32px;\n",
              "      padding: 0 0 0 0;\n",
              "      width: 32px;\n",
              "    }\n",
              "\n",
              "    .colab-df-convert:hover {\n",
              "      background-color: #E2EBFA;\n",
              "      box-shadow: 0px 1px 2px rgba(60, 64, 67, 0.3), 0px 1px 3px 1px rgba(60, 64, 67, 0.15);\n",
              "      fill: #174EA6;\n",
              "    }\n",
              "\n",
              "    .colab-df-buttons div {\n",
              "      margin-bottom: 4px;\n",
              "    }\n",
              "\n",
              "    [theme=dark] .colab-df-convert {\n",
              "      background-color: #3B4455;\n",
              "      fill: #D2E3FC;\n",
              "    }\n",
              "\n",
              "    [theme=dark] .colab-df-convert:hover {\n",
              "      background-color: #434B5C;\n",
              "      box-shadow: 0px 1px 3px 1px rgba(0, 0, 0, 0.15);\n",
              "      filter: drop-shadow(0px 1px 2px rgba(0, 0, 0, 0.3));\n",
              "      fill: #FFFFFF;\n",
              "    }\n",
              "  </style>\n",
              "\n",
              "    <script>\n",
              "      const buttonEl =\n",
              "        document.querySelector('#df-47ee546e-b651-46df-92a8-e72d9b148781 button.colab-df-convert');\n",
              "      buttonEl.style.display =\n",
              "        google.colab.kernel.accessAllowed ? 'block' : 'none';\n",
              "\n",
              "      async function convertToInteractive(key) {\n",
              "        const element = document.querySelector('#df-47ee546e-b651-46df-92a8-e72d9b148781');\n",
              "        const dataTable =\n",
              "          await google.colab.kernel.invokeFunction('convertToInteractive',\n",
              "                                                    [key], {});\n",
              "        if (!dataTable) return;\n",
              "\n",
              "        const docLinkHtml = 'Like what you see? Visit the ' +\n",
              "          '<a target=\"_blank\" href=https://colab.research.google.com/notebooks/data_table.ipynb>data table notebook</a>'\n",
              "          + ' to learn more about interactive tables.';\n",
              "        element.innerHTML = '';\n",
              "        dataTable['output_type'] = 'display_data';\n",
              "        await google.colab.output.renderOutput(dataTable, element);\n",
              "        const docLink = document.createElement('div');\n",
              "        docLink.innerHTML = docLinkHtml;\n",
              "        element.appendChild(docLink);\n",
              "      }\n",
              "    </script>\n",
              "  </div>\n",
              "\n",
              "\n",
              "<div id=\"df-05a8417a-b918-4dfd-9187-dddd9a25fb38\">\n",
              "  <button class=\"colab-df-quickchart\" onclick=\"quickchart('df-05a8417a-b918-4dfd-9187-dddd9a25fb38')\"\n",
              "            title=\"Suggest charts\"\n",
              "            style=\"display:none;\">\n",
              "\n",
              "<svg xmlns=\"http://www.w3.org/2000/svg\" height=\"24px\"viewBox=\"0 0 24 24\"\n",
              "     width=\"24px\">\n",
              "    <g>\n",
              "        <path d=\"M19 3H5c-1.1 0-2 .9-2 2v14c0 1.1.9 2 2 2h14c1.1 0 2-.9 2-2V5c0-1.1-.9-2-2-2zM9 17H7v-7h2v7zm4 0h-2V7h2v10zm4 0h-2v-4h2v4z\"/>\n",
              "    </g>\n",
              "</svg>\n",
              "  </button>\n",
              "\n",
              "<style>\n",
              "  .colab-df-quickchart {\n",
              "      --bg-color: #E8F0FE;\n",
              "      --fill-color: #1967D2;\n",
              "      --hover-bg-color: #E2EBFA;\n",
              "      --hover-fill-color: #174EA6;\n",
              "      --disabled-fill-color: #AAA;\n",
              "      --disabled-bg-color: #DDD;\n",
              "  }\n",
              "\n",
              "  [theme=dark] .colab-df-quickchart {\n",
              "      --bg-color: #3B4455;\n",
              "      --fill-color: #D2E3FC;\n",
              "      --hover-bg-color: #434B5C;\n",
              "      --hover-fill-color: #FFFFFF;\n",
              "      --disabled-bg-color: #3B4455;\n",
              "      --disabled-fill-color: #666;\n",
              "  }\n",
              "\n",
              "  .colab-df-quickchart {\n",
              "    background-color: var(--bg-color);\n",
              "    border: none;\n",
              "    border-radius: 50%;\n",
              "    cursor: pointer;\n",
              "    display: none;\n",
              "    fill: var(--fill-color);\n",
              "    height: 32px;\n",
              "    padding: 0;\n",
              "    width: 32px;\n",
              "  }\n",
              "\n",
              "  .colab-df-quickchart:hover {\n",
              "    background-color: var(--hover-bg-color);\n",
              "    box-shadow: 0 1px 2px rgba(60, 64, 67, 0.3), 0 1px 3px 1px rgba(60, 64, 67, 0.15);\n",
              "    fill: var(--button-hover-fill-color);\n",
              "  }\n",
              "\n",
              "  .colab-df-quickchart-complete:disabled,\n",
              "  .colab-df-quickchart-complete:disabled:hover {\n",
              "    background-color: var(--disabled-bg-color);\n",
              "    fill: var(--disabled-fill-color);\n",
              "    box-shadow: none;\n",
              "  }\n",
              "\n",
              "  .colab-df-spinner {\n",
              "    border: 2px solid var(--fill-color);\n",
              "    border-color: transparent;\n",
              "    border-bottom-color: var(--fill-color);\n",
              "    animation:\n",
              "      spin 1s steps(1) infinite;\n",
              "  }\n",
              "\n",
              "  @keyframes spin {\n",
              "    0% {\n",
              "      border-color: transparent;\n",
              "      border-bottom-color: var(--fill-color);\n",
              "      border-left-color: var(--fill-color);\n",
              "    }\n",
              "    20% {\n",
              "      border-color: transparent;\n",
              "      border-left-color: var(--fill-color);\n",
              "      border-top-color: var(--fill-color);\n",
              "    }\n",
              "    30% {\n",
              "      border-color: transparent;\n",
              "      border-left-color: var(--fill-color);\n",
              "      border-top-color: var(--fill-color);\n",
              "      border-right-color: var(--fill-color);\n",
              "    }\n",
              "    40% {\n",
              "      border-color: transparent;\n",
              "      border-right-color: var(--fill-color);\n",
              "      border-top-color: var(--fill-color);\n",
              "    }\n",
              "    60% {\n",
              "      border-color: transparent;\n",
              "      border-right-color: var(--fill-color);\n",
              "    }\n",
              "    80% {\n",
              "      border-color: transparent;\n",
              "      border-right-color: var(--fill-color);\n",
              "      border-bottom-color: var(--fill-color);\n",
              "    }\n",
              "    90% {\n",
              "      border-color: transparent;\n",
              "      border-bottom-color: var(--fill-color);\n",
              "    }\n",
              "  }\n",
              "</style>\n",
              "\n",
              "  <script>\n",
              "    async function quickchart(key) {\n",
              "      const quickchartButtonEl =\n",
              "        document.querySelector('#' + key + ' button');\n",
              "      quickchartButtonEl.disabled = true;  // To prevent multiple clicks.\n",
              "      quickchartButtonEl.classList.add('colab-df-spinner');\n",
              "      try {\n",
              "        const charts = await google.colab.kernel.invokeFunction(\n",
              "            'suggestCharts', [key], {});\n",
              "      } catch (error) {\n",
              "        console.error('Error during call to suggestCharts:', error);\n",
              "      }\n",
              "      quickchartButtonEl.classList.remove('colab-df-spinner');\n",
              "      quickchartButtonEl.classList.add('colab-df-quickchart-complete');\n",
              "    }\n",
              "    (() => {\n",
              "      let quickchartButtonEl =\n",
              "        document.querySelector('#df-05a8417a-b918-4dfd-9187-dddd9a25fb38 button');\n",
              "      quickchartButtonEl.style.display =\n",
              "        google.colab.kernel.accessAllowed ? 'block' : 'none';\n",
              "    })();\n",
              "  </script>\n",
              "</div>\n",
              "    </div>\n",
              "  </div>\n"
            ],
            "application/vnd.google.colaboratory.intrinsic+json": {
              "type": "dataframe",
              "summary": "{\n  \"name\": \"properties_argentina_filtered\",\n  \"rows\": 8,\n  \"fields\": [\n    {\n      \"column\": \"latitud\",\n      \"properties\": {\n        \"dtype\": \"number\",\n        \"std\": 2525.871908151289,\n        \"min\": -41.1638257,\n        \"max\": 7115.0,\n        \"num_unique_values\": 8,\n        \"samples\": [\n          -34.58706980918547,\n          -34.5951984479,\n          7115.0\n        ],\n        \"semantic_type\": \"\",\n        \"description\": \"\"\n      }\n    },\n    {\n      \"column\": \"longitud\",\n      \"properties\": {\n        \"dtype\": \"number\",\n        \"std\": 2533.96966954055,\n        \"min\": -71.4389226,\n        \"max\": 7115.0,\n        \"num_unique_values\": 8,\n        \"samples\": [\n          -58.45918633051651,\n          -58.4403733,\n          7115.0\n        ],\n        \"semantic_type\": \"\",\n        \"description\": \"\"\n      }\n    },\n    {\n      \"column\": \"place_l6\",\n      \"properties\": {\n        \"dtype\": \"number\",\n        \"std\": null,\n        \"min\": 0.0,\n        \"max\": 0.0,\n        \"num_unique_values\": 1,\n        \"samples\": [\n          0.0\n        ],\n        \"semantic_type\": \"\",\n        \"description\": \"\"\n      }\n    },\n    {\n      \"column\": \"property_rooms\",\n      \"properties\": {\n        \"dtype\": \"number\",\n        \"std\": 2579.076547256433,\n        \"min\": 1.0,\n        \"max\": 7301.0,\n        \"num_unique_values\": 8,\n        \"samples\": [\n          2.8148198876866184\n        ],\n        \"semantic_type\": \"\",\n        \"description\": \"\"\n      }\n    },\n    {\n      \"column\": \"property_bedrooms\",\n      \"properties\": {\n        \"dtype\": \"number\",\n        \"std\": 2331.2334076617685,\n        \"min\": 1.0,\n        \"max\": 6598.0,\n        \"num_unique_values\": 7,\n        \"samples\": [\n          6598.0\n        ],\n        \"semantic_type\": \"\",\n        \"description\": \"\"\n      }\n    },\n    {\n      \"column\": \"property_surface_total\",\n      \"properties\": {\n        \"dtype\": \"number\",\n        \"std\": 4123.150161516592,\n        \"min\": 10.0,\n        \"max\": 10500.0,\n        \"num_unique_values\": 8,\n        \"samples\": [\n          96.4124181144973\n        ],\n        \"semantic_type\": \"\",\n        \"description\": \"\"\n      }\n    },\n    {\n      \"column\": \"property_surface_covered\",\n      \"properties\": {\n        \"dtype\": \"number\",\n        \"std\": 76257.64314574112,\n        \"min\": 1.0,\n        \"max\": 217000.0,\n        \"num_unique_values\": 8,\n        \"samples\": [\n          110.36899224806201\n        ],\n        \"semantic_type\": \"\",\n        \"description\": \"\"\n      }\n    },\n    {\n      \"column\": \"property_price\",\n      \"properties\": {\n        \"dtype\": \"number\",\n        \"std\": 3450732.3872827534,\n        \"min\": 7427.0,\n        \"max\": 9900000.0,\n        \"num_unique_values\": 8,\n        \"samples\": [\n          221136.19132893498\n        ],\n        \"semantic_type\": \"\",\n        \"description\": \"\"\n      }\n    }\n  ]\n}"
            }
          },
          "metadata": {},
          "execution_count": 8
        }
      ]
    },
    {
      "cell_type": "markdown",
      "source": [
        "#### b) Variables Cualitativas: mostrar cantidad de valores posibles, y frecuencias de cada uno."
      ],
      "metadata": {
        "id": "nR2vpwBjKB4z"
      }
    },
    {
      "cell_type": "code",
      "source": [
        "properties_argentina_filtered.info()"
      ],
      "metadata": {
        "id": "4iOFPyH9KI4l",
        "colab": {
          "base_uri": "https://localhost:8080/"
        },
        "outputId": "531507c1-3663-41cb-eafd-d2312f2114b4"
      },
      "execution_count": 9,
      "outputs": [
        {
          "output_type": "stream",
          "name": "stdout",
          "text": [
            "<class 'pandas.core.frame.DataFrame'>\n",
            "Index: 7427 entries, 25 to 36525\n",
            "Data columns (total 20 columns):\n",
            " #   Column                    Non-Null Count  Dtype  \n",
            "---  ------                    --------------  -----  \n",
            " 0   id                        7427 non-null   object \n",
            " 1   start_date                7427 non-null   object \n",
            " 2   end_date                  7427 non-null   object \n",
            " 3   created_on                7427 non-null   object \n",
            " 4   latitud                   7115 non-null   float64\n",
            " 5   longitud                  7115 non-null   float64\n",
            " 6   place_l2                  7427 non-null   object \n",
            " 7   place_l3                  7386 non-null   object \n",
            " 8   place_l4                  307 non-null    object \n",
            " 9   place_l5                  0 non-null      object \n",
            " 10  place_l6                  0 non-null      float64\n",
            " 11  operation                 7427 non-null   object \n",
            " 12  property_type             7427 non-null   object \n",
            " 13  property_rooms            7301 non-null   float64\n",
            " 14  property_bedrooms         6598 non-null   float64\n",
            " 15  property_surface_total    7022 non-null   float64\n",
            " 16  property_surface_covered  7095 non-null   float64\n",
            " 17  property_price            7427 non-null   float64\n",
            " 18  property_currency         7427 non-null   object \n",
            " 19  property_title            7427 non-null   object \n",
            "dtypes: float64(8), object(12)\n",
            "memory usage: 1.2+ MB\n"
          ]
        }
      ]
    },
    {
      "cell_type": "markdown",
      "source": [
        "#### c) Determinar variables irrelevantes en el análisis\n",
        "Con la informacion del punto anterior podemos determinar algunas variables que no son relevantes para nuestro modelo, es decir no nos van aportar informacion de calidad que sirva para el entranamiento del modelo.\n",
        "\n",
        "##### **Analisis :**\n",
        "c.1) Los atributos start_date, end_date y create_on  hacen referencia a las fechas en las cuales se crearon los datos, por lo tanto esto no es relevante para nuestro modelo de prediccion\n",
        "\n",
        "c.2) Los atributos place_l3 y place_l4, no conocemos a fondo que tipo de informacion nos pueden aportar para determinar el precio de  una propiedad. Vamos a mostrar en detalle que tio de informacion tienen ambos atributos en forma de tabla.\n",
        "\n",
        "Loas atributos place_l2 , place_l5 y place_l6 los dejamos afurea del analisis ya que por parte de place_l2 lo utilizamos para filtrar la informacion por capital federal y place_l6,place_5 directamente no tiene datos\n"
      ],
      "metadata": {
        "id": "K8UECIOgKzWb"
      }
    },
    {
      "cell_type": "markdown",
      "source": [
        "#### **PLACE_L3**"
      ],
      "metadata": {
        "id": "Vycg7FQ_MPWs"
      }
    },
    {
      "cell_type": "code",
      "source": [
        "counts_place_l3 = properties_argentina_filtered[\"place_l3\"]\n",
        "print(counts_place_l3.value_counts())"
      ],
      "metadata": {
        "id": "OUUqx5xgMTGk",
        "colab": {
          "base_uri": "https://localhost:8080/"
        },
        "outputId": "9226b884-3f6b-4470-c99f-d1f5b94a36f8"
      },
      "execution_count": 10,
      "outputs": [
        {
          "output_type": "stream",
          "name": "stdout",
          "text": [
            "place_l3\n",
            "Palermo                 1143\n",
            "Belgrano                 748\n",
            "Caballito                555\n",
            "Recoleta                 437\n",
            "Villa Urquiza            417\n",
            "Almagro                  294\n",
            "Flores                   281\n",
            "Nuñez                    264\n",
            "Villa Crespo             251\n",
            "Barrio Norte             226\n",
            "Balvanera                190\n",
            "Colegiales               168\n",
            "Barracas                 159\n",
            "Saavedra                 148\n",
            "Villa del Parque         130\n",
            "Villa Devoto             129\n",
            "San Telmo                114\n",
            "Boedo                     97\n",
            "Puerto Madero             96\n",
            "Monserrat                 90\n",
            "Parque Chacabuco          81\n",
            "San Cristobal             78\n",
            "Coghlan                   77\n",
            "Villa Pueyrredón          76\n",
            "San Nicolás               76\n",
            "Liniers                   75\n",
            "Retiro                    71\n",
            "Floresta                  70\n",
            "Villa Lugano              70\n",
            "Mataderos                 65\n",
            "Villa Luro                62\n",
            "Chacarita                 60\n",
            "Villa Ortuzar             54\n",
            "Parque Patricios          53\n",
            "Constitución              47\n",
            "Boca                      40\n",
            "Villa Santa Rita          39\n",
            "Once                      37\n",
            "Congreso                  35\n",
            "Monte Castro              33\n",
            "Paternal                  32\n",
            "Parque Chas               31\n",
            "Parque Avellaneda         28\n",
            "Villa General Mitre       28\n",
            "Agronomía                 22\n",
            "Versalles                 21\n",
            "Abasto                    21\n",
            "Pompeya                   18\n",
            "Velez Sarsfield           17\n",
            "Centro / Microcentro       8\n",
            "Villa Real                 8\n",
            "Tribunales                 6\n",
            "Villa Riachuelo            4\n",
            "Parque Centenario          4\n",
            "Villa Soldati              2\n",
            "Name: count, dtype: int64\n"
          ]
        }
      ]
    },
    {
      "cell_type": "markdown",
      "source": [
        "#### **PLACE_L4**"
      ],
      "metadata": {
        "id": "8BA3_h9mMY5W"
      }
    },
    {
      "cell_type": "code",
      "source": [
        "counts_place_l4 = properties_argentina_filtered[\"place_l4\"]\n",
        "print(counts_place_l4.value_counts())"
      ],
      "metadata": {
        "id": "vMJ1blNoMfog",
        "colab": {
          "base_uri": "https://localhost:8080/"
        },
        "outputId": "c7d79179-c09a-4383-d204-a14a54eb22d6"
      },
      "execution_count": 11,
      "outputs": [
        {
          "output_type": "stream",
          "name": "stdout",
          "text": [
            "place_l4\n",
            "Palermo Hollywood    150\n",
            "Palermo Soho          74\n",
            "Palermo Chico         67\n",
            "Palermo Viejo         16\n",
            "Name: count, dtype: int64\n"
          ]
        }
      ]
    },
    {
      "cell_type": "markdown",
      "source": [
        "Podemos concluir que son atributos relevantes ya que el barrio puede influir en el precion de un inmueble.\n",
        "Los valore irrelevantes para nuestro analisis son :\n",
        "- start_date\n",
        "- end_date\n",
        "- create_on\n",
        "- place_l5\n",
        "- place_l6\n",
        "\n",
        "Por lo tanto estas variables se pueden eliminar del data frame"
      ],
      "metadata": {
        "id": "n0gPAd2iMomB"
      }
    },
    {
      "cell_type": "code",
      "source": [
        "properties_argentina_filtered = properties_argentina_filtered.drop(columns=[\"start_date\", \"end_date\", \"created_on\" ,\"place_l5\", \"place_l6\"])"
      ],
      "metadata": {
        "id": "6aRUEqb6NGAp"
      },
      "execution_count": 12,
      "outputs": []
    },
    {
      "cell_type": "markdown",
      "source": [
        "# **Datos Faltantes**\n",
        "\n",
        "* Realizar análisis de datos faltantes a nivel de columna. Graficar para cada variable el\n",
        "porcentaje de datos faltantes con respecto al total del dataset."
      ],
      "metadata": {
        "id": "g0BP8JvFmcJr"
      }
    },
    {
      "cell_type": "markdown",
      "source": [
        "Antes de empezar voy a llamar \"\" a la columna place_l3 y \"\" a la columna place_l2"
      ],
      "metadata": {
        "id": "Cb6MG4N-jK8i"
      }
    },
    {
      "cell_type": "code",
      "source": [
        "properties_argentina_filtered = properties_argentina_filtered.rename(columns={\"place_l2\":\"city\",\"place_l3\":\"zone\"})"
      ],
      "metadata": {
        "id": "z53rhKQGjJee"
      },
      "execution_count": 13,
      "outputs": []
    },
    {
      "cell_type": "markdown",
      "source": [
        "Primero busco caracteres raros como \"NULL\", \"?\", \"-\", como no hay ninguno sigo buscando valores faltantes:"
      ],
      "metadata": {
        "id": "2WOHPgGpvi6C"
      }
    },
    {
      "cell_type": "code",
      "source": [
        "filas_totales = properties_argentina_filtered.shape[0]\n",
        "porcentaje_col_faltante = properties_argentina_filtered.isna().sum() / filas_totales * 100\n",
        "print(porcentaje_col_faltante)"
      ],
      "metadata": {
        "id": "a9MwCtwynbfE",
        "colab": {
          "base_uri": "https://localhost:8080/"
        },
        "outputId": "4177b7d8-101b-41c6-e763-a9990c0eebc7"
      },
      "execution_count": 14,
      "outputs": [
        {
          "output_type": "stream",
          "name": "stdout",
          "text": [
            "id                           0.000000\n",
            "latitud                      4.200889\n",
            "longitud                     4.200889\n",
            "city                         0.000000\n",
            "zone                         0.552040\n",
            "place_l4                    95.866433\n",
            "operation                    0.000000\n",
            "property_type                0.000000\n",
            "property_rooms               1.696513\n",
            "property_bedrooms           11.161977\n",
            "property_surface_total       5.453077\n",
            "property_surface_covered     4.470176\n",
            "property_price               0.000000\n",
            "property_currency            0.000000\n",
            "property_title               0.000000\n",
            "dtype: float64\n"
          ]
        }
      ]
    },
    {
      "cell_type": "markdown",
      "source": [
        "Veo que todos los valores son bajos y no deberia dropear ninguna exceptuando a place_l4, como su funcion es especificar en que parte de Palermo estan algunas propiedades, lo mas lógico sería reemplazar a Palermo por la zona especifica en estas zonas y evitar tener una columna con más de un 96% de datos NaN."
      ],
      "metadata": {
        "id": "JmsELJW9ybJC"
      }
    },
    {
      "cell_type": "code",
      "source": [
        "for i in range(1,properties_argentina_filtered.shape[0]):\n",
        "    fila = properties_argentina_filtered.iloc[i]\n",
        "    zona = fila[\"zone\"]\n",
        "    es_NaN = zona!=zona\n",
        "\n",
        "    if not es_NaN and zona==\"Palermo\":\n",
        "      zona_Palermo = fila[\"place_l4\"]\n",
        "      zona_Pal_NaN = zona_Palermo!=zona_Palermo\n",
        "      if not zona_Pal_NaN:\n",
        "        properties_argentina_filtered.iat[i, 4] = zona_Palermo\n",
        "\n",
        "    i+=1\n",
        "\n",
        "    properties_argentina_filtered=properties_argentina_filtered"
      ],
      "metadata": {
        "id": "B7xm5o66smCy"
      },
      "execution_count": 15,
      "outputs": []
    },
    {
      "cell_type": "markdown",
      "source": [
        "::Ahora vamos a eliminar la columna place_l4 y luego volvemos a ver los datos faltantes por columna pero en un grafico:"
      ],
      "metadata": {
        "id": "DDT5y9r7sm8f"
      }
    },
    {
      "cell_type": "code",
      "source": [
        "properties_argentina_filtered = properties_argentina_filtered.drop(columns=[\"place_l4\"])\n",
        "filas_totales = properties_argentina_filtered.shape[0]\n",
        "porcentaje_col_faltante = properties_argentina_filtered.isna().sum() / filas_totales * 100\n",
        "\n",
        "\n",
        "porcentaje_col_faltante.plot(kind='barh', figsize=(10, 6), edgecolor='black')\n",
        "plt.title('Porcentaje de datos faltantes por columna')\n",
        "plt.ylabel('Properties')\n",
        "plt.xlabel('Porcentaje de datos faltantes por columna')\n",
        "plt.grid(axis='x', linestyle='--')\n",
        "plt.show()"
      ],
      "metadata": {
        "id": "jQnsGT3BI7PI",
        "colab": {
          "base_uri": "https://localhost:8080/",
          "height": 564
        },
        "outputId": "fd12eb00-4a03-4656-d597-824c1f92d912"
      },
      "execution_count": 16,
      "outputs": [
        {
          "output_type": "display_data",
          "data": {
            "text/plain": [
              "<Figure size 1000x600 with 1 Axes>"
            ],
            "image/png": "[encoded data removed]"
          },
          "metadata": {}
        }
      ]
    },
    {
      "cell_type": "markdown",
      "source": [
        "Podemos observar que exceptuando a \"property_bedrooms\" todas las columnas tienen un porcentaje de datos faltantes menor o similar al 5%."
      ],
      "metadata": {
        "id": "3gYOLqrgbNHJ"
      }
    },
    {
      "cell_type": "markdown",
      "source": [
        "\n",
        "*  Realizar un análisis de datos faltantes a nivel de fila. Calcular el porcentaje de datos\n",
        "faltantes de cada registro. Realizar un gráfico que permita conocer la proporción de\n",
        "faltantes por fila en el dataset.\n",
        "\n"
      ],
      "metadata": {
        "id": "vgP-5EtTvPpz"
      }
    },
    {
      "cell_type": "markdown",
      "source": [
        "Primero calculo que porcentaje de cada fila falta:\n",
        "\n",
        "*   Elemento de la lista"
      ],
      "metadata": {
        "id": "JlnXYB2ng1H6"
      }
    },
    {
      "cell_type": "code",
      "source": [
        "col_totales = len(properties_argentina_filtered.columns)\n",
        "porcentaje_faltante_fila = properties_argentina_filtered.isna().sum(axis=1) / col_totales * 100\n",
        "\n",
        "rangos = [0,10, 20, 30, 40, 50, 60, 70, 80, 90, 100]\n",
        "porcentaje_agrupado = pd.cut(porcentaje_faltante_fila, bins=rangos).value_counts().sort_index()\n",
        "plt.figure(figsize=(10, 5))\n",
        "porcentaje_agrupado.plot(kind='bar', edgecolor='black')\n",
        "plt.title('Porcentaje de datos faltantes por fila')\n",
        "plt.xlabel('Porcentaje de datos faltantes')\n",
        "plt.ylabel('Cantidad de filas')\n",
        "plt.xticks(rotation=0)\n",
        "plt.grid(axis='y', linestyle='--')\n",
        "plt.show()"
      ],
      "metadata": {
        "id": "e2VLmr2tcvlG",
        "colab": {
          "base_uri": "https://localhost:8080/",
          "height": 487
        },
        "outputId": "32eb185b-3383-437f-d054-e7c7836c8615"
      },
      "execution_count": 17,
      "outputs": [
        {
          "output_type": "display_data",
          "data": {
            "text/plain": [
              "<Figure size 1000x500 with 1 Axes>"
            ],
            "image/png": "[encoded data removed]"
          },
          "metadata": {}
        }
      ]
    },
    {
      "cell_type": "markdown",
      "source": [
        "Se puede ver que las mayoría de las filas tienen entre un 0% y un 10% de datos faltantes, otros entre un 10% y un 20%, algunos pocos entre 20% y 30% y finalmente una porción muy menor entre el 30% y 40%."
      ],
      "metadata": {
        "id": "RdVM50PypJGL"
      }
    },
    {
      "cell_type": "markdown",
      "source": [
        "\n",
        "\n",
        "*  Revisar los datos faltantes o mal ingresados y tomar una decisión sobre estos: reemplazo de\n",
        "valores, eliminación de registros incompletos, etc.\n",
        "\n"
      ],
      "metadata": {
        "id": "mlP4C8W9tZUU"
      }
    },
    {
      "cell_type": "markdown",
      "source": [
        "**Primero** voy a asignarles la latitud y longitud a todas las filas que tengan una zona, les voy a asiganar la media de todos las filas de la misma zona."
      ],
      "metadata": {
        "id": "eQOuqcYensv5"
      }
    },
    {
      "cell_type": "code",
      "source": [
        "reparado = properties_argentina_filtered\n",
        "\n",
        "place_l3_copy = properties_argentina_filtered[\"zone\"]\n",
        "place_l3_drop = place_l3_copy.drop_duplicates()\n",
        "zones = place_l3_drop.values\n",
        "\n",
        "media_zones = {}    #Me guardo las medias de (latitud,longitud) de c/zona\n",
        "\n",
        "for zone in zones:\n",
        "      zone_act = reparado[reparado[\"zone\"]==zone]\n",
        "      lat_med = zone_act[\"latitud\"].mean()\n",
        "      lon_med = zone_act[\"longitud\"].mean()\n",
        "      media_zones[zone] = (lat_med,lon_med)\n",
        "      zone_act = zone_act.fillna({\"latitud\":lat_med,\"longitud\":lon_med})\n",
        "      reparado[reparado[\"zone\"]==zone]=zone_act\n"
      ],
      "metadata": {
        "id": "Um7GGzebo_Sg"
      },
      "execution_count": 18,
      "outputs": []
    },
    {
      "cell_type": "markdown",
      "source": [
        "Ahora los únicas filas que no tienen latitud o longitud son los que tampoco tienen zona y esos los dropeamos ya que asignarle una zona basandonos en datos como precios y superficie total/cubierta podría alterar las mediciones que se quieran hacer en el futuro"
      ],
      "metadata": {
        "id": "hRCoPgbiHRko"
      }
    },
    {
      "cell_type": "code",
      "source": [
        "reparado.shape"
      ],
      "metadata": {
        "id": "gzqVMW7Jjh9s",
        "colab": {
          "base_uri": "https://localhost:8080/"
        },
        "outputId": "c30a5b08-d80c-4a50-c4dd-8ae2d066e586"
      },
      "execution_count": 19,
      "outputs": [
        {
          "output_type": "execute_result",
          "data": {
            "text/plain": [
              "(7427, 14)"
            ]
          },
          "metadata": {},
          "execution_count": 19
        }
      ]
    },
    {
      "cell_type": "markdown",
      "source": [
        "Este es el número de filas antes de eliminar"
      ],
      "metadata": {
        "id": "Tdxn4UdCjjlK"
      }
    },
    {
      "cell_type": "code",
      "source": [
        "import math\n",
        "\n",
        "i = 0\n",
        "while i < reparado.shape[0]:\n",
        "  fila = reparado.iloc[i]\n",
        "  lat = fila[\"latitud\"]\n",
        "  if math.isnan(lat):\n",
        "    reparado.drop(reparado.index[i:i+1], inplace=True)\n",
        "  else:\n",
        "    i+=1\n",
        "\n",
        "\n",
        "reparado.shape"
      ],
      "metadata": {
        "id": "6QUo1DDZefV6",
        "colab": {
          "base_uri": "https://localhost:8080/"
        },
        "outputId": "796e09ec-4162-4b81-8117-a5d46d1a5e71"
      },
      "execution_count": 20,
      "outputs": [
        {
          "output_type": "execute_result",
          "data": {
            "text/plain": [
              "(7418, 14)"
            ]
          },
          "metadata": {},
          "execution_count": 20
        }
      ]
    },
    {
      "cell_type": "markdown",
      "source": [
        "Este es el nuevo número de filas.\n",
        "\n",
        "Ahora voy a asignarle un barrio a aquellas filas que no tienen pero si tienen latitud y longitud, para eso voy a calcular la distancia entre la ubicacion y la media de cada zona. Voy a calcular la diferencia entre la latitud y la longitud de cada fila y la media, luego calculo un promedio (diferencia de latitud sumado la diferencia de longitud dividido 2) y el barrio que menor diferencia tenga sera el elegido."
      ],
      "metadata": {
        "id": "9a8BcxfESHb9"
      }
    },
    {
      "cell_type": "code",
      "source": [
        "for i in range(1,reparado.shape[0]):\n",
        "    fila = reparado.iloc[i]\n",
        "    zona = fila[\"zone\"]\n",
        "    bool = zona!=zona\n",
        "\n",
        "    if bool:\n",
        "      lat=fila[\"latitud\"]\n",
        "      lon=fila[\"longitud\"]\n",
        "      dist_menor = abs( abs(media_zones[\"Palermo\"][0]) - abs(lat) ) + abs( abs( abs(media_zones[\"Palermo\"][1] ) - abs(lon) ))\n",
        "      barrio = \"Palermo\"\n",
        "\n",
        "      # print(\"ARRANCA CON PALERMO:\",\"lat:\",lat,\"lon:\",lon)\n",
        "      for c in media_zones:\n",
        "\n",
        "          tupla_dist = media_zones.get(c)\n",
        "          nueva_dist = abs( abs(tupla_dist[0]) - abs(lat) ) + abs( abs( abs(tupla_dist[1] ) - abs(lon) ))\n",
        "          es_menor = nueva_dist<dist_menor\n",
        "\n",
        "          if es_menor:\n",
        "            dist_menor=nueva_dist\n",
        "            barrio = c\n",
        "\n",
        "      # reparado.iloc[i][\"zone\"] = barrio\n",
        "      reparado.iat[i, 4] = barrio\n",
        "\n",
        "\n",
        "    i+=1\n",
        "\n",
        "reparado = reparado\n"
      ],
      "metadata": {
        "id": "M4cApsp7WRXB"
      },
      "execution_count": 21,
      "outputs": []
    },
    {
      "cell_type": "markdown",
      "source": [
        "Vemos que no hay ningun NaN restante en la columna zone:"
      ],
      "metadata": {
        "id": "x6-0ua97XTe-"
      }
    },
    {
      "cell_type": "code",
      "source": [
        "reparado[\"zone\"].isna().value_counts()"
      ],
      "metadata": {
        "id": "aDJNJFMvR0cF",
        "colab": {
          "base_uri": "https://localhost:8080/"
        },
        "outputId": "6b44d1f8-786f-44c1-830b-d90c2b329175"
      },
      "execution_count": 22,
      "outputs": [
        {
          "output_type": "execute_result",
          "data": {
            "text/plain": [
              "zone\n",
              "False    7418\n",
              "Name: count, dtype: int64"
            ]
          },
          "metadata": {},
          "execution_count": 22
        }
      ]
    },
    {
      "cell_type": "markdown",
      "source": [
        "Ahora vamos a completar la columna \"property_surface_total\" la cual se podría calcular teniendo en cuenta el precio medio por m2 de cada zona."
      ],
      "metadata": {
        "id": "yDNLPudq3pcu"
      }
    },
    {
      "cell_type": "code",
      "source": [
        "prec_m2 = {}\n",
        "\n",
        "for zona in zones:\n",
        "  zona_act = reparado[reparado[\"zone\"]==zona]\n",
        "  prec_tot = 0\n",
        "  sup_tot = 0\n",
        "\n",
        "  for i in range(0,zona_act.shape[0]):\n",
        "    fila = zona_act.iloc[i]\n",
        "    prec = fila[\"property_price\"]\n",
        "    sup = fila[\"property_surface_total\"]\n",
        "\n",
        "    if not sup!=sup:    #es decir si la columna property_surface_total no es NaN\n",
        "      prec_tot+=prec\n",
        "      sup_tot+=sup\n",
        "\n",
        "  if sup_tot!=0:\n",
        "    prec_prom = prec_tot/sup_tot\n",
        "\n",
        "    prec_m2[zona]= prec_prom\n",
        "\n",
        "\n",
        "\n"
      ],
      "metadata": {
        "id": "C66uatsL4ek_"
      },
      "execution_count": 23,
      "outputs": []
    },
    {
      "cell_type": "markdown",
      "source": [
        "Ahora que ya sabemos los precios del m2 podriamos hacer una regla de 3 y sabiendo el precio de la propiedad obtener un estimado realista de la superficie total de esta."
      ],
      "metadata": {
        "id": "NLB8LLZv-jmk"
      }
    },
    {
      "cell_type": "code",
      "source": [
        "for i in range (0,reparado.shape[0]):\n",
        "  fila = reparado.iloc[i]\n",
        "  zona = fila[\"zone\"]\n",
        "  sup = fila[\"property_surface_total\"]\n",
        "  if sup!=sup:\n",
        "      prec = fila[\"property_price\"]\n",
        "      sup_calc = prec/prec_m2.get(zona)\n",
        "      reparado.iat[i, 9] = sup_calc\n"
      ],
      "metadata": {
        "id": "RdoEn52e-0zl"
      },
      "execution_count": 24,
      "outputs": []
    },
    {
      "cell_type": "markdown",
      "source": [
        "Ahora buscamos el porcentaje de superficie cubierta por zona, este sera un porcentaje de la superficie total y sera: (sup_cub * 100)/sup_tot.\n",
        "Ahora calculamos ese porcentaje por zona:"
      ],
      "metadata": {
        "id": "yDV44W1mJ2k3"
      }
    },
    {
      "cell_type": "code",
      "source": [
        "porc_sup_cub = {}\n",
        "\n",
        "for zona in zones:\n",
        "  zona_act = reparado[reparado[\"zone\"]==zona]\n",
        "  sup_tot = 0\n",
        "  sup_cub = 0\n",
        "\n",
        "  for i in range(0,zona_act.shape[0]):\n",
        "    fila = zona_act.iloc[i]\n",
        "    s_tot = fila[\"property_surface_total\"]\n",
        "    s_cub = fila[\"property_surface_covered\"]\n",
        "\n",
        "    if not s_cub!=s_cub:    #es decir si la columna property_surface_covered no es NaN\n",
        "      sup_tot+=s_tot\n",
        "      sup_cub+=s_cub\n",
        "\n",
        "  if sup_tot!=0:\n",
        "    porc_cub = (sup_cub * 100)/sup_tot\n",
        "    porc_sup_cub[zona]= porc_cub"
      ],
      "metadata": {
        "id": "PMavTeakLLWP"
      },
      "execution_count": 25,
      "outputs": []
    },
    {
      "cell_type": "markdown",
      "source": [
        "Ahora que ya sabemos los porcentajes de superficie cubierta con respecto a la superficie total hay que imputar la superficie cubierta de aquellas filas que no posean ese dato:"
      ],
      "metadata": {
        "id": "yOJG7aLMMypo"
      }
    },
    {
      "cell_type": "code",
      "source": [
        "for i in range (0,reparado.shape[0]):\n",
        "  fila = reparado.iloc[i]\n",
        "  zona = fila[\"zone\"]\n",
        "  sup_cub = fila[\"property_surface_covered\"]\n",
        "  if sup_cub!=sup_cub:\n",
        "      sup_tot = fila[\"property_surface_total\"]\n",
        "      nueva_sup_cub = sup_tot * porc_sup_cub.get(zona)\n",
        "      reparado.iat[i, 10] = nueva_sup_cub"
      ],
      "metadata": {
        "id": "QwoPwP77NRRc"
      },
      "execution_count": 26,
      "outputs": []
    },
    {
      "cell_type": "markdown",
      "source": [
        "Ahora voy a calcular el promedio de superficie cubierta por habitación que hay en cada zona para luego poder estimar cuantas habitaciones (rooms) tiene cada propiedades a las que le falte el dato."
      ],
      "metadata": {
        "id": "LVm9DmZBU8WX"
      }
    },
    {
      "cell_type": "code",
      "source": [
        "met_por_hab = {}\n",
        "\n",
        "for zona in zones:\n",
        "  zona_act = reparado[reparado[\"zone\"]==zona]\n",
        "  r_mediana = zona_act[\"property_rooms\"].median()\n",
        "  s_mediana = zona_act[\"property_surface_total\"].median()\n",
        "  met_por_hab[zona]=s_mediana/r_mediana\n"
      ],
      "metadata": {
        "id": "AJVJlTrDUjfG"
      },
      "execution_count": 27,
      "outputs": []
    },
    {
      "cell_type": "markdown",
      "source": [
        "Teniendo el promedio de metros por habitación de cada zona, calculo e imputo los datos de property_rooms faltantes"
      ],
      "metadata": {
        "id": "eaFuOQMrW8AB"
      }
    },
    {
      "cell_type": "code",
      "source": [
        "for i in range (0,reparado.shape[0]):\n",
        "  fila = reparado.iloc[i]\n",
        "  zona = fila[\"zone\"]\n",
        "  rooms = fila[\"property_rooms\"]\n",
        "  if rooms!=rooms:\n",
        "      sup_cub = fila[\"property_surface_covered\"]\n",
        "      nuevo_rooms = sup_cub / met_por_hab.get(zona)\n",
        "      reparado.iat[i, 7] = nueva_sup_cub"
      ],
      "metadata": {
        "id": "YarLKosRXMt-"
      },
      "execution_count": 28,
      "outputs": []
    },
    {
      "cell_type": "markdown",
      "source": [
        "Finalmente solo queda completar la columna property_beedrooms, para la cual primero calcularemos por zona el porcentaje de rooms que son bedrooms, esto para luego poder estimar cuantos bedrooms hay utilizando el dato property_rooms"
      ],
      "metadata": {
        "id": "wcbXC948Zh6D"
      }
    },
    {
      "cell_type": "code",
      "source": [
        "por_bedrooms = {}\n",
        "\n",
        "rooms=reparado[\"property_rooms\"].median()\n",
        "bedrooms=reparado[\"property_bedrooms\"].median()\n",
        "porcentaje_mediana_gral = (bedrooms*100)/rooms\n",
        "\n",
        "\n",
        "for zona in zones:\n",
        "  zona_act = reparado[reparado[\"zone\"]==zona]\n",
        "  r_mediana = zona_act[\"property_rooms\"].median()\n",
        "  b_mediana = zona_act[\"property_bedrooms\"].median()\n",
        "  porcentaje = (b_mediana * 100)/r_mediana\n",
        "  if porcentaje==100.0:\n",
        "    porcentaje=porcentaje_mediana_gral\n",
        "  por_bedrooms[zona] = porcentaje\n"
      ],
      "metadata": {
        "id": "tE7ip_XsZ2KS"
      },
      "execution_count": 29,
      "outputs": []
    },
    {
      "cell_type": "markdown",
      "source": [
        "Ahora queda imputar el dato en aquillas filas donde no esta:"
      ],
      "metadata": {
        "id": "324wBgnbrKqL"
      }
    },
    {
      "cell_type": "code",
      "source": [
        "for i in range (0,reparado.shape[0]):\n",
        "  fila = reparado.iloc[i]\n",
        "  zona = fila[\"zone\"]\n",
        "  bedrooms = fila[\"property_bedrooms\"]\n",
        "  if bedrooms!=bedrooms:\n",
        "      rooms = fila[\"property_rooms\"]\n",
        "      calc_bedrooms = (rooms*por_bedrooms.get(zona)/100)\n",
        "      reparado.iat[i, 8] = round(calc_bedrooms)"
      ],
      "metadata": {
        "id": "nYXS8xZtrPoT"
      },
      "execution_count": 30,
      "outputs": []
    },
    {
      "cell_type": "markdown",
      "source": [
        "Podemos ver que ya no hay datos faltantes:"
      ],
      "metadata": {
        "id": "ryZGOVLy74rM"
      }
    },
    {
      "cell_type": "code",
      "source": [
        "reparado.info()"
      ],
      "metadata": {
        "id": "j4fMt14xr2p7",
        "colab": {
          "base_uri": "https://localhost:8080/"
        },
        "outputId": "ad2e19d3-dabf-4baf-ec91-8a5d7bf87726"
      },
      "execution_count": 31,
      "outputs": [
        {
          "output_type": "stream",
          "name": "stdout",
          "text": [
            "<class 'pandas.core.frame.DataFrame'>\n",
            "Index: 7418 entries, 42 to 36525\n",
            "Data columns (total 14 columns):\n",
            " #   Column                    Non-Null Count  Dtype  \n",
            "---  ------                    --------------  -----  \n",
            " 0   id                        7418 non-null   object \n",
            " 1   latitud                   7418 non-null   float64\n",
            " 2   longitud                  7418 non-null   float64\n",
            " 3   city                      7418 non-null   object \n",
            " 4   zone                      7418 non-null   object \n",
            " 5   operation                 7418 non-null   object \n",
            " 6   property_type             7418 non-null   object \n",
            " 7   property_rooms            7418 non-null   float64\n",
            " 8   property_bedrooms         7418 non-null   float64\n",
            " 9   property_surface_total    7418 non-null   float64\n",
            " 10  property_surface_covered  7418 non-null   float64\n",
            " 11  property_price            7418 non-null   float64\n",
            " 12  property_currency         7418 non-null   object \n",
            " 13  property_title            7418 non-null   object \n",
            "dtypes: float64(7), object(7)\n",
            "memory usage: 869.3+ KB\n"
          ]
        }
      ]
    },
    {
      "cell_type": "markdown",
      "source": [
        "Finalmente se podrían quitar las columnas \"property_currency\" ya que todas estan en USD y la columna \"id\" ya que todos los id son únicos y no aportan informacion"
      ],
      "metadata": {
        "id": "zXKmznz6nTMr"
      }
    },
    {
      "cell_type": "code",
      "source": [
        "reparado = reparado.drop(columns=[\"id\", \"property_currency\"])"
      ],
      "metadata": {
        "id": "8b0d3BhSnslp"
      },
      "execution_count": 32,
      "outputs": []
    },
    {
      "cell_type": "markdown",
      "source": [
        "Y ahora la estructura es la siguiente:"
      ],
      "metadata": {
        "id": "LYwQczIxsdGc"
      }
    },
    {
      "cell_type": "code",
      "source": [
        "reparado.head(1)"
      ],
      "metadata": {
        "id": "imnmb58csX8N",
        "colab": {
          "base_uri": "https://localhost:8080/",
          "height": 152
        },
        "outputId": "b05aca05-2303-41ef-f2ba-eb9385499433"
      },
      "execution_count": 33,
      "outputs": [
        {
          "output_type": "execute_result",
          "data": {
            "text/plain": [
              "      latitud   longitud             city  zone operation property_type  \\\n",
              "42 -34.637319 -58.361124  Capital Federal  Boca     Venta  Departamento   \n",
              "\n",
              "    property_rooms  property_bedrooms  property_surface_total  \\\n",
              "42             3.0                2.0                    58.0   \n",
              "\n",
              "    property_surface_covered  property_price  \\\n",
              "42                      55.0         82900.0   \n",
              "\n",
              "                            property_title  \n",
              "42  VENTA TRES AMBIENTES LA BOCA PISO ALTO  "
            ],
            "text/html": [
              "\n",
              "  <div id=\"df-415e5f46-56c7-46f1-9115-6729de2ef692\" class=\"colab-df-container\">\n",
              "    <div>\n",
              "<style scoped>\n",
              "    .dataframe tbody tr th:only-of-type {\n",
              "        vertical-align: middle;\n",
              "    }\n",
              "\n",
              "    .dataframe tbody tr th {\n",
              "        vertical-align: top;\n",
              "    }\n",
              "\n",
              "    .dataframe thead th {\n",
              "        text-align: right;\n",
              "    }\n",
              "</style>\n",
              "<table border=\"1\" class=\"dataframe\">\n",
              "  <thead>\n",
              "    <tr style=\"text-align: right;\">\n",
              "      <th></th>\n",
              "      <th>latitud</th>\n",
              "      <th>longitud</th>\n",
              "      <th>city</th>\n",
              "      <th>zone</th>\n",
              "      <th>operation</th>\n",
              "      <th>property_type</th>\n",
              "      <th>property_rooms</th>\n",
              "      <th>property_bedrooms</th>\n",
              "      <th>property_surface_total</th>\n",
              "      <th>property_surface_covered</th>\n",
              "      <th>property_price</th>\n",
              "      <th>property_title</th>\n",
              "    </tr>\n",
              "  </thead>\n",
              "  <tbody>\n",
              "    <tr>\n",
              "      <th>42</th>\n",
              "      <td>-34.637319</td>\n",
              "      <td>-58.361124</td>\n",
              "      <td>Capital Federal</td>\n",
              "      <td>Boca</td>\n",
              "      <td>Venta</td>\n",
              "      <td>Departamento</td>\n",
              "      <td>3.0</td>\n",
              "      <td>2.0</td>\n",
              "      <td>58.0</td>\n",
              "      <td>55.0</td>\n",
              "      <td>82900.0</td>\n",
              "      <td>VENTA TRES AMBIENTES LA BOCA PISO ALTO</td>\n",
              "    </tr>\n",
              "  </tbody>\n",
              "</table>\n",
              "</div>\n",
              "    <div class=\"colab-df-buttons\">\n",
              "\n",
              "  <div class=\"colab-df-container\">\n",
              "    <button class=\"colab-df-convert\" onclick=\"convertToInteractive('df-415e5f46-56c7-46f1-9115-6729de2ef692')\"\n",
              "            title=\"Convert this dataframe to an interactive table.\"\n",
              "            style=\"display:none;\">\n",
              "\n",
              "  <svg xmlns=\"http://www.w3.org/2000/svg\" height=\"24px\" viewBox=\"0 -960 960 960\">\n",
              "    <path d=\"M120-120v-720h720v720H120Zm60-500h600v-160H180v160Zm220 220h160v-160H400v160Zm0 220h160v-160H400v160ZM180-400h160v-160H180v160Zm440 0h160v-160H620v160ZM180-180h160v-160H180v160Zm440 0h160v-160H620v160Z\"/>\n",
              "  </svg>\n",
              "    </button>\n",
              "\n",
              "  <style>\n",
              "    .colab-df-container {\n",
              "      display:flex;\n",
              "      gap: 12px;\n",
              "    }\n",
              "\n",
              "    .colab-df-convert {\n",
              "      background-color: #E8F0FE;\n",
              "      border: none;\n",
              "      border-radius: 50%;\n",
              "      cursor: pointer;\n",
              "      display: none;\n",
              "      fill: #1967D2;\n",
              "      height: 32px;\n",
              "      padding: 0 0 0 0;\n",
              "      width: 32px;\n",
              "    }\n",
              "\n",
              "    .colab-df-convert:hover {\n",
              "      background-color: #E2EBFA;\n",
              "      box-shadow: 0px 1px 2px rgba(60, 64, 67, 0.3), 0px 1px 3px 1px rgba(60, 64, 67, 0.15);\n",
              "      fill: #174EA6;\n",
              "    }\n",
              "\n",
              "    .colab-df-buttons div {\n",
              "      margin-bottom: 4px;\n",
              "    }\n",
              "\n",
              "    [theme=dark] .colab-df-convert {\n",
              "      background-color: #3B4455;\n",
              "      fill: #D2E3FC;\n",
              "    }\n",
              "\n",
              "    [theme=dark] .colab-df-convert:hover {\n",
              "      background-color: #434B5C;\n",
              "      box-shadow: 0px 1px 3px 1px rgba(0, 0, 0, 0.15);\n",
              "      filter: drop-shadow(0px 1px 2px rgba(0, 0, 0, 0.3));\n",
              "      fill: #FFFFFF;\n",
              "    }\n",
              "  </style>\n",
              "\n",
              "    <script>\n",
              "      const buttonEl =\n",
              "        document.querySelector('#df-415e5f46-56c7-46f1-9115-6729de2ef692 button.colab-df-convert');\n",
              "      buttonEl.style.display =\n",
              "        google.colab.kernel.accessAllowed ? 'block' : 'none';\n",
              "\n",
              "      async function convertToInteractive(key) {\n",
              "        const element = document.querySelector('#df-415e5f46-56c7-46f1-9115-6729de2ef692');\n",
              "        const dataTable =\n",
              "          await google.colab.kernel.invokeFunction('convertToInteractive',\n",
              "                                                    [key], {});\n",
              "        if (!dataTable) return;\n",
              "\n",
              "        const docLinkHtml = 'Like what you see? Visit the ' +\n",
              "          '<a target=\"_blank\" href=https://colab.research.google.com/notebooks/data_table.ipynb>data table notebook</a>'\n",
              "          + ' to learn more about interactive tables.';\n",
              "        element.innerHTML = '';\n",
              "        dataTable['output_type'] = 'display_data';\n",
              "        await google.colab.output.renderOutput(dataTable, element);\n",
              "        const docLink = document.createElement('div');\n",
              "        docLink.innerHTML = docLinkHtml;\n",
              "        element.appendChild(docLink);\n",
              "      }\n",
              "    </script>\n",
              "  </div>\n",
              "\n",
              "    </div>\n",
              "  </div>\n"
            ],
            "application/vnd.google.colaboratory.intrinsic+json": {
              "type": "dataframe",
              "variable_name": "reparado",
              "summary": "{\n  \"name\": \"reparado\",\n  \"rows\": 7418,\n  \"fields\": [\n    {\n      \"column\": \"latitud\",\n      \"properties\": {\n        \"dtype\": \"number\",\n        \"std\": 0.2346567582804535,\n        \"min\": -41.1638257,\n        \"max\": -24.770804,\n        \"num_unique_values\": 5887,\n        \"samples\": [\n          -34.607537,\n          -34.598672404,\n          -34.592714\n        ],\n        \"semantic_type\": \"\",\n        \"description\": \"\"\n      }\n    },\n    {\n      \"column\": \"longitud\",\n      \"properties\": {\n        \"dtype\": \"number\",\n        \"std\": 0.37014267790894373,\n        \"min\": -71.4389226,\n        \"max\": -58.3439540864,\n        \"num_unique_values\": 5867,\n        \"samples\": [\n          -58.4253374,\n          -58.4797382,\n          -58.515136\n        ],\n        \"semantic_type\": \"\",\n        \"description\": \"\"\n      }\n    },\n    {\n      \"column\": \"city\",\n      \"properties\": {\n        \"dtype\": \"category\",\n        \"num_unique_values\": 1,\n        \"samples\": [\n          \"Capital Federal\"\n        ],\n        \"semantic_type\": \"\",\n        \"description\": \"\"\n      }\n    },\n    {\n      \"column\": \"zone\",\n      \"properties\": {\n        \"dtype\": \"category\",\n        \"num_unique_values\": 59,\n        \"samples\": [\n          \"Boca\"\n        ],\n        \"semantic_type\": \"\",\n        \"description\": \"\"\n      }\n    },\n    {\n      \"column\": \"operation\",\n      \"properties\": {\n        \"dtype\": \"category\",\n        \"num_unique_values\": 1,\n        \"samples\": [\n          \"Venta\"\n        ],\n        \"semantic_type\": \"\",\n        \"description\": \"\"\n      }\n    },\n    {\n      \"column\": \"property_type\",\n      \"properties\": {\n        \"dtype\": \"category\",\n        \"num_unique_values\": 3,\n        \"samples\": [\n          \"Departamento\"\n        ],\n        \"semantic_type\": \"\",\n        \"description\": \"\"\n      }\n    },\n    {\n      \"column\": \"property_rooms\",\n      \"properties\": {\n        \"dtype\": \"number\",\n        \"std\": 968.853588924356,\n        \"min\": 1.0,\n        \"max\": 7589.46438415606,\n        \"num_unique_values\": 16,\n        \"samples\": [\n          3.0\n        ],\n        \"semantic_type\": \"\",\n        \"description\": \"\"\n      }\n    },\n    {\n      \"column\": \"property_bedrooms\",\n      \"properties\": {\n        \"dtype\": \"number\",\n        \"std\": 322.3481146550796,\n        \"min\": 0.0,\n        \"max\": 6072.0,\n        \"num_unique_values\": 20,\n        \"samples\": [\n          2.0\n        ],\n        \"semantic_type\": \"\",\n        \"description\": \"\"\n      }\n    },\n    {\n      \"column\": \"property_surface_total\",\n      \"properties\": {\n        \"dtype\": \"number\",\n        \"std\": 182.42846256226008,\n        \"min\": 10.0,\n        \"max\": 10500.0,\n        \"num_unique_values\": 764,\n        \"samples\": [\n          640.0\n        ],\n        \"semantic_type\": \"\",\n        \"description\": \"\"\n      }\n    },\n    {\n      \"column\": \"property_surface_covered\",\n      \"properties\": {\n        \"dtype\": \"number\",\n        \"std\": 4128.068224900888,\n        \"min\": 1.0,\n        \"max\": 217000.0,\n        \"num_unique_values\": 610,\n        \"samples\": [\n          81.0\n        ],\n        \"semantic_type\": \"\",\n        \"description\": \"\"\n      }\n    },\n    {\n      \"column\": \"property_price\",\n      \"properties\": {\n        \"dtype\": \"number\",\n        \"std\": 300410.28690217366,\n        \"min\": 11545.0,\n        \"max\": 9900000.0,\n        \"num_unique_values\": 1081,\n        \"samples\": [\n          127515.0\n        ],\n        \"semantic_type\": \"\",\n        \"description\": \"\"\n      }\n    },\n    {\n      \"column\": \"property_title\",\n      \"properties\": {\n        \"dtype\": \"string\",\n        \"num_unique_values\": 5458,\n        \"samples\": [\n          \"DPTO VENTA PALERMO 2 AMBS PISO 7 BALC/AMENITIES\"\n        ],\n        \"semantic_type\": \"\",\n        \"description\": \"\"\n      }\n    }\n  ]\n}"
            }
          },
          "metadata": {},
          "execution_count": 33
        }
      ]
    },
    {
      "cell_type": "markdown",
      "source": [
        "# **PRUEBAS PTO 2**"
      ],
      "metadata": {
        "id": "Jjth4li6O8DD"
      }
    },
    {
      "cell_type": "code",
      "source": [
        "from sklearn.model_selection import train_test_split, cross_val_score\n",
        "from sklearn.cluster import KMeans\n",
        "import warnings\n",
        "warnings.simplefilter(action='ignore',category=FutureWarning)\n",
        "warnings.simplefilter(action='ignore',category=UserWarning)"
      ],
      "metadata": {
        "id": "gHS7uIw6O7xP"
      },
      "execution_count": 34,
      "outputs": []
    },
    {
      "cell_type": "markdown",
      "source": [
        "Para el Clusterin solo usaremos las columnas: \"property_rooms, \"property_bedrooms\", \"property_surface_total\", \"property_surface_covered\", \"property_price\"\n"
      ],
      "metadata": {
        "id": "yBr9h-1sA06X"
      }
    },
    {
      "cell_type": "code",
      "source": [
        "from sklearn.datasets import make_blobs\n",
        "from sklearn.preprocessing import scale, MinMaxScaler\n",
        "\n",
        "\n",
        "df_clust = reparado.drop(columns=[\"latitud\",\"longitud\",\"city\",\"zone\",\"operation\",\"property_type\",\"property_title\"])\n",
        "df_clust.drop(df_clust.index[150:95000], inplace=True)\n",
        "\n",
        "\n",
        "scaler = MinMaxScaler()\n",
        "df_escalado = scaler.fit_transform(df_clust)"
      ],
      "metadata": {
        "id": "QPbMNBn-SKhg"
      },
      "execution_count": 35,
      "outputs": []
    },
    {
      "cell_type": "code",
      "source": [
        "df_clust = df_clust[df_clust[\"property_rooms\"]<20]\n",
        "df_clust = df_clust[df_clust[\"property_bedrooms\"]<20]\n",
        "x = df_clust.iloc[:,0:2]\n",
        "x"
      ],
      "metadata": {
        "colab": {
          "base_uri": "https://localhost:8080/",
          "height": 423
        },
        "id": "2ki9JUYtOoiI",
        "outputId": "8e66affe-43a6-490f-b655-b0b031c9f030"
      },
      "execution_count": 36,
      "outputs": [
        {
          "output_type": "execute_result",
          "data": {
            "text/plain": [
              "     property_rooms  property_bedrooms\n",
              "42              3.0                2.0\n",
              "43              4.0                3.0\n",
              "49              4.0                2.0\n",
              "51              4.0                2.0\n",
              "53              2.0                1.0\n",
              "..              ...                ...\n",
              "871             2.0                1.0\n",
              "872             2.0                1.0\n",
              "874             4.0                3.0\n",
              "875             3.0                2.0\n",
              "876             4.0                3.0\n",
              "\n",
              "[148 rows x 2 columns]"
            ],
            "text/html": [
              "\n",
              "  <div id=\"df-a2eb0ef8-7cf1-400f-9ebd-380c2b928994\" class=\"colab-df-container\">\n",
              "    <div>\n",
              "<style scoped>\n",
              "    .dataframe tbody tr th:only-of-type {\n",
              "        vertical-align: middle;\n",
              "    }\n",
              "\n",
              "    .dataframe tbody tr th {\n",
              "        vertical-align: top;\n",
              "    }\n",
              "\n",
              "    .dataframe thead th {\n",
              "        text-align: right;\n",
              "    }\n",
              "</style>\n",
              "<table border=\"1\" class=\"dataframe\">\n",
              "  <thead>\n",
              "    <tr style=\"text-align: right;\">\n",
              "      <th></th>\n",
              "      <th>property_rooms</th>\n",
              "      <th>property_bedrooms</th>\n",
              "    </tr>\n",
              "  </thead>\n",
              "  <tbody>\n",
              "    <tr>\n",
              "      <th>42</th>\n",
              "      <td>3.0</td>\n",
              "      <td>2.0</td>\n",
              "    </tr>\n",
              "    <tr>\n",
              "      <th>43</th>\n",
              "      <td>4.0</td>\n",
              "      <td>3.0</td>\n",
              "    </tr>\n",
              "    <tr>\n",
              "      <th>49</th>\n",
              "      <td>4.0</td>\n",
              "      <td>2.0</td>\n",
              "    </tr>\n",
              "    <tr>\n",
              "      <th>51</th>\n",
              "      <td>4.0</td>\n",
              "      <td>2.0</td>\n",
              "    </tr>\n",
              "    <tr>\n",
              "      <th>53</th>\n",
              "      <td>2.0</td>\n",
              "      <td>1.0</td>\n",
              "    </tr>\n",
              "    <tr>\n",
              "      <th>...</th>\n",
              "      <td>...</td>\n",
              "      <td>...</td>\n",
              "    </tr>\n",
              "    <tr>\n",
              "      <th>871</th>\n",
              "      <td>2.0</td>\n",
              "      <td>1.0</td>\n",
              "    </tr>\n",
              "    <tr>\n",
              "      <th>872</th>\n",
              "      <td>2.0</td>\n",
              "      <td>1.0</td>\n",
              "    </tr>\n",
              "    <tr>\n",
              "      <th>874</th>\n",
              "      <td>4.0</td>\n",
              "      <td>3.0</td>\n",
              "    </tr>\n",
              "    <tr>\n",
              "      <th>875</th>\n",
              "      <td>3.0</td>\n",
              "      <td>2.0</td>\n",
              "    </tr>\n",
              "    <tr>\n",
              "      <th>876</th>\n",
              "      <td>4.0</td>\n",
              "      <td>3.0</td>\n",
              "    </tr>\n",
              "  </tbody>\n",
              "</table>\n",
              "<p>148 rows × 2 columns</p>\n",
              "</div>\n",
              "    <div class=\"colab-df-buttons\">\n",
              "\n",
              "  <div class=\"colab-df-container\">\n",
              "    <button class=\"colab-df-convert\" onclick=\"convertToInteractive('df-a2eb0ef8-7cf1-400f-9ebd-380c2b928994')\"\n",
              "            title=\"Convert this dataframe to an interactive table.\"\n",
              "            style=\"display:none;\">\n",
              "\n",
              "  <svg xmlns=\"http://www.w3.org/2000/svg\" height=\"24px\" viewBox=\"0 -960 960 960\">\n",
              "    <path d=\"M120-120v-720h720v720H120Zm60-500h600v-160H180v160Zm220 220h160v-160H400v160Zm0 220h160v-160H400v160ZM180-400h160v-160H180v160Zm440 0h160v-160H620v160ZM180-180h160v-160H180v160Zm440 0h160v-160H620v160Z\"/>\n",
              "  </svg>\n",
              "    </button>\n",
              "\n",
              "  <style>\n",
              "    .colab-df-container {\n",
              "      display:flex;\n",
              "      gap: 12px;\n",
              "    }\n",
              "\n",
              "    .colab-df-convert {\n",
              "      background-color: #E8F0FE;\n",
              "      border: none;\n",
              "      border-radius: 50%;\n",
              "      cursor: pointer;\n",
              "      display: none;\n",
              "      fill: #1967D2;\n",
              "      height: 32px;\n",
              "      padding: 0 0 0 0;\n",
              "      width: 32px;\n",
              "    }\n",
              "\n",
              "    .colab-df-convert:hover {\n",
              "      background-color: #E2EBFA;\n",
              "      box-shadow: 0px 1px 2px rgba(60, 64, 67, 0.3), 0px 1px 3px 1px rgba(60, 64, 67, 0.15);\n",
              "      fill: #174EA6;\n",
              "    }\n",
              "\n",
              "    .colab-df-buttons div {\n",
              "      margin-bottom: 4px;\n",
              "    }\n",
              "\n",
              "    [theme=dark] .colab-df-convert {\n",
              "      background-color: #3B4455;\n",
              "      fill: #D2E3FC;\n",
              "    }\n",
              "\n",
              "    [theme=dark] .colab-df-convert:hover {\n",
              "      background-color: #434B5C;\n",
              "      box-shadow: 0px 1px 3px 1px rgba(0, 0, 0, 0.15);\n",
              "      filter: drop-shadow(0px 1px 2px rgba(0, 0, 0, 0.3));\n",
              "      fill: #FFFFFF;\n",
              "    }\n",
              "  </style>\n",
              "\n",
              "    <script>\n",
              "      const buttonEl =\n",
              "        document.querySelector('#df-a2eb0ef8-7cf1-400f-9ebd-380c2b928994 button.colab-df-convert');\n",
              "      buttonEl.style.display =\n",
              "        google.colab.kernel.accessAllowed ? 'block' : 'none';\n",
              "\n",
              "      async function convertToInteractive(key) {\n",
              "        const element = document.querySelector('#df-a2eb0ef8-7cf1-400f-9ebd-380c2b928994');\n",
              "        const dataTable =\n",
              "          await google.colab.kernel.invokeFunction('convertToInteractive',\n",
              "                                                    [key], {});\n",
              "        if (!dataTable) return;\n",
              "\n",
              "        const docLinkHtml = 'Like what you see? Visit the ' +\n",
              "          '<a target=\"_blank\" href=https://colab.research.google.com/notebooks/data_table.ipynb>data table notebook</a>'\n",
              "          + ' to learn more about interactive tables.';\n",
              "        element.innerHTML = '';\n",
              "        dataTable['output_type'] = 'display_data';\n",
              "        await google.colab.output.renderOutput(dataTable, element);\n",
              "        const docLink = document.createElement('div');\n",
              "        docLink.innerHTML = docLinkHtml;\n",
              "        element.appendChild(docLink);\n",
              "      }\n",
              "    </script>\n",
              "  </div>\n",
              "\n",
              "\n",
              "<div id=\"df-0cb2d1a3-9a7f-47ef-b42e-75c28d216031\">\n",
              "  <button class=\"colab-df-quickchart\" onclick=\"quickchart('df-0cb2d1a3-9a7f-47ef-b42e-75c28d216031')\"\n",
              "            title=\"Suggest charts\"\n",
              "            style=\"display:none;\">\n",
              "\n",
              "<svg xmlns=\"http://www.w3.org/2000/svg\" height=\"24px\"viewBox=\"0 0 24 24\"\n",
              "     width=\"24px\">\n",
              "    <g>\n",
              "        <path d=\"M19 3H5c-1.1 0-2 .9-2 2v14c0 1.1.9 2 2 2h14c1.1 0 2-.9 2-2V5c0-1.1-.9-2-2-2zM9 17H7v-7h2v7zm4 0h-2V7h2v10zm4 0h-2v-4h2v4z\"/>\n",
              "    </g>\n",
              "</svg>\n",
              "  </button>\n",
              "\n",
              "<style>\n",
              "  .colab-df-quickchart {\n",
              "      --bg-color: #E8F0FE;\n",
              "      --fill-color: #1967D2;\n",
              "      --hover-bg-color: #E2EBFA;\n",
              "      --hover-fill-color: #174EA6;\n",
              "      --disabled-fill-color: #AAA;\n",
              "      --disabled-bg-color: #DDD;\n",
              "  }\n",
              "\n",
              "  [theme=dark] .colab-df-quickchart {\n",
              "      --bg-color: #3B4455;\n",
              "      --fill-color: #D2E3FC;\n",
              "      --hover-bg-color: #434B5C;\n",
              "      --hover-fill-color: #FFFFFF;\n",
              "      --disabled-bg-color: #3B4455;\n",
              "      --disabled-fill-color: #666;\n",
              "  }\n",
              "\n",
              "  .colab-df-quickchart {\n",
              "    background-color: var(--bg-color);\n",
              "    border: none;\n",
              "    border-radius: 50%;\n",
              "    cursor: pointer;\n",
              "    display: none;\n",
              "    fill: var(--fill-color);\n",
              "    height: 32px;\n",
              "    padding: 0;\n",
              "    width: 32px;\n",
              "  }\n",
              "\n",
              "  .colab-df-quickchart:hover {\n",
              "    background-color: var(--hover-bg-color);\n",
              "    box-shadow: 0 1px 2px rgba(60, 64, 67, 0.3), 0 1px 3px 1px rgba(60, 64, 67, 0.15);\n",
              "    fill: var(--button-hover-fill-color);\n",
              "  }\n",
              "\n",
              "  .colab-df-quickchart-complete:disabled,\n",
              "  .colab-df-quickchart-complete:disabled:hover {\n",
              "    background-color: var(--disabled-bg-color);\n",
              "    fill: var(--disabled-fill-color);\n",
              "    box-shadow: none;\n",
              "  }\n",
              "\n",
              "  .colab-df-spinner {\n",
              "    border: 2px solid var(--fill-color);\n",
              "    border-color: transparent;\n",
              "    border-bottom-color: var(--fill-color);\n",
              "    animation:\n",
              "      spin 1s steps(1) infinite;\n",
              "  }\n",
              "\n",
              "  @keyframes spin {\n",
              "    0% {\n",
              "      border-color: transparent;\n",
              "      border-bottom-color: var(--fill-color);\n",
              "      border-left-color: var(--fill-color);\n",
              "    }\n",
              "    20% {\n",
              "      border-color: transparent;\n",
              "      border-left-color: var(--fill-color);\n",
              "      border-top-color: var(--fill-color);\n",
              "    }\n",
              "    30% {\n",
              "      border-color: transparent;\n",
              "      border-left-color: var(--fill-color);\n",
              "      border-top-color: var(--fill-color);\n",
              "      border-right-color: var(--fill-color);\n",
              "    }\n",
              "    40% {\n",
              "      border-color: transparent;\n",
              "      border-right-color: var(--fill-color);\n",
              "      border-top-color: var(--fill-color);\n",
              "    }\n",
              "    60% {\n",
              "      border-color: transparent;\n",
              "      border-right-color: var(--fill-color);\n",
              "    }\n",
              "    80% {\n",
              "      border-color: transparent;\n",
              "      border-right-color: var(--fill-color);\n",
              "      border-bottom-color: var(--fill-color);\n",
              "    }\n",
              "    90% {\n",
              "      border-color: transparent;\n",
              "      border-bottom-color: var(--fill-color);\n",
              "    }\n",
              "  }\n",
              "</style>\n",
              "\n",
              "  <script>\n",
              "    async function quickchart(key) {\n",
              "      const quickchartButtonEl =\n",
              "        document.querySelector('#' + key + ' button');\n",
              "      quickchartButtonEl.disabled = true;  // To prevent multiple clicks.\n",
              "      quickchartButtonEl.classList.add('colab-df-spinner');\n",
              "      try {\n",
              "        const charts = await google.colab.kernel.invokeFunction(\n",
              "            'suggestCharts', [key], {});\n",
              "      } catch (error) {\n",
              "        console.error('Error during call to suggestCharts:', error);\n",
              "      }\n",
              "      quickchartButtonEl.classList.remove('colab-df-spinner');\n",
              "      quickchartButtonEl.classList.add('colab-df-quickchart-complete');\n",
              "    }\n",
              "    (() => {\n",
              "      let quickchartButtonEl =\n",
              "        document.querySelector('#df-0cb2d1a3-9a7f-47ef-b42e-75c28d216031 button');\n",
              "      quickchartButtonEl.style.display =\n",
              "        google.colab.kernel.accessAllowed ? 'block' : 'none';\n",
              "    })();\n",
              "  </script>\n",
              "</div>\n",
              "    </div>\n",
              "  </div>\n"
            ],
            "application/vnd.google.colaboratory.intrinsic+json": {
              "type": "dataframe",
              "variable_name": "x",
              "summary": "{\n  \"name\": \"x\",\n  \"rows\": 148,\n  \"fields\": [\n    {\n      \"column\": \"property_rooms\",\n      \"properties\": {\n        \"dtype\": \"number\",\n        \"std\": 1.4611944329224145,\n        \"min\": 1.0,\n        \"max\": 10.0,\n        \"num_unique_values\": 9,\n        \"samples\": [\n          7.0,\n          4.0,\n          1.0\n        ],\n        \"semantic_type\": \"\",\n        \"description\": \"\"\n      }\n    },\n    {\n      \"column\": \"property_bedrooms\",\n      \"properties\": {\n        \"dtype\": \"number\",\n        \"std\": 1.185730566944088,\n        \"min\": 0.0,\n        \"max\": 10.0,\n        \"num_unique_values\": 6,\n        \"samples\": [\n          2.0,\n          3.0,\n          0.0\n        ],\n        \"semantic_type\": \"\",\n        \"description\": \"\"\n      }\n    }\n  ]\n}"
            }
          },
          "metadata": {},
          "execution_count": 36
        }
      ]
    },
    {
      "cell_type": "code",
      "source": [
        "kmeans = KMeans(n_clusters=6)\n",
        "kmeans.fit(x)\n",
        "identified_clusters = kmeans.fit_predict(x)"
      ],
      "metadata": {
        "id": "w7JaaedTgLga"
      },
      "execution_count": 37,
      "outputs": []
    },
    {
      "cell_type": "markdown",
      "source": [
        "Un grafico de la relacion entre"
      ],
      "metadata": {
        "id": "umj-yMPq6JCM"
      }
    },
    {
      "cell_type": "code",
      "source": [
        "data_with_clusters = df_clust.copy()\n",
        "data_with_clusters['cluster'] = identified_clusters\n",
        "plt.figure(figsize=(10,6))\n",
        "plt.scatter(data_with_clusters[\"property_rooms\"], data_with_clusters[\"property_bedrooms\"], c=data_with_clusters[\"cluster\"], cmap='rainbow')\n",
        "plt.show()"
      ],
      "metadata": {
        "colab": {
          "base_uri": "https://localhost:8080/",
          "height": 522
        },
        "id": "UrZv5vAXS1ds",
        "outputId": "e134b49a-d597-4ca6-e477-628524439790"
      },
      "execution_count": 38,
      "outputs": [
        {
          "output_type": "display_data",
          "data": {
            "text/plain": [
              "<Figure size 1000x600 with 1 Axes>"
            ],
            "image/png": "[encoded data removed]"
          },
          "metadata": {}
        }
      ]
    },
    {
      "cell_type": "markdown",
      "source": [
        "# b) Estimar la cantidad apropiada de grupos que se deben formar."
      ],
      "metadata": {
        "id": "MoS1Dk5N4Kxs"
      }
    },
    {
      "cell_type": "markdown",
      "source": [
        "Para este punto usaremos el Elbow Method:"
      ],
      "metadata": {
        "id": "RTTuuLgS4Tos"
      }
    },
    {
      "cell_type": "code",
      "source": [
        "distancias_prom = []\n",
        "for i in range(1,10):\n",
        "  kmeans = KMeans(i)\n",
        "  kmeans.fit(x)\n",
        "  iner = kmeans.inertia_\n",
        "  distancias_prom.append(iner)\n",
        "\n",
        "cant_clust = range(1,10)\n",
        "plt.figure(figsize=(6,4))\n",
        "plt.plot(cant_clust,distancias_prom)\n",
        "plt.title('Elbow Method')\n",
        "plt.xlabel('Cantidad de Clusters')\n",
        "plt.ylabel('Distancia promedio al centroide')"
      ],
      "metadata": {
        "colab": {
          "base_uri": "https://localhost:8080/",
          "height": 427
        },
        "id": "VjaUYyMCy69b",
        "outputId": "79748807-92c3-4589-9c39-e34aba87fd83"
      },
      "execution_count": 39,
      "outputs": [
        {
          "output_type": "execute_result",
          "data": {
            "text/plain": [
              "Text(0, 0.5, 'Distancia promedio al centroide')"
            ]
          },
          "metadata": {},
          "execution_count": 39
        },
        {
          "output_type": "display_data",
          "data": {
            "text/plain": [
              "<Figure size 600x400 with 1 Axes>"
            ],
            "image/png": "[encoded data removed]"
          },
          "metadata": {}
        }
      ]
    },
    {
      "cell_type": "markdown",
      "source": [
        "En base al gráfico podemos deducir que utilizar 4 clusters sería lo ideal"
      ],
      "metadata": {
        "id": "JfEiFfoR31Pv"
      }
    },
    {
      "cell_type": "code",
      "source": [
        "from sklearn.metrics import silhouette_score\n",
        "\n",
        "list_k = list(range(2,6))\n",
        "\n",
        "for n in list_k:\n",
        "  clusterer = KMeans(n_clusters=n)\n",
        "  preds = clusterer.fit_predict(x)\n",
        "\n",
        "  score = silhouette_score(x,preds)\n",
        "  print('For n =' + str(n) + 'silhouette score is ' + str(score))"
      ],
      "metadata": {
        "colab": {
          "base_uri": "https://localhost:8080/"
        },
        "id": "eLAAj2xMPh1h",
        "outputId": "011bdd27-1646-483e-b910-1e02e449beb5"
      },
      "execution_count": 40,
      "outputs": [
        {
          "output_type": "stream",
          "name": "stdout",
          "text": [
            "For n =2silhouette score is 0.6144498913449523\n",
            "For n =3silhouette score is 0.669451983432148\n",
            "For n =4silhouette score is 0.7182138510300524\n",
            "For n =5silhouette score is 0.7287916094342692\n"
          ]
        }
      ]
    },
    {
      "cell_type": "code",
      "source": [
        "from yellowbrick.cluster import SilhouetteVisualizer\n",
        "for i in range(2,6):\n",
        "  model = KMeans(n_clusters=2,random_state=0)\n",
        "  visualizer = SilhouetteVisualizer(model, colors='yellowbrick')\n",
        "  visualizer.fit(x)\n",
        "  plt.show()"
      ],
      "metadata": {
        "colab": {
          "base_uri": "https://localhost:8080/",
          "height": 1000
        },
        "id": "kSDGHZuoZ_6t",
        "outputId": "9dc693eb-55bd-4ca1-c3ea-52524e53788c"
      },
      "execution_count": 41,
      "outputs": [
        {
          "output_type": "display_data",
          "data": {
            "text/plain": [
              "<Figure size 800x550 with 1 Axes>"
            ],
            "image/png": "[encoded data removed]"
          },
          "metadata": {}
        },
        {
          "output_type": "display_data",
          "data": {
            "text/plain": [
              "<Figure size 800x550 with 1 Axes>"
            ],
            "image/png": "[encoded data removed]"
          },
          "metadata": {}
        },
        {
          "output_type": "display_data",
          "data": {
            "text/plain": [
              "<Figure size 800x550 with 1 Axes>"
            ],
            "image/png": "[encoded data removed]"
          },
          "metadata": {}
        },
        {
          "output_type": "display_data",
          "data": {
            "text/plain": [
              "<Figure size 800x550 with 1 Axes>"
            ],
            "image/png": "[encoded data removed]"
          },
          "metadata": {}
        }
      ]
    }
  ]
}