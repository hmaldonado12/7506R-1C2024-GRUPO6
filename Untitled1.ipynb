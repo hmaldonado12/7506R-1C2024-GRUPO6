{
  "nbformat": 4,
  "nbformat_minor": 0,
  "metadata": {
    "colab": {
      "provenance": [],
      "authorship_tag": "ABX9TyMQxDo6/vHt9bs2kz52gs0e",
      "include_colab_link": true
    },
    "kernelspec": {
      "name": "python3",
      "display_name": "Python 3"
    },
    "language_info": {
      "name": "python"
    }
  },
  "cells": [
    {
      "cell_type": "markdown",
      "metadata": {
        "id": "view-in-github",
        "colab_type": "text"
      },
      "source": [
        "<a href=\"https://colab.research.google.com/github/hmaldonado12/7506R-1C2024-GRUPO6/blob/main/Untitled1.ipynb\" target=\"_parent\"><img src=\"https://colab.research.google.com/assets/colab-badge.svg\" alt=\"Open In Colab\"/></a>"
      ]
    },
    {
      "cell_type": "code",
      "execution_count": null,
      "metadata": {
        "id": "W2EC8PrRDrWb"
      },
      "outputs": [],
      "source": [
        "print(\"prueba\")"
      ]
    },
    {
      "cell_type": "markdown",
      "source": [
        "fsdfsadfasd"
      ],
      "metadata": {
        "id": "Ob8JGZftEPy6"
      }
    },
    {
      "cell_type": "markdown",
      "source": [
        "dfadsfads"
      ],
      "metadata": {
        "id": "LIAwBs3MEUns"
      }
    },
    {
      "cell_type": "markdown",
      "source": [
        "fasdfadsfasd"
      ],
      "metadata": {
        "id": "lgwaa8hDEVKg"
      }
    },
    {
      "cell_type": "markdown",
      "source": [
        "fdadfadsfasdfasd"
      ],
      "metadata": {
        "id": "Vk7c6PiaEV-x"
      }
    },
    {
      "cell_type": "markdown",
      "source": [
        "sfvsdfgvsdfva"
      ],
      "metadata": {
        "id": "xMzZ-1fbEgYD"
      }
    },
    {
      "cell_type": "markdown",
      "source": [],
      "metadata": {
        "id": "gXIfdpAvEiRr"
      }
    }
  ]
}