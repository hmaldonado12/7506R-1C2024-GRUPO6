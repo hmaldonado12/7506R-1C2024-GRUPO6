{
  "nbformat": 4,
  "nbformat_minor": 0,
  "metadata": {
    "colab": {
      "provenance": [],
      "authorship_tag": "ABX9TyNN2WDo9vq9GTRynEEFy8m4",
      "include_colab_link": true
    },
    "kernelspec": {
      "name": "python3",
      "display_name": "Python 3"
    },
    "language_info": {
      "name": "python"
    }
  },
  "cells": [
    {
      "cell_type": "markdown",
      "metadata": {
        "id": "view-in-github",
        "colab_type": "text"
      },
      "source": [
        "<a href=\"https://colab.research.google.com/github/hmaldonado12/7506R-1C2024-GRUPO6/blob/main/Copia_de_7506R_TP1_GRUPO06_ENTREGA.ipynb\" target=\"_parent\"><img src=\"https://colab.research.google.com/assets/colab-badge.svg\" alt=\"Open In Colab\"/></a>"
      ]
    },
    {
      "cell_type": "code",
      "execution_count": null,
      "metadata": {
        "id": "Qs0NE1dJ0TF-"
      },
      "outputs": [],
      "source": [
        "print(\"hola\")"
      ]
    },
    {
      "cell_type": "markdown",
      "source": [
        "fgfdgsdfgsdf"
      ],
      "metadata": {
        "id": "N9rAuLh9Fj7f"
      }
    },
    {
      "cell_type": "markdown",
      "source": [
        "gsdfgsdfgsdf"
      ],
      "metadata": {
        "id": "fh2BSG-1Fkwc"
      }
    },
    {
      "cell_type": "markdown",
      "source": [
        "gdfgsdfgsdfgs"
      ],
      "metadata": {
        "id": "fdwIqHMPFli9"
      }
    },
    {
      "cell_type": "markdown",
      "source": [
        "gsdfgsdfgsdf"
      ],
      "metadata": {
        "id": "JPEHZV6UFmJh"
      }
    },
    {
      "cell_type": "markdown",
      "source": [
        "gsdfgsdfgs"
      ],
      "metadata": {
        "id": "WATlWKsPFmyj"
      }
    }
  ]
}