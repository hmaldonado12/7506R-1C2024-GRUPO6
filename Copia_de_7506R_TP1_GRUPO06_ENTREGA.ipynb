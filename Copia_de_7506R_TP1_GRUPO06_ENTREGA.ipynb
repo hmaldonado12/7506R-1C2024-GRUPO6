{
  "nbformat": 4,
  "nbformat_minor": 0,
  "metadata": {
    "colab": {
      "provenance": [],
      "authorship_tag": "ABX9TyMyESdflSW6nzjRmOfVsQTY",
      "include_colab_link": true
    },
    "kernelspec": {
      "name": "python3",
      "display_name": "Python 3"
    },
    "language_info": {
      "name": "python"
    }
  },
  "cells": [
    {
      "cell_type": "markdown",
      "metadata": {
        "id": "view-in-github",
        "colab_type": "text"
      },
      "source": [
        "<a href=\"https://colab.research.google.com/github/hmaldonado12/7506R-1C2024-GRUPO6/blob/main/Copia_de_7506R_TP1_GRUPO06_ENTREGA.ipynb\" target=\"_parent\"><img src=\"https://colab.research.google.com/assets/colab-badge.svg\" alt=\"Open In Colab\"/></a>"
      ]
    },
    {
      "cell_type": "markdown",
      "source": [
        "## **1. Análisis Exploratorio y Preprocesamiento de Datos**\n",
        "El primer paso consiste en la selección de los datos que se van a utilizar, se deben filtrar\n",
        "únicamente los anuncios de propiedades de tipo vivienda ( Casa, PH y Departamento ) ubicados\n",
        "en Capital Federal cuyo tipo de operación sea venta y su precio se encuentre en dólares (USD).\n",
        "Se debe separar un conjunto de entrenamiento (80%) y un conjunto de test (20%)."
      ],
      "metadata": {
        "id": "N9rAuLh9Fj7f"
      }
    },
    {
      "cell_type": "markdown",
      "source": [
        "#### **PREPRACION DE LOS DATOS**\n",
        "Crear un nuevo dataset que contemplen los siguientes atributos :\n",
        "- Tipos de vivienda : Casa, Ph Y Departamentos\n",
        "- Moneda de transacción : Dolares (USD)\n",
        "- Ubicacion : Capital Federal"
      ],
      "metadata": {
        "id": "fh2BSG-1Fkwc"
      }
    },
    {
      "cell_type": "markdown",
      "source": [
        "##### **1.1 Mostrar informacion del dataset con los filtros requeridos del enunciado**"
      ],
      "metadata": {
        "id": "fdwIqHMPFli9"
      }
    },
    {
      "cell_type": "code",
      "source": [
        "import pandas as pd\n",
        "properties_argentina = pd.read_csv('properati_argentina_2021.csv')\n",
        "\n",
        "attributes_list = [\"property_type\", \"operation\", \"property_currency\", \"place_l2\"]\n",
        "conditions_list = [[\"Casa\", \"PH\",\"Departamento\"],[\"Venta\"],[\"USD\"],[\"Capital Federal\"]]\n",
        "\n",
        "def get_dataframe_by(data, attributes: list, conditions: list):\n",
        "    is_casa = data[attributes[0]] == conditions[0][0]\n",
        "    is_ph = data[attributes[0]] == conditions[0][1]\n",
        "    is_departamento = data[attributes[0]] == conditions[0][2]\n",
        "    is_operation_venta = data[attributes[1]] == conditions[1][0]\n",
        "    is_property_currency_usd = data[attributes[2]] == conditions[2][0]\n",
        "    is_place_l2_capital_federal = data[attributes[3]] == conditions[3][0]\n",
        "    return data[(is_casa | is_ph | is_departamento) & is_operation_venta & is_property_currency_usd & is_place_l2_capital_federal]\n",
        "\n",
        "properties_argentina_filtered = get_dataframe_by(properties_argentina, attributes_list, conditions_list)\n",
        "properties_argentina_filtered.info()"
      ],
      "metadata": {
        "colab": {
          "base_uri": "https://localhost:8080/"
        },
        "id": "QJY9068JGTHE",
        "outputId": "d6387542-65dc-4827-869f-54e83aa1fec0"
      },
      "execution_count": 1,
      "outputs": [
        {
          "output_type": "stream",
          "name": "stdout",
          "text": [
            "<class 'pandas.core.frame.DataFrame'>\n",
            "Int64Index: 2175 entries, 25 to 10305\n",
            "Data columns (total 20 columns):\n",
            " #   Column                    Non-Null Count  Dtype  \n",
            "---  ------                    --------------  -----  \n",
            " 0   id                        2175 non-null   object \n",
            " 1   start_date                2175 non-null   object \n",
            " 2   end_date                  2175 non-null   object \n",
            " 3   created_on                2175 non-null   object \n",
            " 4   latitud                   2076 non-null   float64\n",
            " 5   longitud                  2076 non-null   float64\n",
            " 6   place_l2                  2175 non-null   object \n",
            " 7   place_l3                  2164 non-null   object \n",
            " 8   place_l4                  103 non-null    object \n",
            " 9   place_l5                  0 non-null      object \n",
            " 10  place_l6                  0 non-null      float64\n",
            " 11  operation                 2175 non-null   object \n",
            " 12  property_type             2175 non-null   object \n",
            " 13  property_rooms            2128 non-null   float64\n",
            " 14  property_bedrooms         1956 non-null   float64\n",
            " 15  property_surface_total    2058 non-null   float64\n",
            " 16  property_surface_covered  2088 non-null   float64\n",
            " 17  property_price            2175 non-null   float64\n",
            " 18  property_currency         2175 non-null   object \n",
            " 19  property_title            2175 non-null   object \n",
            "dtypes: float64(8), object(12)\n",
            "memory usage: 356.8+ KB\n"
          ]
        }
      ]
    }
  ]
}